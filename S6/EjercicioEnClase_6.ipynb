{
 "cells": [
  {
   "cell_type": "markdown",
   "id": "32ac5a42",
   "metadata": {},
   "source": [
    "# Ejercicio en clase 6\n",
    "\n",
    "##### Dataset de Peajes (Exploración, Limpieza, Combinación, visualización en mapa)\n",
    "\n",
    "https://www.kaggle.com/datasets/martinaltamar/historico-peajes-colombia-trafico-y-recaudo\n",
    "\n",
    "https://geoportal.dane.gov.co/servicios/descarga-y-metadatos/datos-geoestadisticos/?cod=4\n",
    "\n",
    "\n",
    "Usando la información de los siguientes enlaces:\n",
    "\n",
    "Dataset de Kaggle: Historico Peajes Colombia - Tráfico y Recaudo\n",
    "Datos Geoespaciales del DANE: Descarga y Metadatos - Datos Geoestadísticos de Colombia\n",
    "\n",
    "Tu tarea es crear un mapa interactivo donde se puedan visualizar los peajes registrados en Colombia. Utiliza los datos proporcionados en el dataset de Kaggle para obtener la información relevante sobre los peajes, como su ubicación geoespacial y otros atributos pertinentes. Luego, utiliza los datos geoespaciales del DANE para representar correctamente la geografía de Colombia en el mapa.\n",
    "\n",
    "Puedes hacer uso de la biblioteca Folium en Python para la visualización del mapa interactivo. Asegúrate de incluir marcadores para cada peaje con información relevante que permita a los usuarios explorar los detalles de cada ubicación de peaje.\n",
    "\n",
    "Además, considera utilizar colores o tamaños de marcadores para resaltar características específicas de los peajes, como la tarifa"
   ]
  },
  {
   "cell_type": "markdown",
   "id": "702c3c5c",
   "metadata": {},
   "source": [
    "## Usando Folium"
   ]
  },
  {
   "cell_type": "markdown",
   "id": "a3ae9797",
   "metadata": {},
   "source": [
    "##### 💡 Recuerde instalar la librería\n",
    "\n",
    "### Referencias \n",
    "\n",
    "- https://github.com/python-visualization/folium\n",
    "- https://python-visualization.github.io/folium/\n",
    "- https://nbviewer.org/github/python-visualization/folium/tree/main/examples/"
   ]
  },
  {
   "cell_type": "code",
   "execution_count": null,
   "id": "3869507a",
   "metadata": {},
   "outputs": [],
   "source": [
    "!pip install folium"
   ]
  },
  {
   "cell_type": "code",
   "execution_count": 2,
   "id": "9e64a204",
   "metadata": {},
   "outputs": [],
   "source": [
    "import pandas as pd\n",
    "import folium\n",
    "\n",
    "# Crear un DataFrame con las coordenadas geográficas de las ciudades principales de Colombia\n",
    "data = {\n",
    "    'City': ['SOACHA', 'Medellín', 'Cali', 'Barranquilla', 'Cartagena'],\n",
    "    'Latitude': [4.582774107987474, 6.2518402, 3.42158, 10.963889, 10.39972],\n",
    "    'Longitude': [-74.21259167224173, -75.5635918, -76.5205, -74.796389, -75.51444]\n",
    "}\n",
    "df = pd.DataFrame(data)\n",
    "\n",
    "# Crear un mapa de Folium centrado en Colombia\n",
    "m = folium.Map(location=[4.6482837, -74.2478935], zoom_start=6)\n",
    "\n",
    "# Agregar marcadores para cada ciudad al mapa\n",
    "for index, row in df.iterrows():\n",
    "    folium.Marker(\n",
    "        location=[row['Latitude'], row['Longitude']],\n",
    "        popup=row['City'],\n",
    "        icon=folium.Icon(icon='cloud')  # Puedes cambiar el icono aquí\n",
    "    ).add_to(m)\n",
    "\n",
    "# Mostrar el mapa\n",
    "m.save('map_colombia_cities.html')  # Guardar el mapa en un archivo HTML\n",
    "\n",
    "#m.show_in_browser()"
   ]
  },
  {
   "cell_type": "code",
   "execution_count": 7,
   "id": "57404072",
   "metadata": {},
   "outputs": [
    {
     "data": {
      "text/html": [
       "<div>\n",
       "<style scoped>\n",
       "    .dataframe tbody tr th:only-of-type {\n",
       "        vertical-align: middle;\n",
       "    }\n",
       "\n",
       "    .dataframe tbody tr th {\n",
       "        vertical-align: top;\n",
       "    }\n",
       "\n",
       "    .dataframe thead th {\n",
       "        text-align: right;\n",
       "    }\n",
       "</style>\n",
       "<table border=\"1\" class=\"dataframe\">\n",
       "  <thead>\n",
       "    <tr style=\"text-align: right;\">\n",
       "      <th></th>\n",
       "      <th>Ciudad</th>\n",
       "      <th>Latitud</th>\n",
       "      <th>Longitud</th>\n",
       "    </tr>\n",
       "  </thead>\n",
       "  <tbody>\n",
       "    <tr>\n",
       "      <th>0</th>\n",
       "      <td>SOACHA</td>\n",
       "      <td>4.582774</td>\n",
       "      <td>-74.212592</td>\n",
       "    </tr>\n",
       "    <tr>\n",
       "      <th>1</th>\n",
       "      <td>NEIVA</td>\n",
       "      <td>2.935250</td>\n",
       "      <td>-75.281013</td>\n",
       "    </tr>\n",
       "    <tr>\n",
       "      <th>2</th>\n",
       "      <td>MOSQUERA (CUN)</td>\n",
       "      <td>4.709222</td>\n",
       "      <td>-74.226543</td>\n",
       "    </tr>\n",
       "    <tr>\n",
       "      <th>3</th>\n",
       "      <td>SOPO</td>\n",
       "      <td>4.908816</td>\n",
       "      <td>-73.940157</td>\n",
       "    </tr>\n",
       "    <tr>\n",
       "      <th>4</th>\n",
       "      <td>MADRID</td>\n",
       "      <td>4.734119</td>\n",
       "      <td>-74.263045</td>\n",
       "    </tr>\n",
       "    <tr>\n",
       "      <th>...</th>\n",
       "      <td>...</td>\n",
       "      <td>...</td>\n",
       "      <td>...</td>\n",
       "    </tr>\n",
       "    <tr>\n",
       "      <th>322</th>\n",
       "      <td>CAÑASGORDAS</td>\n",
       "      <td>6.749890</td>\n",
       "      <td>-76.025390</td>\n",
       "    </tr>\n",
       "    <tr>\n",
       "      <th>323</th>\n",
       "      <td>EL PEÑOL</td>\n",
       "      <td>1.453650</td>\n",
       "      <td>-77.440170</td>\n",
       "    </tr>\n",
       "    <tr>\n",
       "      <th>324</th>\n",
       "      <td>LA PAZ (CES)</td>\n",
       "      <td>10.384390</td>\n",
       "      <td>-73.173320</td>\n",
       "    </tr>\n",
       "    <tr>\n",
       "      <th>325</th>\n",
       "      <td>FILANDIA</td>\n",
       "      <td>4.674720</td>\n",
       "      <td>-75.658330</td>\n",
       "    </tr>\n",
       "    <tr>\n",
       "      <th>326</th>\n",
       "      <td>PIVIJAY</td>\n",
       "      <td>10.461670</td>\n",
       "      <td>-74.616210</td>\n",
       "    </tr>\n",
       "  </tbody>\n",
       "</table>\n",
       "<p>327 rows × 3 columns</p>\n",
       "</div>"
      ],
      "text/plain": [
       "             Ciudad    Latitud   Longitud\n",
       "0            SOACHA   4.582774 -74.212592\n",
       "1             NEIVA   2.935250 -75.281013\n",
       "2    MOSQUERA (CUN)   4.709222 -74.226543\n",
       "3              SOPO   4.908816 -73.940157\n",
       "4            MADRID   4.734119 -74.263045\n",
       "..              ...        ...        ...\n",
       "322     CAÑASGORDAS   6.749890 -76.025390\n",
       "323        EL PEÑOL   1.453650 -77.440170\n",
       "324    LA PAZ (CES)  10.384390 -73.173320\n",
       "325        FILANDIA   4.674720 -75.658330\n",
       "326         PIVIJAY  10.461670 -74.616210\n",
       "\n",
       "[327 rows x 3 columns]"
      ]
     },
     "execution_count": 7,
     "metadata": {},
     "output_type": "execute_result"
    }
   ],
   "source": [
    "data"
   ]
  },
  {
   "cell_type": "code",
   "execution_count": 8,
   "id": "adc16e2d",
   "metadata": {},
   "outputs": [],
   "source": [
    "data = pd.read_csv('archive/DatasetCoordenadas.csv', sep=',')\n",
    "df = pd.DataFrame(data)\n",
    "\n",
    "# Crear un mapa de Folium centrado en Colombia\n",
    "m = folium.Map(location=[4.6482837, -74.2478935], zoom_start=6)\n",
    "\n",
    "# Agregar marcadores para cada ciudad al mapa\n",
    "for index, row in df.iterrows():\n",
    "    folium.Marker(\n",
    "        location=[row['Latitud'], row['Longitud']],\n",
    "        popup=row['Ciudad'],\n",
    "        icon=folium.Icon(icon='cloud')  # Puedes cambiar el icono aquí\n",
    "    ).add_to(m)\n",
    "\n",
    "# Mostrar el mapa\n",
    "m.save('map_colombia_cities_2.html') "
   ]
  },
  {
   "cell_type": "markdown",
   "id": "c08dd721",
   "metadata": {},
   "source": [
    "# Mapa con marcadores:"
   ]
  },
  {
   "cell_type": "code",
   "execution_count": null,
   "id": "ff83be9c",
   "metadata": {
    "scrolled": true
   },
   "outputs": [],
   "source": [
    "import folium\n",
    "\n",
    "# Crear un mapa centrado en una ubicación específica\n",
    "mapa = folium.Map(location=[4.60971, -74.08175], zoom_start=10)\n",
    "\n",
    "# Agregar marcadores en diferentes ubicaciones\n",
    "folium.Marker([4.60971, -74.08175], popup='Bogotá').add_to(mapa)\n",
    "folium.Marker([6.24420, -75.58120], popup='Medellín').add_to(mapa)\n",
    "folium.Marker([10.39105, -75.47971], popup='Cartagena').add_to(mapa)\n",
    "\n",
    "# Mostrar el mapa interactivo\n",
    "mapa.save('mapa_marcadores.html')\n",
    "\n",
    "# Mostrar el mapa interactivo en el notebook\n",
    "display(mapa)"
   ]
  },
  {
   "cell_type": "markdown",
   "id": "5162d3fc",
   "metadata": {},
   "source": [
    "# Mapa de calor:"
   ]
  },
  {
   "cell_type": "code",
   "execution_count": null,
   "id": "e24962d7",
   "metadata": {
    "scrolled": true
   },
   "outputs": [],
   "source": [
    "import folium\n",
    "from folium.plugins import HeatMap\n",
    "\n",
    "# Crear un mapa centrado en una ubicación específica\n",
    "mapa = folium.Map(location=[4.60971, -74.08175], zoom_start=10)\n",
    "\n",
    "# Datos de ejemplo con ubicaciones y pesos\n",
    "datos = [[4.60971, -74.08175, 10], [6.24420, -75.58120, 5], [10.39105, -75.47971, 15]]\n",
    "\n",
    "# Agregar el mapa de calor con los datos\n",
    "HeatMap(datos).add_to(mapa)\n",
    "\n",
    "# Mostrar el mapa interactivo\n",
    "mapa.save('mapa_calor.html')\n",
    "\n",
    "# Mostrar el mapa interactivo en el notebook\n",
    "display(mapa)"
   ]
  },
  {
   "cell_type": "markdown",
   "id": "d7eb986a",
   "metadata": {},
   "source": [
    "# Mapa con polígonos:"
   ]
  },
  {
   "cell_type": "code",
   "execution_count": null,
   "id": "30ca7a0d",
   "metadata": {
    "scrolled": true
   },
   "outputs": [],
   "source": [
    "import folium\n",
    "\n",
    "# Crear un mapa centrado en una ubicación específica\n",
    "mapa = folium.Map(location=[4.60971, -74.08175], zoom_start=10)\n",
    "\n",
    "# Datos de ejemplo con coordenadas de los vértices de un polígono\n",
    "vertices = [[4.5, -74.0], [4.7, -74.0], [4.7, -73.8], [4.5, -73.8]]\n",
    "\n",
    "# Agregar un polígono al mapa\n",
    "folium.Polygon(locations=vertices, color='blue', fill=True, fill_color='blue').add_to(mapa)\n",
    "\n",
    "# Mostrar el mapa interactivo\n",
    "mapa.save('mapa_poligono.html')\n",
    "\n",
    "# Mostrar el mapa interactivo en el notebook\n",
    "display(mapa)"
   ]
  },
  {
   "cell_type": "code",
   "execution_count": null,
   "id": "2fc9e8b6",
   "metadata": {
    "scrolled": true
   },
   "outputs": [],
   "source": [
    "import folium\n",
    "\n",
    "# Crear un mapa centrado en una ubicación específica\n",
    "mapa = folium.Map(location=[4.60971, -74.08175], zoom_start=10)\n",
    "\n",
    "# Agregar marcadores en diferentes ubicaciones con contenido personalizado para el popup\n",
    "folium.Marker([4.60971, -74.08175], popup='Bogotá - Capital de Colombia').add_to(mapa)\n",
    "folium.Marker([6.24420, -75.58120], popup='Medellín - Ciudad de la eterna primavera').add_to(mapa)\n",
    "folium.Marker([10.39105, -75.47971], popup='Cartagena - Ciudad amurallada').add_to(mapa)\n",
    "\n",
    "# Mostrar el mapa interactivo en el notebook\n",
    "display(mapa)\n"
   ]
  },
  {
   "cell_type": "code",
   "execution_count": null,
   "id": "c3ddd32d",
   "metadata": {
    "scrolled": true
   },
   "outputs": [],
   "source": [
    "import folium\n",
    "\n",
    "# Crear un mapa centrado en una ubicación específica\n",
    "mapa = folium.Map(location=[4.60971, -74.08175], zoom_start=10)\n",
    "\n",
    "# Agregar un marcador con un icono predefinido (en este caso, un ícono de estrella)\n",
    "folium.Marker([4.60971, -74.08175], popup='Bogotá', icon=folium.Icon(icon='star')).add_to(mapa)\n",
    "\n",
    "# Mostrar el mapa interactivo en el notebook\n",
    "display(mapa)\n"
   ]
  },
  {
   "cell_type": "code",
   "execution_count": null,
   "id": "dea0480e",
   "metadata": {},
   "outputs": [],
   "source": [
    "import folium\n",
    "\n",
    "# Crear un mapa centrado en una ubicación específica\n",
    "mapa = folium.Map(location=[4.60971, -74.08175], zoom_start=10)\n",
    "\n",
    "# Definir la ruta del archivo de imagen del icono personalizado\n",
    "ruta_icono_personalizado = 'dolar.png'\n",
    "\n",
    "# Crear un objeto Icon con el icono personalizado\n",
    "icono_personalizado = folium.CustomIcon(icon_image=ruta_icono_personalizado, icon_size=(30, 30))\n",
    "\n",
    "# Agregar un marcador con el icono personalizado\n",
    "folium.Marker([4.60971, -74.08175], popup='Bogotá', icon=icono_personalizado).add_to(mapa)\n",
    "\n",
    "# Mostrar el mapa interactivo en el notebook\n",
    "display(mapa)"
   ]
  },
  {
   "cell_type": "code",
   "execution_count": null,
   "id": "420f006b",
   "metadata": {},
   "outputs": [],
   "source": [
    "import folium\n",
    "\n",
    "# Crear un mapa centrado en una ubicación específica\n",
    "mapa = folium.Map(location=[4.60971, -74.08175], zoom_start=10)\n",
    "\n",
    "# Agregar marcadores en diferentes ubicaciones\n",
    "folium.Marker([4.60971, -74.08175], popup='Bogotá').add_to(mapa)\n",
    "folium.Marker([6.24420, -75.58120], popup='Medellín').add_to(mapa)\n",
    "\n",
    "# Coordenadas de los puntos para trazar la línea\n",
    "coordenadas_linea = [[4.60971, -74.08175], [6.24420, -75.58120]]\n",
    "\n",
    "# Agregar la línea que conecta los dos puntos\n",
    "folium.PolyLine(locations=coordenadas_linea, color='blue').add_to(mapa)\n",
    "\n",
    "# Mostrar el mapa interactivo en el notebook\n",
    "display(mapa)\n"
   ]
  },
  {
   "cell_type": "code",
   "execution_count": null,
   "id": "ec84fe8e",
   "metadata": {},
   "outputs": [],
   "source": [
    "import folium\n",
    "from geopy.distance import geodesic\n",
    "\n",
    "# Crear un mapa centrado en una ubicación específica\n",
    "mapa = folium.Map(location=[4.60971, -74.08175], zoom_start=6)\n",
    "\n",
    "# Agregar marcadores en diferentes ubicaciones\n",
    "bogota_coords = [4.60971, -74.08175]\n",
    "medellin_coords = [6.24420, -75.58120]\n",
    "folium.Marker(bogota_coords, popup='Bogotá').add_to(mapa)\n",
    "folium.Marker(medellin_coords, popup='Medellín').add_to(mapa)\n",
    "\n",
    "# Coordenadas de los puntos para trazar la línea\n",
    "coordenadas_linea = [bogota_coords, medellin_coords]\n",
    "\n",
    "# Agregar la línea que conecta los dos puntos\n",
    "folium.PolyLine(locations=coordenadas_linea, color='blue').add_to(mapa)\n",
    "\n",
    "# Calcular la distancia entre los dos puntos en kilómetros\n",
    "distancia_km = geodesic(bogota_coords, medellin_coords).kilometers\n",
    "\n",
    "# Agregar texto con la distancia en el punto medio de la línea\n",
    "medio_linea = [(bogota_coords[0] + medellin_coords[0]) / 2, (bogota_coords[1] + medellin_coords[1]) / 2]\n",
    "\n",
    "folium.Marker(location=medio_linea, icon=folium.DivIcon(html=f\"<div =\\\"background-color:white\\\">{distancia_km:.2f} km</div>\")).add_to(mapa)\n",
    "\n",
    "# Mostrar el mapa interactivo en el notebook\n",
    "display(mapa)\n"
   ]
  },
  {
   "cell_type": "code",
   "execution_count": null,
   "id": "25704008",
   "metadata": {},
   "outputs": [],
   "source": []
  },
  {
   "cell_type": "code",
   "execution_count": null,
   "id": "9b40fcaa",
   "metadata": {},
   "outputs": [],
   "source": []
  }
 ],
 "metadata": {
  "kernelspec": {
   "display_name": "Python 3 (ipykernel)",
   "language": "python",
   "name": "python3"
  },
  "language_info": {
   "codemirror_mode": {
    "name": "ipython",
    "version": 3
   },
   "file_extension": ".py",
   "mimetype": "text/x-python",
   "name": "python",
   "nbconvert_exporter": "python",
   "pygments_lexer": "ipython3",
   "version": "3.10.9"
  }
 },
 "nbformat": 4,
 "nbformat_minor": 5
}
