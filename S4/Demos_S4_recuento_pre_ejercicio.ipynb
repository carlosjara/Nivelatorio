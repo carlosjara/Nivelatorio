{
 "cells": [
  {
   "cell_type": "markdown",
   "id": "86901eea",
   "metadata": {},
   "source": [
    "## Demo en clase S4\n",
    "##### Temas:\n",
    "\n",
    "1. Recuento de funciones\n",
    "2. Recuento de programación orientada a objetos\n",
    "3. Carga de múltiples archivos\n",
    "\n",
    "https://www.kaggle.com/datasets/knightbearr/sales-product-data"
   ]
  },
  {
   "cell_type": "code",
   "execution_count": null,
   "id": "fadf346a",
   "metadata": {},
   "outputs": [],
   "source": [
    "# Secuencial # DRY\n",
    "\n",
    "print(1)\n",
    "print(2)\n",
    "print(3)\n",
    "print(4)"
   ]
  },
  {
   "cell_type": "markdown",
   "id": "d452e30a",
   "metadata": {},
   "source": [
    "### Recuento de funciones"
   ]
  },
  {
   "cell_type": "code",
   "execution_count": null,
   "id": "f9cf5046",
   "metadata": {},
   "outputs": [],
   "source": [
    "def nombre_funcion():\n",
    "    print(\"una tarea que hace la función 1\")\n",
    "    print(\"una tarea que hace la función 2\")\n",
    "    print(\"una tarea que hace la función 3\")\n",
    "    print(\"una tarea que hace la función 4\")"
   ]
  },
  {
   "cell_type": "code",
   "execution_count": null,
   "id": "973f783d",
   "metadata": {},
   "outputs": [],
   "source": [
    "# Llamado a la función\n",
    "nombre_funcion()"
   ]
  },
  {
   "cell_type": "code",
   "execution_count": null,
   "id": "c57914fd",
   "metadata": {},
   "outputs": [],
   "source": [
    "def nombre_funcion_con_retorno():\n",
    "    texto_retorno = \"Un retorno de la función\"\n",
    "    return texto_retorno\n",
    "\n",
    "# llamado con retorno\n",
    "valor_resultante = nombre_funcion_con_retorno()\n",
    "print(valor_resultante)\n",
    "\n",
    "## Ejemplo almacenar elementos resultantes"
   ]
  },
  {
   "cell_type": "code",
   "execution_count": null,
   "id": "ddd53e2a",
   "metadata": {},
   "outputs": [],
   "source": [
    "def nombre_funcion_con_parametros(a, b):\n",
    "    print(\"recibí a como: \", a)\n",
    "    print(\"recibí b como: \", b)\n",
    "    return a+b\n",
    "\n",
    "nombre_funcion_con_parametros(4, 5)\n",
    "# mostrar que pasa si no se entregan los parametros"
   ]
  },
  {
   "cell_type": "code",
   "execution_count": null,
   "id": "910d2c4a",
   "metadata": {},
   "outputs": [],
   "source": [
    "# parámetros por defecto (a = 3, b = 5)\n",
    "def nombre_funcion_con_parametros(a = 3, b = 5):\n",
    "    print(\"recibí a como: \", a)\n",
    "    print(\"recibí b como: \", b)\n",
    "    return a+b\n",
    "\n",
    "# nombre_funcion_con_parametros(2, 22)\n",
    "nombre_funcion_con_parametros(b = 8)\n",
    "# mostrar que pasa si no se entregan los parametros"
   ]
  },
  {
   "cell_type": "markdown",
   "id": "e27ee9fe",
   "metadata": {},
   "source": [
    "### Comportamiento de las variables en relación a la visibilidad (global / local)"
   ]
  },
  {
   "cell_type": "code",
   "execution_count": 6,
   "id": "fd072280",
   "metadata": {},
   "outputs": [],
   "source": [
    " estado = \"lloviendo 🌧\"\n",
    "\n",
    "# ¿Qué pasó aquí?\n",
    "\n",
    "# Hablar de visibilidad de las variables\n",
    "# Hablar de enmascaramiento y alcance\n",
    "# Demostrar el uso de global"
   ]
  },
  {
   "cell_type": "code",
   "execution_count": 7,
   "id": "8488d1c1",
   "metadata": {},
   "outputs": [],
   "source": [
    "def cambiarEstado(nuevo_estado):\n",
    "    # global estado\n",
    "    estado = nuevo_estado\n",
    "    print(\"en el interior:\", estado)"
   ]
  },
  {
   "cell_type": "code",
   "execution_count": 8,
   "id": "55016dc5",
   "metadata": {},
   "outputs": [
    {
     "name": "stdout",
     "output_type": "stream",
     "text": [
      "en el exterior: lloviendo 🌧\n",
      "en el interior: Soleado ☀\n",
      "en el exterior: lloviendo 🌧\n"
     ]
    }
   ],
   "source": [
    "print(\"en el exterior:\", estado)\n",
    "cambiarEstado(\"Soleado ☀\")\n",
    "print(\"en el exterior:\", estado)"
   ]
  },
  {
   "cell_type": "code",
   "execution_count": null,
   "id": "1c419f8d",
   "metadata": {},
   "outputs": [],
   "source": []
  },
  {
   "cell_type": "markdown",
   "id": "4da04e2f",
   "metadata": {},
   "source": [
    "### ¿funciones como parámetros?\n",
    "\n",
    "Composicion y la idea de ciudadanos de primer nivel."
   ]
  },
  {
   "cell_type": "code",
   "execution_count": 9,
   "id": "0acbf52e",
   "metadata": {},
   "outputs": [],
   "source": [
    "def operar (a, b, accion):\n",
    "    return accion(a, b)\n",
    "\n",
    "def sumar(a, b):\n",
    "    return a+b\n",
    "\n",
    "def restar(a, b):\n",
    "    return a-b\n",
    "\n",
    "def multiplicar(a, b):\n",
    "    return a*b\n",
    "\n",
    "def dividir(a, b):\n",
    "    return a/b"
   ]
  },
  {
   "cell_type": "code",
   "execution_count": 16,
   "id": "e76580cf",
   "metadata": {},
   "outputs": [
    {
     "data": {
      "text/plain": [
       "4"
      ]
     },
     "execution_count": 16,
     "metadata": {},
     "output_type": "execute_result"
    }
   ],
   "source": [
    "operar(2, 2, sumar)"
   ]
  },
  {
   "cell_type": "code",
   "execution_count": 12,
   "id": "bdf640ef",
   "metadata": {},
   "outputs": [
    {
     "data": {
      "text/plain": [
       "0"
      ]
     },
     "execution_count": 12,
     "metadata": {},
     "output_type": "execute_result"
    }
   ],
   "source": [
    "operar(2, 2, restar)"
   ]
  },
  {
   "cell_type": "code",
   "execution_count": 13,
   "id": "fa05d70d",
   "metadata": {},
   "outputs": [
    {
     "data": {
      "text/plain": [
       "4"
      ]
     },
     "execution_count": 13,
     "metadata": {},
     "output_type": "execute_result"
    }
   ],
   "source": [
    "operar(2, 2, multiplicar)"
   ]
  },
  {
   "cell_type": "code",
   "execution_count": 14,
   "id": "37e70de2",
   "metadata": {},
   "outputs": [
    {
     "data": {
      "text/plain": [
       "1.0"
      ]
     },
     "execution_count": 14,
     "metadata": {},
     "output_type": "execute_result"
    }
   ],
   "source": [
    "operar(2, 2, dividir)"
   ]
  },
  {
   "cell_type": "markdown",
   "id": "bb91eb48",
   "metadata": {},
   "source": [
    "## Programación orientada a objetos\n",
    "Recuento general, los objetos representan entidades con caracteristicas y servicios."
   ]
  },
  {
   "cell_type": "code",
   "execution_count": 31,
   "id": "54ea64f4",
   "metadata": {},
   "outputs": [],
   "source": [
    "class Calculadora:\n",
    "\n",
    "    def __init__(self): ## Hablar de los constructores\n",
    "        print(\"Se está creando una calculadora\")\n",
    "        \n",
    "    def sumar(self, a, b): ## mostrar que pasa si quitamos self y hablar de self\n",
    "        #print(\"self:\", self)\n",
    "        return a + b \n",
    "    \n",
    "    def restar(self, a, b):\n",
    "        print(\"self:\", self)\n",
    "        return a - b \n",
    "    \n",
    "    def multiplicar(self, a, b):\n",
    "        return a * b \n",
    "    \n",
    "    def dividir(self, a, b):\n",
    "        return a / b "
   ]
  },
  {
   "cell_type": "code",
   "execution_count": 32,
   "id": "d634dfe4",
   "metadata": {},
   "outputs": [
    {
     "name": "stdout",
     "output_type": "stream",
     "text": [
      "Se está creando una calculadora\n"
     ]
    },
    {
     "data": {
      "text/plain": [
       "<__main__.Calculadora at 0x1df0bddad88>"
      ]
     },
     "execution_count": 32,
     "metadata": {},
     "output_type": "execute_result"
    }
   ],
   "source": [
    "# Qué son las instancias\n",
    "miCalculadora = Calculadora()\n",
    "miCalculadora"
   ]
  },
  {
   "cell_type": "code",
   "execution_count": 33,
   "id": "d1017cc6",
   "metadata": {},
   "outputs": [
    {
     "data": {
      "text/plain": [
       "__main__.Calculadora"
      ]
     },
     "execution_count": 33,
     "metadata": {},
     "output_type": "execute_result"
    }
   ],
   "source": [
    "# Qué representa ?\n",
    "type(miCalculadora)"
   ]
  },
  {
   "cell_type": "code",
   "execution_count": 34,
   "id": "887e91d2",
   "metadata": {},
   "outputs": [
    {
     "name": "stdout",
     "output_type": "stream",
     "text": [
      "54\n"
     ]
    }
   ],
   "source": [
    "# qué hace la notación de (.) punto\n",
    "suma = miCalculadora.sumar(10, 44)\n",
    "print(suma)"
   ]
  },
  {
   "cell_type": "code",
   "execution_count": 35,
   "id": "7e1f0efa",
   "metadata": {},
   "outputs": [
    {
     "name": "stdout",
     "output_type": "stream",
     "text": [
      "self: <__main__.Calculadora object at 0x000001DF0BDDAD88>\n",
      "-34\n"
     ]
    }
   ],
   "source": [
    "resta = miCalculadora.restar(10, 44)\n",
    "print(resta)"
   ]
  },
  {
   "cell_type": "code",
   "execution_count": 37,
   "id": "5410df54",
   "metadata": {},
   "outputs": [
    {
     "name": "stdout",
     "output_type": "stream",
     "text": [
      "100\n"
     ]
    }
   ],
   "source": [
    "multiplicacion = miCalculadora.multiplicar(10,10);\n",
    "print(multiplicacion)"
   ]
  },
  {
   "cell_type": "code",
   "execution_count": 38,
   "id": "e863eb18",
   "metadata": {},
   "outputs": [
    {
     "data": {
      "text/plain": [
       "10.0"
      ]
     },
     "execution_count": 38,
     "metadata": {},
     "output_type": "execute_result"
    }
   ],
   "source": [
    "division = miCalculadora.dividir(100,10)\n",
    "division"
   ]
  },
  {
   "cell_type": "markdown",
   "id": "d95c114d",
   "metadata": {},
   "source": [
    "### Además de las instancias, ¿qué tenemos?"
   ]
  },
  {
   "cell_type": "markdown",
   "id": "37ca318e",
   "metadata": {},
   "source": [
    "#### Decoradores\n",
    "\n",
    "¿Qué son?: Son definiciones adicionales usando la notación de @\n",
    "\n",
    "##### ¿Cuáles usamos?\n",
    "\n",
    "@staticmethod y @classmethod son decoradores en Python utilizados para definir métodos dentro de una clase.\n",
    "\n",
    "Ambos permiten llamar a los métodos sin la necesidad de crear una instancia de la clase, lo que significa que son métodos que pertenecen a la clase en sí y no a las instancias individuales de la clase.\n",
    "\n",
    "⚠ La principal diferencia entre @staticmethod y @classmethod radica en cómo se pasan los argumentos y cómo se comportan en relación con la clase y las instancias. Veamos cada uno de ellos:"
   ]
  },
  {
   "cell_type": "markdown",
   "id": "2679c947",
   "metadata": {},
   "source": [
    "###### @staticmethod:\n",
    "\n",
    "Un método decorado con @staticmethod no toma el primer argumento como self. No tiene acceso a los atributos o métodos de instancia, ni al propio objeto de la instancia. Por lo tanto, no necesita una referencia a la instancia de la clase para ser llamado.\n",
    "\n",
    "Se utiliza para definir métodos que no necesitan información específica de la instancia y que realizan operaciones independientes de cualquier estado de instancia.\n",
    "\n",
    "Se puede llamar desde la clase o una instancia de la clase."
   ]
  },
  {
   "cell_type": "code",
   "execution_count": 39,
   "id": "677be25c",
   "metadata": {},
   "outputs": [
    {
     "name": "stdout",
     "output_type": "stream",
     "text": [
      "Soy un método estático.\n",
      "Soy un método estático.\n"
     ]
    }
   ],
   "source": [
    "class MyClass:\n",
    "    @staticmethod\n",
    "    def static_method():\n",
    "        print(\"Soy un método estático.\")\n",
    "\n",
    "# Llamada desde la clase\n",
    "MyClass.static_method()\n",
    "\n",
    "# Llamada desde una instancia de la clase\n",
    "obj = MyClass()\n",
    "obj.static_method()\n"
   ]
  },
  {
   "cell_type": "markdown",
   "id": "013b4cad",
   "metadata": {},
   "source": [
    "##### @classmethod:\n",
    "\n",
    "Un método decorado con @classmethod toma el primer argumento como cls, que hace referencia a la propia clase. Con este argumento, el método tiene acceso a los atributos y métodos de la clase.\n",
    "\n",
    "Se utiliza para definir métodos que necesitan acceder a la clase y no necesariamente a las instancias individuales.\n",
    "\n",
    "Se puede llamar desde la clase, y también desde una instancia de la clase, pero en este caso, cls se refiere a la clase que es el tipo de la instancia desde la cual se llama."
   ]
  },
  {
   "cell_type": "code",
   "execution_count": 40,
   "id": "1b6bf1e9",
   "metadata": {},
   "outputs": [
    {
     "name": "stdout",
     "output_type": "stream",
     "text": [
      "soy un método de clase\n",
      "Hola terricolas\n",
      "soy un método de clase\n",
      "Hola terricolas\n"
     ]
    }
   ],
   "source": [
    "class MyClass:\n",
    "    class_variable = \"Hola terricolas\"\n",
    "\n",
    "    @classmethod\n",
    "    def class_method(cls):\n",
    "        print(\"soy un método de clase\")\n",
    "        print(cls.class_variable)  # Acceso a atributos de la clase\n",
    "\n",
    "# Llamada desde la clase\n",
    "MyClass.class_method()\n",
    "\n",
    "# Llamada desde una instancia de la clase\n",
    "obj = MyClass()\n",
    "obj.class_method()"
   ]
  },
  {
   "cell_type": "markdown",
   "id": "1b37e0da",
   "metadata": {},
   "source": [
    "## Pipeline"
   ]
  },
  {
   "cell_type": "code",
   "execution_count": 41,
   "id": "95d1b2b5",
   "metadata": {},
   "outputs": [
    {
     "name": "stdout",
     "output_type": "stream",
     "text": [
      "<class 'pandas.core.frame.DataFrame'>\n",
      "RangeIndex: 9723 entries, 0 to 9722\n",
      "Data columns (total 6 columns):\n",
      " #   Column            Non-Null Count  Dtype \n",
      "---  ------            --------------  ----- \n",
      " 0   Order ID          9697 non-null   object\n",
      " 1   Product           9697 non-null   object\n",
      " 2   Quantity Ordered  9697 non-null   object\n",
      " 3   Price Each        9697 non-null   object\n",
      " 4   Order Date        9697 non-null   object\n",
      " 5   Purchase Address  9697 non-null   object\n",
      "dtypes: object(6)\n",
      "memory usage: 455.9+ KB\n",
      "None\n"
     ]
    }
   ],
   "source": [
    "# \n",
    "import pandas as pd \n",
    "import matplotlib.pyplot as plt\n",
    "df = pd.read_csv(\"S4/Sales_January_2019.csv\")\n",
    "\n",
    "print(df.info())"
   ]
  },
  {
   "cell_type": "code",
   "execution_count": 42,
   "id": "29d1f46a",
   "metadata": {},
   "outputs": [],
   "source": [
    "def lookup_na(df_to_lookup):\n",
    "    ## Identificación de NaN\n",
    "    contains_na = False\n",
    "    for col in df_to_lookup.columns:\n",
    "        count_na = df[col].isnull().sum()\n",
    "        print(\"Nan x columna [\", col, \"]:\", count_na)\n",
    "        contains_na = True        \n",
    "    return [contains_na, df_to_lookup]\n",
    "\n",
    "def clean_na(df_to_clean):\n",
    "    ## limpieza de na\n",
    "    df_to_clean.dropna(inplace=True)\n",
    "    return df_to_clean"
   ]
  },
  {
   "cell_type": "code",
   "execution_count": 43,
   "id": "d9651114",
   "metadata": {},
   "outputs": [
    {
     "name": "stdout",
     "output_type": "stream",
     "text": [
      "Nan x columna [ Order ID ]: 26\n",
      "Nan x columna [ Product ]: 26\n",
      "Nan x columna [ Quantity Ordered ]: 26\n",
      "Nan x columna [ Price Each ]: 26\n",
      "Nan x columna [ Order Date ]: 26\n",
      "Nan x columna [ Purchase Address ]: 26\n"
     ]
    }
   ],
   "source": [
    "result = lookup_na(df)\n",
    "if(result[0]):\n",
    "    clean_na(result[1])"
   ]
  },
  {
   "cell_type": "code",
   "execution_count": 44,
   "id": "5bf73fd5",
   "metadata": {},
   "outputs": [
    {
     "name": "stdout",
     "output_type": "stream",
     "text": [
      "<class 'pandas.core.frame.DataFrame'>\n",
      "Int64Index: 9697 entries, 0 to 9722\n",
      "Data columns (total 6 columns):\n",
      " #   Column            Non-Null Count  Dtype \n",
      "---  ------            --------------  ----- \n",
      " 0   Order ID          9697 non-null   object\n",
      " 1   Product           9697 non-null   object\n",
      " 2   Quantity Ordered  9697 non-null   object\n",
      " 3   Price Each        9697 non-null   object\n",
      " 4   Order Date        9697 non-null   object\n",
      " 5   Purchase Address  9697 non-null   object\n",
      "dtypes: object(6)\n",
      "memory usage: 530.3+ KB\n",
      "None\n"
     ]
    }
   ],
   "source": [
    "print(df.info())"
   ]
  },
  {
   "cell_type": "markdown",
   "id": "acdcc6ed",
   "metadata": {},
   "source": [
    "##### Cómo lo plantea python pipe / en pandas"
   ]
  },
  {
   "cell_type": "code",
   "execution_count": 58,
   "id": "181ea5db",
   "metadata": {},
   "outputs": [
    {
     "name": "stdout",
     "output_type": "stream",
     "text": [
      "<class 'pandas.core.frame.DataFrame'>\n",
      "    name  age   colA   colB   colC\n",
      "0  Sally   10   True   True   True\n",
      "1   Mary   20  False  False  False\n",
      "2   John   30  False  False  False\n"
     ]
    }
   ],
   "source": [
    "import pandas as pd\n",
    "\n",
    "def change_age(x):\n",
    "    print(type(x))\n",
    "    x[\"age\"]=[10, 20, 30]\n",
    "    return x\n",
    "\n",
    "def add_column(x, arg1):    \n",
    "    x[arg1]=[True, False, False]\n",
    "    return x\n",
    "\n",
    "data = {\n",
    "  \"name\": [\"Sally\", \"Mary\", \"John\"],\n",
    "  \"age\": [50, 40, 30]\n",
    "}\n",
    "\n",
    "df = pd.DataFrame(data)\n",
    "df.pipe(change_age).pipe(add_column, arg1=\"colA\").pipe(add_column, arg1=\"colB\").pipe(add_column, arg1=\"colC\")\n",
    "\n",
    "print(df)\n",
    "\n",
    "# hablar de: https://pandas.pydata.org/docs/reference/api/pandas.DataFrame.pipe.html"
   ]
  },
  {
   "cell_type": "markdown",
   "id": "ab61ba99",
   "metadata": {},
   "source": [
    "## Carga de múltiples archivos"
   ]
  },
  {
   "cell_type": "code",
   "execution_count": 62,
   "id": "57a0049f",
   "metadata": {},
   "outputs": [
    {
     "name": "stdout",
     "output_type": "stream",
     "text": [
      "Cargando: data_files/Sales_April_2019.csv\n",
      "Cargando: data_files/Sales_August_2019.csv\n",
      "Cargando: data_files/Sales_December_2019.csv\n",
      "Cargando: data_files/Sales_February_2019.csv\n",
      "Cargando: data_files/Sales_January_2019.csv\n",
      "Cargando: data_files/Sales_July_2019.csv\n",
      "Cargando: data_files/Sales_June_2019.csv\n",
      "Cargando: data_files/Sales_March_2019.csv\n",
      "Cargando: data_files/Sales_May_2019.csv\n",
      "Cargando: data_files/Sales_November_2019.csv\n",
      "Cargando: data_files/Sales_October_2019.csv\n",
      "Cargando: data_files/Sales_September_2019.csv\n",
      "Cuántos dataframes resultaron:  12\n",
      "Wall time: 362 ms\n"
     ]
    },
    {
     "data": {
      "text/html": [
       "<div>\n",
       "<style scoped>\n",
       "    .dataframe tbody tr th:only-of-type {\n",
       "        vertical-align: middle;\n",
       "    }\n",
       "\n",
       "    .dataframe tbody tr th {\n",
       "        vertical-align: top;\n",
       "    }\n",
       "\n",
       "    .dataframe thead th {\n",
       "        text-align: right;\n",
       "    }\n",
       "</style>\n",
       "<table border=\"1\" class=\"dataframe\">\n",
       "  <thead>\n",
       "    <tr style=\"text-align: right;\">\n",
       "      <th></th>\n",
       "      <th>Order ID</th>\n",
       "      <th>Product</th>\n",
       "      <th>Quantity Ordered</th>\n",
       "      <th>Price Each</th>\n",
       "      <th>Order Date</th>\n",
       "      <th>Purchase Address</th>\n",
       "    </tr>\n",
       "  </thead>\n",
       "  <tbody>\n",
       "    <tr>\n",
       "      <th>0</th>\n",
       "      <td>176558</td>\n",
       "      <td>USB-C Charging Cable</td>\n",
       "      <td>2</td>\n",
       "      <td>11.95</td>\n",
       "      <td>04/19/19 08:46</td>\n",
       "      <td>917 1st St, Dallas, TX 75001</td>\n",
       "    </tr>\n",
       "    <tr>\n",
       "      <th>1</th>\n",
       "      <td>NaN</td>\n",
       "      <td>NaN</td>\n",
       "      <td>NaN</td>\n",
       "      <td>NaN</td>\n",
       "      <td>NaN</td>\n",
       "      <td>NaN</td>\n",
       "    </tr>\n",
       "    <tr>\n",
       "      <th>2</th>\n",
       "      <td>176559</td>\n",
       "      <td>Bose SoundSport Headphones</td>\n",
       "      <td>1</td>\n",
       "      <td>99.99</td>\n",
       "      <td>04/07/19 22:30</td>\n",
       "      <td>682 Chestnut St, Boston, MA 02215</td>\n",
       "    </tr>\n",
       "    <tr>\n",
       "      <th>3</th>\n",
       "      <td>176560</td>\n",
       "      <td>Google Phone</td>\n",
       "      <td>1</td>\n",
       "      <td>600</td>\n",
       "      <td>04/12/19 14:38</td>\n",
       "      <td>669 Spruce St, Los Angeles, CA 90001</td>\n",
       "    </tr>\n",
       "    <tr>\n",
       "      <th>4</th>\n",
       "      <td>176560</td>\n",
       "      <td>Wired Headphones</td>\n",
       "      <td>1</td>\n",
       "      <td>11.99</td>\n",
       "      <td>04/12/19 14:38</td>\n",
       "      <td>669 Spruce St, Los Angeles, CA 90001</td>\n",
       "    </tr>\n",
       "    <tr>\n",
       "      <th>...</th>\n",
       "      <td>...</td>\n",
       "      <td>...</td>\n",
       "      <td>...</td>\n",
       "      <td>...</td>\n",
       "      <td>...</td>\n",
       "      <td>...</td>\n",
       "    </tr>\n",
       "    <tr>\n",
       "      <th>186845</th>\n",
       "      <td>259353</td>\n",
       "      <td>AAA Batteries (4-pack)</td>\n",
       "      <td>3</td>\n",
       "      <td>2.99</td>\n",
       "      <td>09/17/19 20:56</td>\n",
       "      <td>840 Highland St, Los Angeles, CA 90001</td>\n",
       "    </tr>\n",
       "    <tr>\n",
       "      <th>186846</th>\n",
       "      <td>259354</td>\n",
       "      <td>iPhone</td>\n",
       "      <td>1</td>\n",
       "      <td>700</td>\n",
       "      <td>09/01/19 16:00</td>\n",
       "      <td>216 Dogwood St, San Francisco, CA 94016</td>\n",
       "    </tr>\n",
       "    <tr>\n",
       "      <th>186847</th>\n",
       "      <td>259355</td>\n",
       "      <td>iPhone</td>\n",
       "      <td>1</td>\n",
       "      <td>700</td>\n",
       "      <td>09/23/19 07:39</td>\n",
       "      <td>220 12th St, San Francisco, CA 94016</td>\n",
       "    </tr>\n",
       "    <tr>\n",
       "      <th>186848</th>\n",
       "      <td>259356</td>\n",
       "      <td>34in Ultrawide Monitor</td>\n",
       "      <td>1</td>\n",
       "      <td>379.99</td>\n",
       "      <td>09/19/19 17:30</td>\n",
       "      <td>511 Forest St, San Francisco, CA 94016</td>\n",
       "    </tr>\n",
       "    <tr>\n",
       "      <th>186849</th>\n",
       "      <td>259357</td>\n",
       "      <td>USB-C Charging Cable</td>\n",
       "      <td>1</td>\n",
       "      <td>11.95</td>\n",
       "      <td>09/30/19 00:18</td>\n",
       "      <td>250 Meadow St, San Francisco, CA 94016</td>\n",
       "    </tr>\n",
       "  </tbody>\n",
       "</table>\n",
       "<p>186850 rows × 6 columns</p>\n",
       "</div>"
      ],
      "text/plain": [
       "       Order ID                     Product Quantity Ordered Price Each  \\\n",
       "0        176558        USB-C Charging Cable                2      11.95   \n",
       "1           NaN                         NaN              NaN        NaN   \n",
       "2        176559  Bose SoundSport Headphones                1      99.99   \n",
       "3        176560                Google Phone                1        600   \n",
       "4        176560            Wired Headphones                1      11.99   \n",
       "...         ...                         ...              ...        ...   \n",
       "186845   259353      AAA Batteries (4-pack)                3       2.99   \n",
       "186846   259354                      iPhone                1        700   \n",
       "186847   259355                      iPhone                1        700   \n",
       "186848   259356      34in Ultrawide Monitor                1     379.99   \n",
       "186849   259357        USB-C Charging Cable                1      11.95   \n",
       "\n",
       "            Order Date                         Purchase Address  \n",
       "0       04/19/19 08:46             917 1st St, Dallas, TX 75001  \n",
       "1                  NaN                                      NaN  \n",
       "2       04/07/19 22:30        682 Chestnut St, Boston, MA 02215  \n",
       "3       04/12/19 14:38     669 Spruce St, Los Angeles, CA 90001  \n",
       "4       04/12/19 14:38     669 Spruce St, Los Angeles, CA 90001  \n",
       "...                ...                                      ...  \n",
       "186845  09/17/19 20:56   840 Highland St, Los Angeles, CA 90001  \n",
       "186846  09/01/19 16:00  216 Dogwood St, San Francisco, CA 94016  \n",
       "186847  09/23/19 07:39     220 12th St, San Francisco, CA 94016  \n",
       "186848  09/19/19 17:30   511 Forest St, San Francisco, CA 94016  \n",
       "186849  09/30/19 00:18   250 Meadow St, San Francisco, CA 94016  \n",
       "\n",
       "[186850 rows x 6 columns]"
      ]
     },
     "execution_count": 62,
     "metadata": {},
     "output_type": "execute_result"
    }
   ],
   "source": [
    "%%time\n",
    "import os\n",
    "import pandas as pd\n",
    "\n",
    "# Ruta de la carpeta que contiene los archivos\n",
    "ruta_carpeta = 'data_files/'  # Reemplaza esto con la ruta de tu carpeta\n",
    "\n",
    "# Lista para almacenar los DataFrames cargados\n",
    "dataframes = []\n",
    "\n",
    "# Recorre todos los archivos en la carpeta\n",
    "for archivo in os.listdir(ruta_carpeta):\n",
    "    # Verifica si el archivo tiene una extensión que corresponde a un archivo CSV o Excel\n",
    "    if archivo.endswith('.csv') or archivo.endswith('.xlsx'):\n",
    "        # Construye la ruta completa del archivo\n",
    "        ruta_archivo = os.path.join(ruta_carpeta, archivo)\n",
    "        print(\"Cargando:\", ruta_archivo)\n",
    "        # Carga el archivo en un DataFrame y agrega a la lista (** hablar de la notación one line)\n",
    "        df = pd.read_csv(ruta_archivo) if archivo.endswith('.csv') else pd.read_excel(ruta_archivo)\n",
    "        dataframes.append(df)\n",
    "\n",
    "print(\"Cuántos dataframes resultaron: \" , len(dataframes))\n",
    "# Combinar todos los DataFrames en uno solo (** hablar del index)\n",
    "df_combinado = pd.concat(dataframes, ignore_index=True)\n",
    "\n",
    "# Ahora el DataFrame \"df_combinado\" contiene toda la información de los DataFrames cargados desde los archivos.\n",
    "df_combinado"
   ]
  },
  {
   "cell_type": "code",
   "execution_count": null,
   "id": "2c582597",
   "metadata": {},
   "outputs": [],
   "source": []
  }
 ],
 "metadata": {
  "kernelspec": {
   "display_name": "Python 3",
   "language": "python",
   "name": "python3"
  },
  "language_info": {
   "codemirror_mode": {
    "name": "ipython",
    "version": 3
   },
   "file_extension": ".py",
   "mimetype": "text/x-python",
   "name": "python",
   "nbconvert_exporter": "python",
   "pygments_lexer": "ipython3",
   "version": "3.7.6"
  }
 },
 "nbformat": 4,
 "nbformat_minor": 5
}
