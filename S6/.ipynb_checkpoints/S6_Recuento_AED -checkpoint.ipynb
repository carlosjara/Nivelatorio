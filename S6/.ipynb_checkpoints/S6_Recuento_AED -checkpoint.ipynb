{
 "cells": [
  {
   "cell_type": "markdown",
   "id": "db193cd7",
   "metadata": {},
   "source": [
    "## Demo en clase 6\n",
    "\n",
    "#### Algunas anotaciones frente al ejercicio de limpieza y búsqueda"
   ]
  },
  {
   "cell_type": "code",
   "execution_count": 19,
   "id": "cccb51bd",
   "metadata": {},
   "outputs": [
    {
     "name": "stdout",
     "output_type": "stream",
     "text": [
      "Cargando: data_files/Sales_April_2019.csv\n",
      "Cargando: data_files/Sales_August_2019.csv\n",
      "Cargando: data_files/Sales_December_2019.csv\n",
      "Cargando: data_files/Sales_February_2019.csv\n",
      "Cargando: data_files/Sales_January_2019.csv\n",
      "Cargando: data_files/Sales_July_2019.csv\n",
      "Cargando: data_files/Sales_June_2019.csv\n",
      "Cargando: data_files/Sales_March_2019.csv\n",
      "Cargando: data_files/Sales_May_2019.csv\n",
      "Cargando: data_files/Sales_November_2019.csv\n",
      "Cargando: data_files/Sales_October_2019.csv\n",
      "Cargando: data_files/Sales_September_2019.csv\n",
      "Cuántos dataframes resultaron:  12\n",
      "Wall time: 342 ms\n"
     ]
    },
    {
     "data": {
      "text/html": [
       "<div>\n",
       "<style scoped>\n",
       "    .dataframe tbody tr th:only-of-type {\n",
       "        vertical-align: middle;\n",
       "    }\n",
       "\n",
       "    .dataframe tbody tr th {\n",
       "        vertical-align: top;\n",
       "    }\n",
       "\n",
       "    .dataframe thead th {\n",
       "        text-align: right;\n",
       "    }\n",
       "</style>\n",
       "<table border=\"1\" class=\"dataframe\">\n",
       "  <thead>\n",
       "    <tr style=\"text-align: right;\">\n",
       "      <th></th>\n",
       "      <th>Order ID</th>\n",
       "      <th>Product</th>\n",
       "      <th>Quantity Ordered</th>\n",
       "      <th>Price Each</th>\n",
       "      <th>Order Date</th>\n",
       "      <th>Purchase Address</th>\n",
       "    </tr>\n",
       "  </thead>\n",
       "  <tbody>\n",
       "    <tr>\n",
       "      <th>0</th>\n",
       "      <td>176558</td>\n",
       "      <td>USB-C Charging Cable</td>\n",
       "      <td>2</td>\n",
       "      <td>11.95</td>\n",
       "      <td>04/19/19 08:46</td>\n",
       "      <td>917 1st St, Dallas, TX 75001</td>\n",
       "    </tr>\n",
       "    <tr>\n",
       "      <th>1</th>\n",
       "      <td>NaN</td>\n",
       "      <td>NaN</td>\n",
       "      <td>NaN</td>\n",
       "      <td>NaN</td>\n",
       "      <td>NaN</td>\n",
       "      <td>NaN</td>\n",
       "    </tr>\n",
       "    <tr>\n",
       "      <th>2</th>\n",
       "      <td>176559</td>\n",
       "      <td>Bose SoundSport Headphones</td>\n",
       "      <td>1</td>\n",
       "      <td>99.99</td>\n",
       "      <td>04/07/19 22:30</td>\n",
       "      <td>682 Chestnut St, Boston, MA 02215</td>\n",
       "    </tr>\n",
       "    <tr>\n",
       "      <th>3</th>\n",
       "      <td>176560</td>\n",
       "      <td>Google Phone</td>\n",
       "      <td>1</td>\n",
       "      <td>600</td>\n",
       "      <td>04/12/19 14:38</td>\n",
       "      <td>669 Spruce St, Los Angeles, CA 90001</td>\n",
       "    </tr>\n",
       "    <tr>\n",
       "      <th>4</th>\n",
       "      <td>176560</td>\n",
       "      <td>Wired Headphones</td>\n",
       "      <td>1</td>\n",
       "      <td>11.99</td>\n",
       "      <td>04/12/19 14:38</td>\n",
       "      <td>669 Spruce St, Los Angeles, CA 90001</td>\n",
       "    </tr>\n",
       "    <tr>\n",
       "      <th>...</th>\n",
       "      <td>...</td>\n",
       "      <td>...</td>\n",
       "      <td>...</td>\n",
       "      <td>...</td>\n",
       "      <td>...</td>\n",
       "      <td>...</td>\n",
       "    </tr>\n",
       "    <tr>\n",
       "      <th>186845</th>\n",
       "      <td>259353</td>\n",
       "      <td>AAA Batteries (4-pack)</td>\n",
       "      <td>3</td>\n",
       "      <td>2.99</td>\n",
       "      <td>09/17/19 20:56</td>\n",
       "      <td>840 Highland St, Los Angeles, CA 90001</td>\n",
       "    </tr>\n",
       "    <tr>\n",
       "      <th>186846</th>\n",
       "      <td>259354</td>\n",
       "      <td>iPhone</td>\n",
       "      <td>1</td>\n",
       "      <td>700</td>\n",
       "      <td>09/01/19 16:00</td>\n",
       "      <td>216 Dogwood St, San Francisco, CA 94016</td>\n",
       "    </tr>\n",
       "    <tr>\n",
       "      <th>186847</th>\n",
       "      <td>259355</td>\n",
       "      <td>iPhone</td>\n",
       "      <td>1</td>\n",
       "      <td>700</td>\n",
       "      <td>09/23/19 07:39</td>\n",
       "      <td>220 12th St, San Francisco, CA 94016</td>\n",
       "    </tr>\n",
       "    <tr>\n",
       "      <th>186848</th>\n",
       "      <td>259356</td>\n",
       "      <td>34in Ultrawide Monitor</td>\n",
       "      <td>1</td>\n",
       "      <td>379.99</td>\n",
       "      <td>09/19/19 17:30</td>\n",
       "      <td>511 Forest St, San Francisco, CA 94016</td>\n",
       "    </tr>\n",
       "    <tr>\n",
       "      <th>186849</th>\n",
       "      <td>259357</td>\n",
       "      <td>USB-C Charging Cable</td>\n",
       "      <td>1</td>\n",
       "      <td>11.95</td>\n",
       "      <td>09/30/19 00:18</td>\n",
       "      <td>250 Meadow St, San Francisco, CA 94016</td>\n",
       "    </tr>\n",
       "  </tbody>\n",
       "</table>\n",
       "<p>186850 rows × 6 columns</p>\n",
       "</div>"
      ],
      "text/plain": [
       "       Order ID                     Product Quantity Ordered Price Each  \\\n",
       "0        176558        USB-C Charging Cable                2      11.95   \n",
       "1           NaN                         NaN              NaN        NaN   \n",
       "2        176559  Bose SoundSport Headphones                1      99.99   \n",
       "3        176560                Google Phone                1        600   \n",
       "4        176560            Wired Headphones                1      11.99   \n",
       "...         ...                         ...              ...        ...   \n",
       "186845   259353      AAA Batteries (4-pack)                3       2.99   \n",
       "186846   259354                      iPhone                1        700   \n",
       "186847   259355                      iPhone                1        700   \n",
       "186848   259356      34in Ultrawide Monitor                1     379.99   \n",
       "186849   259357        USB-C Charging Cable                1      11.95   \n",
       "\n",
       "            Order Date                         Purchase Address  \n",
       "0       04/19/19 08:46             917 1st St, Dallas, TX 75001  \n",
       "1                  NaN                                      NaN  \n",
       "2       04/07/19 22:30        682 Chestnut St, Boston, MA 02215  \n",
       "3       04/12/19 14:38     669 Spruce St, Los Angeles, CA 90001  \n",
       "4       04/12/19 14:38     669 Spruce St, Los Angeles, CA 90001  \n",
       "...                ...                                      ...  \n",
       "186845  09/17/19 20:56   840 Highland St, Los Angeles, CA 90001  \n",
       "186846  09/01/19 16:00  216 Dogwood St, San Francisco, CA 94016  \n",
       "186847  09/23/19 07:39     220 12th St, San Francisco, CA 94016  \n",
       "186848  09/19/19 17:30   511 Forest St, San Francisco, CA 94016  \n",
       "186849  09/30/19 00:18   250 Meadow St, San Francisco, CA 94016  \n",
       "\n",
       "[186850 rows x 6 columns]"
      ]
     },
     "execution_count": 19,
     "metadata": {},
     "output_type": "execute_result"
    }
   ],
   "source": [
    "%%time\n",
    "import os\n",
    "import pandas as pd\n",
    "\n",
    "# Ruta de la carpeta que contiene los archivos\n",
    "ruta_carpeta = 'data_files/'  # Reemplaza esto con la ruta de tu carpeta\n",
    "\n",
    "# Lista para almacenar los DataFrames cargados\n",
    "dataframes = []\n",
    "\n",
    "# Recorre todos los archivos en la carpeta\n",
    "for archivo in os.listdir(ruta_carpeta):\n",
    "    # Verifica si el archivo tiene una extensión que corresponde a un archivo CSV o Excel\n",
    "    if archivo.endswith('.csv') or archivo.endswith('.xlsx'):\n",
    "        # Construye la ruta completa del archivo\n",
    "        ruta_archivo = os.path.join(ruta_carpeta, archivo)\n",
    "        print(\"Cargando:\", ruta_archivo)\n",
    "        # Carga el archivo en un DataFrame y agrega a la lista (** hablar de la notación one line)\n",
    "        df = pd.read_csv(ruta_archivo) if archivo.endswith('.csv') else pd.read_excel(ruta_archivo)\n",
    "        dataframes.append(df)\n",
    "\n",
    "print(\"Cuántos dataframes resultaron: \" , len(dataframes))\n",
    "# Combinar todos los DataFrames en uno solo (** hablar del index)\n",
    "df_combinado = pd.concat(dataframes, ignore_index=True)\n",
    "\n",
    "# Ahora el DataFrame \"df_combinado\" contiene toda la información de los DataFrames cargados desde los archivos.\n",
    "df_combinado"
   ]
  },
  {
   "cell_type": "code",
   "execution_count": 20,
   "id": "ddf3e64f",
   "metadata": {},
   "outputs": [
    {
     "name": "stdout",
     "output_type": "stream",
     "text": [
      "<class 'pandas.core.frame.DataFrame'>\n",
      "RangeIndex: 186850 entries, 0 to 186849\n",
      "Data columns (total 6 columns):\n",
      " #   Column            Non-Null Count   Dtype \n",
      "---  ------            --------------   ----- \n",
      " 0   Order ID          186305 non-null  object\n",
      " 1   Product           186305 non-null  object\n",
      " 2   Quantity Ordered  186305 non-null  object\n",
      " 3   Price Each        186305 non-null  object\n",
      " 4   Order Date        186305 non-null  object\n",
      " 5   Purchase Address  186305 non-null  object\n",
      "dtypes: object(6)\n",
      "memory usage: 8.6+ MB\n"
     ]
    }
   ],
   "source": [
    "df_combinado.info()"
   ]
  },
  {
   "cell_type": "markdown",
   "id": "1ae32c08",
   "metadata": {},
   "source": [
    "#### Problema, tenemos datos incorrectos en la columna pero no podemos verlos pr la cantidad.\n",
    "\n",
    "¿Qué opciones tenemos?\n",
    "\n",
    "Diferentes a la exploración manual **"
   ]
  },
  {
   "cell_type": "markdown",
   "id": "a42cd6ce",
   "metadata": {},
   "source": [
    "##### Usamos alguna medida de agregación que nos permita disminuir"
   ]
  },
  {
   "cell_type": "code",
   "execution_count": 21,
   "id": "3e2f1983",
   "metadata": {
    "scrolled": true
   },
   "outputs": [
    {
     "data": {
      "text/plain": [
       "array(['11.95', nan, '99.99', '600', '11.99', '1700', '14.95', '389.99',\n",
       "       '3.84', '150', '2.99', '700', '300', '149.99', '109.99', '600.0',\n",
       "       '999.99', '400', '379.99', 'Price Each', '700.0', '1700.0',\n",
       "       '150.0', '300.0', '400.0'], dtype=object)"
      ]
     },
     "execution_count": 21,
     "metadata": {},
     "output_type": "execute_result"
    }
   ],
   "source": [
    "## Algo como esto...\n",
    "df_combinado[\"Price Each\"].unique()\n",
    "## Pero y si tenemos más de lo que muestra la vista por defecto"
   ]
  },
  {
   "cell_type": "markdown",
   "id": "fe4770a0",
   "metadata": {},
   "source": [
    "#### Pero a veces esto no es suficiente o confiable"
   ]
  },
  {
   "cell_type": "code",
   "execution_count": 34,
   "id": "21078895",
   "metadata": {
    "scrolled": true
   },
   "outputs": [
    {
     "data": {
      "text/plain": [
       "array(['04/19/19 08:46', nan, '04/07/19 22:30', ..., '09/23/19 07:39',\n",
       "       '09/19/19 17:30', '09/30/19 00:18'], dtype=object)"
      ]
     },
     "execution_count": 34,
     "metadata": {},
     "output_type": "execute_result"
    }
   ],
   "source": [
    "# Como en este caso....\n",
    "df_combinado[\"Order Date\"].unique()"
   ]
  },
  {
   "cell_type": "markdown",
   "id": "edb94ca9",
   "metadata": {},
   "source": [
    "Acá podemos ver que no es posible identificarlo"
   ]
  },
  {
   "cell_type": "markdown",
   "id": "48ebe964",
   "metadata": {},
   "source": [
    "### Podemos abordalo de manera más sistemática"
   ]
  },
  {
   "cell_type": "code",
   "execution_count": 36,
   "id": "f9bdfae2",
   "metadata": {
    "scrolled": false
   },
   "outputs": [
    {
     "name": "stdout",
     "output_type": "stream",
     "text": [
      "<class 'pandas.core.frame.DataFrame'>\n",
      "RangeIndex: 186850 entries, 0 to 186849\n",
      "Data columns (total 6 columns):\n",
      " #   Column            Non-Null Count   Dtype  \n",
      "---  ------            --------------   -----  \n",
      " 0   Order ID          186305 non-null  object \n",
      " 1   Product           186305 non-null  object \n",
      " 2   Quantity Ordered  186305 non-null  object \n",
      " 3   Price Each        185950 non-null  float64\n",
      " 4   Order Date        186305 non-null  object \n",
      " 5   Purchase Address  186305 non-null  object \n",
      "dtypes: float64(1), object(5)\n",
      "memory usage: 8.6+ MB\n"
     ]
    }
   ],
   "source": [
    "# Convertir la columna 'Price Each' a numérica y tratar los valores no numéricos como NaN\n",
    "df_combinado['Price Each'] = pd.to_numeric(df_combinado['Price Each'], errors='coerce')\n",
    "df_combinado.info()"
   ]
  },
  {
   "cell_type": "code",
   "execution_count": 37,
   "id": "99b96bfc",
   "metadata": {
    "scrolled": true
   },
   "outputs": [
    {
     "data": {
      "text/html": [
       "<div>\n",
       "<style scoped>\n",
       "    .dataframe tbody tr th:only-of-type {\n",
       "        vertical-align: middle;\n",
       "    }\n",
       "\n",
       "    .dataframe tbody tr th {\n",
       "        vertical-align: top;\n",
       "    }\n",
       "\n",
       "    .dataframe thead th {\n",
       "        text-align: right;\n",
       "    }\n",
       "</style>\n",
       "<table border=\"1\" class=\"dataframe\">\n",
       "  <thead>\n",
       "    <tr style=\"text-align: right;\">\n",
       "      <th></th>\n",
       "      <th>Order ID</th>\n",
       "      <th>Product</th>\n",
       "      <th>Quantity Ordered</th>\n",
       "      <th>Price Each</th>\n",
       "      <th>Order Date</th>\n",
       "      <th>Purchase Address</th>\n",
       "    </tr>\n",
       "  </thead>\n",
       "  <tbody>\n",
       "    <tr>\n",
       "      <th>519</th>\n",
       "      <td>Order ID</td>\n",
       "      <td>Product</td>\n",
       "      <td>Quantity Ordered</td>\n",
       "      <td>NaN</td>\n",
       "      <td>Order Date</td>\n",
       "      <td>Purchase Address</td>\n",
       "    </tr>\n",
       "    <tr>\n",
       "      <th>1149</th>\n",
       "      <td>Order ID</td>\n",
       "      <td>Product</td>\n",
       "      <td>Quantity Ordered</td>\n",
       "      <td>NaN</td>\n",
       "      <td>Order Date</td>\n",
       "      <td>Purchase Address</td>\n",
       "    </tr>\n",
       "    <tr>\n",
       "      <th>1155</th>\n",
       "      <td>Order ID</td>\n",
       "      <td>Product</td>\n",
       "      <td>Quantity Ordered</td>\n",
       "      <td>NaN</td>\n",
       "      <td>Order Date</td>\n",
       "      <td>Purchase Address</td>\n",
       "    </tr>\n",
       "    <tr>\n",
       "      <th>2878</th>\n",
       "      <td>Order ID</td>\n",
       "      <td>Product</td>\n",
       "      <td>Quantity Ordered</td>\n",
       "      <td>NaN</td>\n",
       "      <td>Order Date</td>\n",
       "      <td>Purchase Address</td>\n",
       "    </tr>\n",
       "    <tr>\n",
       "      <th>2893</th>\n",
       "      <td>Order ID</td>\n",
       "      <td>Product</td>\n",
       "      <td>Quantity Ordered</td>\n",
       "      <td>NaN</td>\n",
       "      <td>Order Date</td>\n",
       "      <td>Purchase Address</td>\n",
       "    </tr>\n",
       "    <tr>\n",
       "      <th>...</th>\n",
       "      <td>...</td>\n",
       "      <td>...</td>\n",
       "      <td>...</td>\n",
       "      <td>...</td>\n",
       "      <td>...</td>\n",
       "      <td>...</td>\n",
       "    </tr>\n",
       "    <tr>\n",
       "      <th>185164</th>\n",
       "      <td>Order ID</td>\n",
       "      <td>Product</td>\n",
       "      <td>Quantity Ordered</td>\n",
       "      <td>NaN</td>\n",
       "      <td>Order Date</td>\n",
       "      <td>Purchase Address</td>\n",
       "    </tr>\n",
       "    <tr>\n",
       "      <th>185551</th>\n",
       "      <td>Order ID</td>\n",
       "      <td>Product</td>\n",
       "      <td>Quantity Ordered</td>\n",
       "      <td>NaN</td>\n",
       "      <td>Order Date</td>\n",
       "      <td>Purchase Address</td>\n",
       "    </tr>\n",
       "    <tr>\n",
       "      <th>186563</th>\n",
       "      <td>Order ID</td>\n",
       "      <td>Product</td>\n",
       "      <td>Quantity Ordered</td>\n",
       "      <td>NaN</td>\n",
       "      <td>Order Date</td>\n",
       "      <td>Purchase Address</td>\n",
       "    </tr>\n",
       "    <tr>\n",
       "      <th>186632</th>\n",
       "      <td>Order ID</td>\n",
       "      <td>Product</td>\n",
       "      <td>Quantity Ordered</td>\n",
       "      <td>NaN</td>\n",
       "      <td>Order Date</td>\n",
       "      <td>Purchase Address</td>\n",
       "    </tr>\n",
       "    <tr>\n",
       "      <th>186738</th>\n",
       "      <td>Order ID</td>\n",
       "      <td>Product</td>\n",
       "      <td>Quantity Ordered</td>\n",
       "      <td>NaN</td>\n",
       "      <td>Order Date</td>\n",
       "      <td>Purchase Address</td>\n",
       "    </tr>\n",
       "  </tbody>\n",
       "</table>\n",
       "<p>355 rows × 6 columns</p>\n",
       "</div>"
      ],
      "text/plain": [
       "        Order ID  Product  Quantity Ordered  Price Each  Order Date  \\\n",
       "519     Order ID  Product  Quantity Ordered         NaN  Order Date   \n",
       "1149    Order ID  Product  Quantity Ordered         NaN  Order Date   \n",
       "1155    Order ID  Product  Quantity Ordered         NaN  Order Date   \n",
       "2878    Order ID  Product  Quantity Ordered         NaN  Order Date   \n",
       "2893    Order ID  Product  Quantity Ordered         NaN  Order Date   \n",
       "...          ...      ...               ...         ...         ...   \n",
       "185164  Order ID  Product  Quantity Ordered         NaN  Order Date   \n",
       "185551  Order ID  Product  Quantity Ordered         NaN  Order Date   \n",
       "186563  Order ID  Product  Quantity Ordered         NaN  Order Date   \n",
       "186632  Order ID  Product  Quantity Ordered         NaN  Order Date   \n",
       "186738  Order ID  Product  Quantity Ordered         NaN  Order Date   \n",
       "\n",
       "        Purchase Address  \n",
       "519     Purchase Address  \n",
       "1149    Purchase Address  \n",
       "1155    Purchase Address  \n",
       "2878    Purchase Address  \n",
       "2893    Purchase Address  \n",
       "...                  ...  \n",
       "185164  Purchase Address  \n",
       "185551  Purchase Address  \n",
       "186563  Purchase Address  \n",
       "186632  Purchase Address  \n",
       "186738  Purchase Address  \n",
       "\n",
       "[355 rows x 6 columns]"
      ]
     },
     "execution_count": 37,
     "metadata": {},
     "output_type": "execute_result"
    }
   ],
   "source": [
    "# Identificar los valores no numéricos (NaN) en la columna 'Price Each'\n",
    "valores_no_numericos = df_combinado[df_combinado['Price Each'].isna()]\n",
    "\n",
    "# Acá podríamos borrarlo o proceder a ejecutar algún tipo de imputación"
   ]
  },
  {
   "cell_type": "code",
   "execution_count": 38,
   "id": "afc75beb",
   "metadata": {},
   "outputs": [
    {
     "data": {
      "text/html": [
       "<div>\n",
       "<style scoped>\n",
       "    .dataframe tbody tr th:only-of-type {\n",
       "        vertical-align: middle;\n",
       "    }\n",
       "\n",
       "    .dataframe tbody tr th {\n",
       "        vertical-align: top;\n",
       "    }\n",
       "\n",
       "    .dataframe thead th {\n",
       "        text-align: right;\n",
       "    }\n",
       "</style>\n",
       "<table border=\"1\" class=\"dataframe\">\n",
       "  <thead>\n",
       "    <tr style=\"text-align: right;\">\n",
       "      <th></th>\n",
       "      <th>Order ID</th>\n",
       "      <th>Product</th>\n",
       "      <th>Quantity Ordered</th>\n",
       "      <th>Price Each</th>\n",
       "      <th>Order Date</th>\n",
       "      <th>Purchase Address</th>\n",
       "    </tr>\n",
       "  </thead>\n",
       "  <tbody>\n",
       "    <tr>\n",
       "      <th>519</th>\n",
       "      <td>Order ID</td>\n",
       "      <td>Product</td>\n",
       "      <td>Quantity Ordered</td>\n",
       "      <td>NaN</td>\n",
       "      <td>Order Date</td>\n",
       "      <td>Purchase Address</td>\n",
       "    </tr>\n",
       "    <tr>\n",
       "      <th>1149</th>\n",
       "      <td>Order ID</td>\n",
       "      <td>Product</td>\n",
       "      <td>Quantity Ordered</td>\n",
       "      <td>NaN</td>\n",
       "      <td>Order Date</td>\n",
       "      <td>Purchase Address</td>\n",
       "    </tr>\n",
       "    <tr>\n",
       "      <th>1155</th>\n",
       "      <td>Order ID</td>\n",
       "      <td>Product</td>\n",
       "      <td>Quantity Ordered</td>\n",
       "      <td>NaN</td>\n",
       "      <td>Order Date</td>\n",
       "      <td>Purchase Address</td>\n",
       "    </tr>\n",
       "    <tr>\n",
       "      <th>2878</th>\n",
       "      <td>Order ID</td>\n",
       "      <td>Product</td>\n",
       "      <td>Quantity Ordered</td>\n",
       "      <td>NaN</td>\n",
       "      <td>Order Date</td>\n",
       "      <td>Purchase Address</td>\n",
       "    </tr>\n",
       "    <tr>\n",
       "      <th>2893</th>\n",
       "      <td>Order ID</td>\n",
       "      <td>Product</td>\n",
       "      <td>Quantity Ordered</td>\n",
       "      <td>NaN</td>\n",
       "      <td>Order Date</td>\n",
       "      <td>Purchase Address</td>\n",
       "    </tr>\n",
       "    <tr>\n",
       "      <th>...</th>\n",
       "      <td>...</td>\n",
       "      <td>...</td>\n",
       "      <td>...</td>\n",
       "      <td>...</td>\n",
       "      <td>...</td>\n",
       "      <td>...</td>\n",
       "    </tr>\n",
       "    <tr>\n",
       "      <th>185164</th>\n",
       "      <td>Order ID</td>\n",
       "      <td>Product</td>\n",
       "      <td>Quantity Ordered</td>\n",
       "      <td>NaN</td>\n",
       "      <td>Order Date</td>\n",
       "      <td>Purchase Address</td>\n",
       "    </tr>\n",
       "    <tr>\n",
       "      <th>185551</th>\n",
       "      <td>Order ID</td>\n",
       "      <td>Product</td>\n",
       "      <td>Quantity Ordered</td>\n",
       "      <td>NaN</td>\n",
       "      <td>Order Date</td>\n",
       "      <td>Purchase Address</td>\n",
       "    </tr>\n",
       "    <tr>\n",
       "      <th>186563</th>\n",
       "      <td>Order ID</td>\n",
       "      <td>Product</td>\n",
       "      <td>Quantity Ordered</td>\n",
       "      <td>NaN</td>\n",
       "      <td>Order Date</td>\n",
       "      <td>Purchase Address</td>\n",
       "    </tr>\n",
       "    <tr>\n",
       "      <th>186632</th>\n",
       "      <td>Order ID</td>\n",
       "      <td>Product</td>\n",
       "      <td>Quantity Ordered</td>\n",
       "      <td>NaN</td>\n",
       "      <td>Order Date</td>\n",
       "      <td>Purchase Address</td>\n",
       "    </tr>\n",
       "    <tr>\n",
       "      <th>186738</th>\n",
       "      <td>Order ID</td>\n",
       "      <td>Product</td>\n",
       "      <td>Quantity Ordered</td>\n",
       "      <td>NaN</td>\n",
       "      <td>Order Date</td>\n",
       "      <td>Purchase Address</td>\n",
       "    </tr>\n",
       "  </tbody>\n",
       "</table>\n",
       "<p>355 rows × 6 columns</p>\n",
       "</div>"
      ],
      "text/plain": [
       "        Order ID  Product  Quantity Ordered  Price Each  Order Date  \\\n",
       "519     Order ID  Product  Quantity Ordered         NaN  Order Date   \n",
       "1149    Order ID  Product  Quantity Ordered         NaN  Order Date   \n",
       "1155    Order ID  Product  Quantity Ordered         NaN  Order Date   \n",
       "2878    Order ID  Product  Quantity Ordered         NaN  Order Date   \n",
       "2893    Order ID  Product  Quantity Ordered         NaN  Order Date   \n",
       "...          ...      ...               ...         ...         ...   \n",
       "185164  Order ID  Product  Quantity Ordered         NaN  Order Date   \n",
       "185551  Order ID  Product  Quantity Ordered         NaN  Order Date   \n",
       "186563  Order ID  Product  Quantity Ordered         NaN  Order Date   \n",
       "186632  Order ID  Product  Quantity Ordered         NaN  Order Date   \n",
       "186738  Order ID  Product  Quantity Ordered         NaN  Order Date   \n",
       "\n",
       "        Purchase Address  \n",
       "519     Purchase Address  \n",
       "1149    Purchase Address  \n",
       "1155    Purchase Address  \n",
       "2878    Purchase Address  \n",
       "2893    Purchase Address  \n",
       "...                  ...  \n",
       "185164  Purchase Address  \n",
       "185551  Purchase Address  \n",
       "186563  Purchase Address  \n",
       "186632  Purchase Address  \n",
       "186738  Purchase Address  \n",
       "\n",
       "[355 rows x 6 columns]"
      ]
     },
     "execution_count": 38,
     "metadata": {},
     "output_type": "execute_result"
    }
   ],
   "source": [
    "valores_no_numericos[valores_no_numericos[\"Product\"] == \"Product\"]"
   ]
  },
  {
   "cell_type": "markdown",
   "id": "57beeebe",
   "metadata": {},
   "source": [
    "### ¿Cómo hacerlo para formatos especiales como las fechas?\n",
    "\n",
    "Atención especial al tema de dia / mes / año vs mes / día  / año"
   ]
  },
  {
   "cell_type": "code",
   "execution_count": 45,
   "id": "129a8c28",
   "metadata": {
    "scrolled": true
   },
   "outputs": [
    {
     "data": {
      "text/plain": [
       "Order Date        355\n",
       "12/15/19 20:16      8\n",
       "04/02/19 13:24      7\n",
       "10/30/19 21:28      7\n",
       "12/11/19 13:24      7\n",
       "                 ... \n",
       "02/09/19 15:16      1\n",
       "10/09/19 18:04      1\n",
       "06/15/19 09:13      1\n",
       "08/22/19 23:17      1\n",
       "09/12/19 19:06      1\n",
       "Name: Order Date, Length: 142396, dtype: int64"
      ]
     },
     "execution_count": 45,
     "metadata": {},
     "output_type": "execute_result"
    }
   ],
   "source": [
    "# Como en este caso....\n",
    "df_combinado[\"Order Date\"].value_counts()"
   ]
  },
  {
   "cell_type": "markdown",
   "id": "19a536c9",
   "metadata": {},
   "source": [
    "#### Gestión de excepciones y funciones de conversión\n",
    "Acá podemos hacer manejo de excepciones "
   ]
  },
  {
   "cell_type": "code",
   "execution_count": 52,
   "id": "c0c3332d",
   "metadata": {},
   "outputs": [
    {
     "name": "stdout",
     "output_type": "stream",
     "text": [
      "        Order ID  Product  Quantity Ordered  Price Each  Order Date  \\\n",
      "1            NaN      NaN               NaN         NaN         NaN   \n",
      "356          NaN      NaN               NaN         NaN         NaN   \n",
      "519     Order ID  Product  Quantity Ordered         NaN  Order Date   \n",
      "735          NaN      NaN               NaN         NaN         NaN   \n",
      "1149    Order ID  Product  Quantity Ordered         NaN  Order Date   \n",
      "...          ...      ...               ...         ...         ...   \n",
      "186548       NaN      NaN               NaN         NaN         NaN   \n",
      "186563  Order ID  Product  Quantity Ordered         NaN  Order Date   \n",
      "186632  Order ID  Product  Quantity Ordered         NaN  Order Date   \n",
      "186738  Order ID  Product  Quantity Ordered         NaN  Order Date   \n",
      "186826       NaN      NaN               NaN         NaN         NaN   \n",
      "\n",
      "        Purchase Address  \n",
      "1                    NaN  \n",
      "356                  NaN  \n",
      "519     Purchase Address  \n",
      "735                  NaN  \n",
      "1149    Purchase Address  \n",
      "...                  ...  \n",
      "186548               NaN  \n",
      "186563  Purchase Address  \n",
      "186632  Purchase Address  \n",
      "186738  Purchase Address  \n",
      "186826               NaN  \n",
      "\n",
      "[900 rows x 6 columns]\n"
     ]
    }
   ],
   "source": [
    "import pandas as pd\n",
    "from datetime import datetime\n",
    "\n",
    "# Supongamos que tienes el DataFrame df_combinado\n",
    "\n",
    "# Función para verificar si un valor es una fecha válida\n",
    "def es_fecha_valida(date_str):\n",
    "    if isinstance(date_str, str):  # Verificar si es una cadena (str)\n",
    "        try:\n",
    "            datetime.strptime(date_str, '%m/%d/%y %H:%M')\n",
    "            return True\n",
    "        except ValueError:            \n",
    "            return False\n",
    "    else:\n",
    "        return False\n",
    "\n",
    "# Identificar los valores no válidos en la columna 'Order Date'\n",
    "valores_no_validos = df_combinado[~df_combinado['Order Date'].apply(es_fecha_valida)]\n",
    "print(valores_no_validos)"
   ]
  },
  {
   "cell_type": "markdown",
   "id": "6620088f",
   "metadata": {},
   "source": [
    "# Resumen\n",
    "\n",
    "¿Qué podemos hacer?"
   ]
  },
  {
   "cell_type": "markdown",
   "id": "f44f0719",
   "metadata": {},
   "source": [
    "### Usando expresiones regulares\n",
    "\n",
    "Si los valores erróneos siguen un patrón específico, puedes utilizar expresiones regulares para detectarlos. Por ejemplo, si tienes una columna que debería contener solo números enteros, pero algunos valores contienen letras o caracteres especiales, puedes utilizar regex para identificarlos."
   ]
  },
  {
   "cell_type": "code",
   "execution_count": 58,
   "id": "e099e60f",
   "metadata": {},
   "outputs": [
    {
     "data": {
      "text/html": [
       "<div>\n",
       "<style scoped>\n",
       "    .dataframe tbody tr th:only-of-type {\n",
       "        vertical-align: middle;\n",
       "    }\n",
       "\n",
       "    .dataframe tbody tr th {\n",
       "        vertical-align: top;\n",
       "    }\n",
       "\n",
       "    .dataframe thead th {\n",
       "        text-align: right;\n",
       "    }\n",
       "</style>\n",
       "<table border=\"1\" class=\"dataframe\">\n",
       "  <thead>\n",
       "    <tr style=\"text-align: right;\">\n",
       "      <th></th>\n",
       "      <th>Columna</th>\n",
       "    </tr>\n",
       "  </thead>\n",
       "  <tbody>\n",
       "    <tr>\n",
       "      <th>2</th>\n",
       "      <td>abc</td>\n",
       "    </tr>\n",
       "    <tr>\n",
       "      <th>6</th>\n",
       "      <td>xyz</td>\n",
       "    </tr>\n",
       "  </tbody>\n",
       "</table>\n",
       "</div>"
      ],
      "text/plain": [
       "  Columna\n",
       "2     abc\n",
       "6     xyz"
      ]
     },
     "execution_count": 58,
     "metadata": {},
     "output_type": "execute_result"
    }
   ],
   "source": [
    "import pandas as pd\n",
    "\n",
    "# Crear un DataFrame de prueba\n",
    "data = {'Columna': [10, 15, 'abc', 25, 30, 100, 'xyz', 40, 45, 50]}\n",
    "df_combinado = pd.DataFrame(data)\n",
    "\n",
    "# Supongamos que tienes el DataFrame df_combinado y la columna 'Columna' con valores enteros\n",
    "# Utilizar regex para detectar valores no enteros en la columna\n",
    "valores_no_enteros = df_combinado[~df_combinado['Columna'].astype(str).str.match(r'^\\d+$')]\n",
    "\n",
    "valores_no_enteros"
   ]
  },
  {
   "cell_type": "markdown",
   "id": "ef6f55cf",
   "metadata": {},
   "source": [
    "### Utilizando funciones específicas para cada tipo de dato:\n",
    "Si tienes información sobre los tipos de datos esperados en cada columna, puedes utilizar funciones específicas para cada tipo de dato para detectar valores erróneos. Por ejemplo, si una columna debería contener solo fechas válidas, puedes usar la función pd.to_datetime y capturar excepciones para identificar fechas no válidas."
   ]
  },
  {
   "cell_type": "code",
   "execution_count": 59,
   "id": "17577144",
   "metadata": {},
   "outputs": [
    {
     "name": "stdout",
     "output_type": "stream",
     "text": [
      "        Fecha\n",
      "3  2022-04-32\n",
      "8  2022-09-31\n"
     ]
    }
   ],
   "source": [
    "import pandas as pd\n",
    "\n",
    "# Crear un DataFrame de prueba con fechas válidas e inválidas\n",
    "data = {'Fecha': ['2022-01-01', '2022-02-15', '2022-03-25', '2022-04-32', '2022-05-15', '2022-06-30', '2022-07-10', '2022-08-20', '2022-09-31']}\n",
    "df_combinado = pd.DataFrame(data)\n",
    "\n",
    "# Función para verificar si un valor es una fecha válida\n",
    "def es_fecha_valida(date_str):\n",
    "    try:\n",
    "        pd.to_datetime(date_str, format='%Y-%m-%d')\n",
    "        return True\n",
    "    except ValueError:\n",
    "        return False\n",
    "\n",
    "# Identificar las fechas no válidas en la columna 'Fecha'\n",
    "fechas_no_validas = df_combinado[~df_combinado['Fecha'].apply(es_fecha_valida)]\n",
    "\n",
    "print(fechas_no_validas)\n"
   ]
  },
  {
   "cell_type": "markdown",
   "id": "d7e9bd7b",
   "metadata": {},
   "source": [
    "### Utilizando la función isin():\n",
    "\n",
    "Si conoces un conjunto de valores válidos para la columna, puedes utilizar la función isin() para filtrar aquellos valores que no se encuentren en ese conjunto. Esto te permitirá detectar valores que no son válidos."
   ]
  },
  {
   "cell_type": "code",
   "execution_count": 60,
   "id": "8c9e2d10",
   "metadata": {},
   "outputs": [
    {
     "name": "stdout",
     "output_type": "stream",
     "text": [
      "   Columna\n",
      "5        6\n",
      "6        7\n",
      "7        8\n",
      "8        9\n",
      "9       10\n"
     ]
    }
   ],
   "source": [
    "import pandas as pd\n",
    "\n",
    "# Crear un DataFrame de prueba con valores válidos e inválidos en la columna 'Columna'\n",
    "data = {'Columna': [1, 2, 3, 4, 5, 6, 7, 8, 9, 10]}\n",
    "df_combinado = pd.DataFrame(data)\n",
    "\n",
    "# Supongamos que tienes una lista de valores válidos\n",
    "valores_validos = [1, 2, 3, 4, 5]\n",
    "\n",
    "# Identificar valores no válidos en la columna 'Columna'\n",
    "valores_no_validos = df_combinado[~df_combinado['Columna'].isin(valores_validos)]\n",
    "\n",
    "print(valores_no_validos)\n"
   ]
  },
  {
   "cell_type": "markdown",
   "id": "277c3bf5",
   "metadata": {},
   "source": [
    "### Utilizando el método applymap() para aplicar una función a cada elemento del DataFrame:\n",
    "Si necesitas verificar valores erróneos en todas las celdas del DataFrame, puedes utilizar el método applymap() para aplicar una función a cada elemento del DataFrame y detectar aquellos que no cumplen con ciertas condiciones."
   ]
  },
  {
   "cell_type": "code",
   "execution_count": 63,
   "id": "6ced03f6",
   "metadata": {},
   "outputs": [
    {
     "name": "stdout",
     "output_type": "stream",
     "text": [
      "   Columna1  Columna2\n",
      "0     False      True\n",
      "1      True     False\n",
      "2     False      True\n",
      "3      True     False\n",
      "4     False      True\n"
     ]
    }
   ],
   "source": [
    "import pandas as pd\n",
    "\n",
    "# Crear un DataFrame de prueba con valores positivos y negativos\n",
    "data = {'Columna1': [1, -2, 3, -4, 5],\n",
    "        'Columna2': [-6, 7, -8, 9, -10]}\n",
    "df_combinado = pd.DataFrame(data)\n",
    "\n",
    "# Función para verificar si un valor es negativo\n",
    "def es_valor_negativo(valor):\n",
    "    return valor < 0\n",
    "\n",
    "# Identificar celdas con valores negativos\n",
    "celdas_negativas = df_combinado.applymap(es_valor_negativo)\n",
    "\n",
    "print(celdas_negativas)\n"
   ]
  },
  {
   "cell_type": "markdown",
   "id": "bce20465",
   "metadata": {},
   "source": [
    "### Utilizando el método map() con un diccionario de mapeo:\n",
    "Si conoces una lista de valores válidos y quieres reemplazar los valores no válidos por algún valor específico, puedes utilizar el método map() en combinación con un diccionario de mapeo para realizar la detección y corrección al mismo tiempo."
   ]
  },
  {
   "cell_type": "code",
   "execution_count": 61,
   "id": "ba355ecd",
   "metadata": {},
   "outputs": [
    {
     "name": "stdout",
     "output_type": "stream",
     "text": [
      "   Columna  Columna_Corregida\n",
      "0        1                1.0\n",
      "1        2                2.0\n",
      "2        3                3.0\n",
      "3        4                4.0\n",
      "4        5                5.0\n",
      "5        6                NaN\n",
      "6        7                NaN\n",
      "7        8                NaN\n",
      "8        9                NaN\n",
      "9       10                NaN\n"
     ]
    }
   ],
   "source": [
    "import pandas as pd\n",
    "\n",
    "# Crear un DataFrame de prueba con valores válidos e inválidos en la columna 'Columna'\n",
    "data = {'Columna': [1, 2, 3, 4, 5, 6, 7, 8, 9, 10]}\n",
    "df_combinado = pd.DataFrame(data)\n",
    "\n",
    "# Supongamos que tienes una lista de valores válidos\n",
    "valores_validos = [1, 2, 3, 4, 5]\n",
    "\n",
    "# Crear un diccionario de mapeo para reemplazar valores no válidos por NaN\n",
    "diccionario_mapeo = {valor: valor if valor in valores_validos else None for valor in df_combinado['Columna']}\n",
    "\n",
    "# Crear una nueva columna con los valores corregidos\n",
    "df_combinado['Columna_Corregida'] = df_combinado['Columna'].map(diccionario_mapeo)\n",
    "\n",
    "print(df_combinado)\n",
    "\n"
   ]
  },
  {
   "cell_type": "markdown",
   "id": "f6d122f7",
   "metadata": {},
   "source": [
    "### Utilizando la función apply() en una columna específica:\n",
    "Si necesitas realizar una detección más compleja o aplicar una función específica a una columna para detectar valores erróneos, puedes utilizar la función apply() en la columna deseada."
   ]
  },
  {
   "cell_type": "code",
   "execution_count": 62,
   "id": "eb4158f5",
   "metadata": {},
   "outputs": [
    {
     "name": "stdout",
     "output_type": "stream",
     "text": [
      "   Columna\n",
      "3        0\n",
      "4       -5\n",
      "6       -2\n"
     ]
    }
   ],
   "source": [
    "import pandas as pd\n",
    "\n",
    "# Crear un DataFrame de prueba con valores válidos e inválidos en la columna 'Columna'\n",
    "data = {'Columna': [1, 2, 3, 0, -5, 6, -2, 8, 9, 10]}\n",
    "df_combinado = pd.DataFrame(data)\n",
    "\n",
    "# Función para verificar si un valor es válido\n",
    "def es_valor_valido(valor):\n",
    "    # Verificar si el valor es mayor que 0 (en este caso, solo se consideran valores positivos como válidos)\n",
    "    return valor > 0\n",
    "\n",
    "# Identificar valores no válidos en la columna 'Columna'\n",
    "valores_no_validos = df_combinado[~df_combinado['Columna'].apply(es_valor_valido)]\n",
    "\n",
    "print(valores_no_validos)\n"
   ]
  },
  {
   "cell_type": "code",
   "execution_count": null,
   "id": "0e8b02f4",
   "metadata": {},
   "outputs": [],
   "source": []
  },
  {
   "cell_type": "code",
   "execution_count": null,
   "id": "b4e23d38",
   "metadata": {},
   "outputs": [],
   "source": []
  }
 ],
 "metadata": {
  "kernelspec": {
   "display_name": "Python 3",
   "language": "python",
   "name": "python3"
  },
  "language_info": {
   "codemirror_mode": {
    "name": "ipython",
    "version": 3
   },
   "file_extension": ".py",
   "mimetype": "text/x-python",
   "name": "python",
   "nbconvert_exporter": "python",
   "pygments_lexer": "ipython3",
   "version": "3.7.6"
  }
 },
 "nbformat": 4,
 "nbformat_minor": 5
}
