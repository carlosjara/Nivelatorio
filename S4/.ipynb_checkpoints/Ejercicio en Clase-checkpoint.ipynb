{
 "cells": [
  {
   "cell_type": "code",
   "execution_count": 8,
   "id": "6b19ebf5",
   "metadata": {},
   "outputs": [
    {
     "name": "stdout",
     "output_type": "stream",
     "text": [
      "CPU times: total: 141 ms\n",
      "Wall time: 7.08 s\n"
     ]
    }
   ],
   "source": [
    "%%time\n",
    "import os\n",
    "import pandas as pd\n",
    "from datetime import datetime as dt\n",
    "import matplotlib.pyplot as plt\n",
    "import seaborn as sns"
   ]
  },
  {
   "cell_type": "code",
   "execution_count": 3,
   "id": "46706772",
   "metadata": {},
   "outputs": [],
   "source": [
    "# Ruta de la carpeta que contiene los archivos\n",
    "ruta_carpeta = 'data_files/'  # Reemplaza esto con la ruta de tu carpeta\n",
    "\n",
    "# Lista para almacenar los DataFrames cargados\n",
    "dataframes = []\n",
    "\n",
    "# Recorre todos los archivos en la carpeta\n",
    "for archivo in os.listdir(ruta_carpeta):\n",
    "    # Verifica si el archivo tiene una extensión que corresponde a un archivo CSV o Excel\n",
    "    if archivo.endswith('.csv') or archivo.endswith('.xlsx'):\n",
    "        # Construye la ruta completa del archivo\n",
    "        ruta_archivo = os.path.join(ruta_carpeta, archivo)\n",
    "        #print(\"Cargando:\", ruta_archivo)\n",
    "        # Carga el archivo en un DataFrame y agrega a la lista (** hablar de la notación one line)\n",
    "        df = pd.read_csv(ruta_archivo) if archivo.endswith('.csv') else pd.read_excel(ruta_archivo)\n",
    "        #df.dropna(inplace=True)\n",
    "        dataframes.append(df)\n",
    "    \n",
    "    #print(list(df.head(0).columns))\n",
    "    #print(archivo,'\\r\\n',df.dtypes)\n",
    "        \n",
    "df_combinado = pd.concat(dataframes, ignore_index=True)"
   ]
  },
  {
   "cell_type": "code",
   "execution_count": 12,
   "id": "665d9637",
   "metadata": {},
   "outputs": [],
   "source": [
    "def dropper(x):   \n",
    "    x.dropna(inplace=True)\n",
    "    return x\n",
    "\n",
    "def clean_headers(x):   \n",
    "    x = x.drop(x[x[\"Quantity Ordered\"] == \"Quantity Ordered\"].index)\n",
    "    return x\n",
    "\n",
    "def formatear_fecha(df,col_name='Order Date'):\n",
    "    df['fecha_objeto'] = pd.to_datetime(df[col_name], format=\"%m/%d/%y %H:%M\")\n",
    "    #df['date_fix'] = pd.to_datetime(df[col], format = \"%m/%d/%y %H:%M\")\n",
    "    df['nueva_fecha'] = df['fecha_objeto'].dt.strftime(\"%d/%m/%Y\")\n",
    "    df['nuevo_tiempo'] = df['fecha_objeto'].dt.strftime(\"%H:%M\")\n",
    "    #df.drop(columns=['fecha_objeto'], inplace=True)\n",
    "    return df\n",
    "\n",
    "def convertir_formato_fecha(fecha_hora_str,col_name='Order Date'):\n",
    "    formato_entrada = \"%m/%d/%y %H:%M\"\n",
    "    fecha_hora_obj = datetime.strptime(fecha_hora_str, formato_entrada)    \n",
    "    formato_salida = \"%d/%m/%Y %H:%M\" \n",
    "    fecha_nueva_str = fecha_hora_obj.strftime(formato_salida)   \n",
    "    return fecha_nueva_str\n",
    "\n",
    "def separar(cadena_texto):\n",
    "    lista_salida = cadena_texto.split()    \n",
    "    return lista_salida\n",
    "\n",
    "def split_address(df, colname=\"Purchase Address\"):\n",
    "    splitted_list = df[colname].str.split(\",\")\n",
    "    df[\"City\"] = pd.DataFrame(splitted_list)[colname].str.get(1)\n",
    "    df[\"State\"] = pd.DataFrame(splitted_list)[colname].str.get(2)\n",
    "    df[\"State\"] = df[\"State\"].str.extract(r'(\\w+)')\n",
    "    return df\n",
    "\n",
    "def replace_float(df,colname=\"Price Each\"):\n",
    "    df[colname] = df[colname].astype(float)\n",
    "    return df\n",
    "def extract_mm_yy(df, colname=\"fecha_objeto\"):\n",
    "    df[\"month\"] = df[df['fecha_objeto'].dt.year]\n",
    "df_combinado = df_combinado.pipe(dropper).pipe(clean_headers).pipe(formatear_fecha).pipe(split_address).pipe(replace_float)\n"
   ]
  },
  {
   "cell_type": "code",
   "execution_count": 6,
   "id": "d0a27b0e",
   "metadata": {},
   "outputs": [],
   "source": [
    "agrupacion_mes = pd.DataFrame(df_combinado.groupby([df_combinado['fecha_objeto'].dt.year, df_combinado['fecha_objeto'].dt.month])['Price Each'].sum())"
   ]
  },
  {
   "cell_type": "code",
   "execution_count": 7,
   "id": "252af156",
   "metadata": {
    "scrolled": false
   },
   "outputs": [
    {
     "data": {
      "text/html": [
       "<div>\n",
       "<style scoped>\n",
       "    .dataframe tbody tr th:only-of-type {\n",
       "        vertical-align: middle;\n",
       "    }\n",
       "\n",
       "    .dataframe tbody tr th {\n",
       "        vertical-align: top;\n",
       "    }\n",
       "\n",
       "    .dataframe thead th {\n",
       "        text-align: right;\n",
       "    }\n",
       "</style>\n",
       "<table border=\"1\" class=\"dataframe\">\n",
       "  <thead>\n",
       "    <tr style=\"text-align: right;\">\n",
       "      <th></th>\n",
       "      <th></th>\n",
       "      <th>Price Each</th>\n",
       "    </tr>\n",
       "    <tr>\n",
       "      <th>fecha_objeto</th>\n",
       "      <th>fecha_objeto</th>\n",
       "      <th></th>\n",
       "    </tr>\n",
       "  </thead>\n",
       "  <tbody>\n",
       "    <tr>\n",
       "      <th rowspan=\"12\" valign=\"top\">2019</th>\n",
       "      <th>1</th>\n",
       "      <td>1803264.98</td>\n",
       "    </tr>\n",
       "    <tr>\n",
       "      <th>2</th>\n",
       "      <td>2188884.72</td>\n",
       "    </tr>\n",
       "    <tr>\n",
       "      <th>3</th>\n",
       "      <td>2791207.83</td>\n",
       "    </tr>\n",
       "    <tr>\n",
       "      <th>4</th>\n",
       "      <td>3367671.02</td>\n",
       "    </tr>\n",
       "    <tr>\n",
       "      <th>5</th>\n",
       "      <td>3135125.13</td>\n",
       "    </tr>\n",
       "    <tr>\n",
       "      <th>6</th>\n",
       "      <td>2562025.61</td>\n",
       "    </tr>\n",
       "    <tr>\n",
       "      <th>7</th>\n",
       "      <td>2632539.56</td>\n",
       "    </tr>\n",
       "    <tr>\n",
       "      <th>8</th>\n",
       "      <td>2230345.42</td>\n",
       "    </tr>\n",
       "    <tr>\n",
       "      <th>9</th>\n",
       "      <td>2084992.09</td>\n",
       "    </tr>\n",
       "    <tr>\n",
       "      <th>10</th>\n",
       "      <td>3715554.83</td>\n",
       "    </tr>\n",
       "    <tr>\n",
       "      <th>11</th>\n",
       "      <td>3180600.68</td>\n",
       "    </tr>\n",
       "    <tr>\n",
       "      <th>12</th>\n",
       "      <td>4588415.41</td>\n",
       "    </tr>\n",
       "    <tr>\n",
       "      <th>2020</th>\n",
       "      <th>1</th>\n",
       "      <td>8503.40</td>\n",
       "    </tr>\n",
       "  </tbody>\n",
       "</table>\n",
       "</div>"
      ],
      "text/plain": [
       "                           Price Each\n",
       "fecha_objeto fecha_objeto            \n",
       "2019         1             1803264.98\n",
       "             2             2188884.72\n",
       "             3             2791207.83\n",
       "             4             3367671.02\n",
       "             5             3135125.13\n",
       "             6             2562025.61\n",
       "             7             2632539.56\n",
       "             8             2230345.42\n",
       "             9             2084992.09\n",
       "             10            3715554.83\n",
       "             11            3180600.68\n",
       "             12            4588415.41\n",
       "2020         1                8503.40"
      ]
     },
     "execution_count": 7,
     "metadata": {},
     "output_type": "execute_result"
    }
   ],
   "source": [
    "agrupacion_mes"
   ]
  },
  {
   "cell_type": "code",
   "execution_count": null,
   "id": "01b269f4",
   "metadata": {},
   "outputs": [],
   "source": [
    "sns.catplot(x=\"\", y=\"Price Each\", data=df_combinado, kind=\"box\", aspect=1.5)\n",
    "plt.title(\"Boxplot for Experience Level vs Salary in USD\")\n",
    "plt.show()"
   ]
  }
 ],
 "metadata": {
  "kernelspec": {
   "display_name": "Python 3 (ipykernel)",
   "language": "python",
   "name": "python3"
  },
  "language_info": {
   "codemirror_mode": {
    "name": "ipython",
    "version": 3
   },
   "file_extension": ".py",
   "mimetype": "text/x-python",
   "name": "python",
   "nbconvert_exporter": "python",
   "pygments_lexer": "ipython3",
   "version": "3.10.9"
  }
 },
 "nbformat": 4,
 "nbformat_minor": 5
}
