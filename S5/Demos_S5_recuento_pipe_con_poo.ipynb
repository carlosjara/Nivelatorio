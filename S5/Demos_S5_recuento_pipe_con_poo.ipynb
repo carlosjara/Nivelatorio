{
 "cells": [
  {
   "cell_type": "markdown",
   "id": "615204ac",
   "metadata": {},
   "source": [
    "## Demo en clase 5\n",
    "##### Dataset de Ventas (Exploración, Limpieza, Combinación)\n",
    "https://www.kaggle.com/datasets/knightbearr/sales-product-data"
   ]
  },
  {
   "cell_type": "markdown",
   "id": "125c2689",
   "metadata": {},
   "source": [
    "#### ❌ Me sale un error cuando trato de usar Pipe y Programación orientada a objetos"
   ]
  },
  {
   "cell_type": "code",
   "execution_count": 50,
   "id": "aaf2c061",
   "metadata": {},
   "outputs": [
    {
     "name": "stdout",
     "output_type": "stream",
     "text": [
      "<class 'pandas.core.frame.DataFrame'>\n",
      "    name  age   colA   colB   colC\n",
      "0  Sally   10   True   True   True\n",
      "1   Mary   20  False  False  False\n",
      "2   John   30  False  False  False\n"
     ]
    }
   ],
   "source": [
    "# Recuerden de la vez pasada\n",
    "\n",
    "import pandas as pd\n",
    "\n",
    "def change_age(x):\n",
    "    print(type(x))\n",
    "    x[\"age\"]=[10, 20, 30]\n",
    "    return x\n",
    "\n",
    "def add_column(x, arg1):    \n",
    "    x[arg1]=[True, False, False]\n",
    "    return x\n",
    "\n",
    "data = {\n",
    "  \"name\": [\"Sally\", \"Mary\", \"John\"],\n",
    "  \"age\": [50, 40, 30]\n",
    "}\n",
    "\n",
    "df = pd.DataFrame(data)\n",
    "df.pipe(change_age).pipe(add_column, arg1=\"colA\").pipe(add_column, arg1=\"colB\").pipe(add_column, arg1=\"colC\")\n",
    "\n",
    "print(df)\n",
    "\n",
    "# hablar de: https://pandas.pydata.org/docs/reference/api/pandas.DataFrame.pipe.html"
   ]
  },
  {
   "cell_type": "markdown",
   "id": "29f8dee2",
   "metadata": {},
   "source": [
    "### El error "
   ]
  },
  {
   "cell_type": "code",
   "execution_count": 72,
   "id": "8c195c23",
   "metadata": {},
   "outputs": [],
   "source": [
    "# La base\n",
    "import pandas as pd\n",
    "\n",
    "class PipeHelperTools:\n",
    "    \n",
    "    def __init__(self):\n",
    "        print(\"Helper instanciado\")\n",
    "\n",
    "    def change_age(x): ## x?\n",
    "        print(type(x))\n",
    "        x[\"age\"]=[10, 20, 30]\n",
    "        return x\n",
    "\n",
    "    def add_column(x, arg1):    \n",
    "        x[arg1]=[True, False, False]\n",
    "        return x"
   ]
  },
  {
   "cell_type": "code",
   "execution_count": 73,
   "id": "3f2b8571",
   "metadata": {},
   "outputs": [
    {
     "name": "stdout",
     "output_type": "stream",
     "text": [
      "Helper instanciado\n"
     ]
    },
    {
     "ename": "TypeError",
     "evalue": "change_age() takes 1 positional argument but 2 were given",
     "output_type": "error",
     "traceback": [
      "\u001b[1;31m---------------------------------------------------------------------------\u001b[0m",
      "\u001b[1;31mTypeError\u001b[0m                                 Traceback (most recent call last)",
      "\u001b[1;32m<ipython-input-73-d7b85fe12faa>\u001b[0m in \u001b[0;36m<module>\u001b[1;34m\u001b[0m\n\u001b[0;32m      7\u001b[0m \u001b[1;33m\u001b[0m\u001b[0m\n\u001b[0;32m      8\u001b[0m \u001b[0mdf\u001b[0m \u001b[1;33m=\u001b[0m \u001b[0mpd\u001b[0m\u001b[1;33m.\u001b[0m\u001b[0mDataFrame\u001b[0m\u001b[1;33m(\u001b[0m\u001b[0mdata\u001b[0m\u001b[1;33m)\u001b[0m\u001b[1;33m\u001b[0m\u001b[1;33m\u001b[0m\u001b[0m\n\u001b[1;32m----> 9\u001b[1;33m \u001b[0mdf\u001b[0m\u001b[1;33m.\u001b[0m\u001b[0mpipe\u001b[0m\u001b[1;33m(\u001b[0m\u001b[0mhelper\u001b[0m\u001b[1;33m.\u001b[0m\u001b[0mchange_age\u001b[0m\u001b[1;33m)\u001b[0m\u001b[1;33m.\u001b[0m\u001b[0mpipe\u001b[0m\u001b[1;33m(\u001b[0m\u001b[0mhelper\u001b[0m\u001b[1;33m.\u001b[0m\u001b[0madd_column\u001b[0m\u001b[1;33m,\u001b[0m \u001b[0marg1\u001b[0m\u001b[1;33m=\u001b[0m\u001b[1;34m\"colA\"\u001b[0m\u001b[1;33m)\u001b[0m\u001b[1;33m.\u001b[0m\u001b[0mpipe\u001b[0m\u001b[1;33m(\u001b[0m\u001b[0mhelper\u001b[0m\u001b[1;33m.\u001b[0m\u001b[0madd_column\u001b[0m\u001b[1;33m,\u001b[0m \u001b[0marg1\u001b[0m\u001b[1;33m=\u001b[0m\u001b[1;34m\"colB\"\u001b[0m\u001b[1;33m)\u001b[0m\u001b[1;33m.\u001b[0m\u001b[0mpipe\u001b[0m\u001b[1;33m(\u001b[0m\u001b[0mhelper\u001b[0m\u001b[1;33m.\u001b[0m\u001b[0madd_column\u001b[0m\u001b[1;33m,\u001b[0m \u001b[0marg1\u001b[0m\u001b[1;33m=\u001b[0m\u001b[1;34m\"colC\"\u001b[0m\u001b[1;33m)\u001b[0m\u001b[1;33m\u001b[0m\u001b[1;33m\u001b[0m\u001b[0m\n\u001b[0m\u001b[0;32m     10\u001b[0m \u001b[1;33m\u001b[0m\u001b[0m\n\u001b[0;32m     11\u001b[0m \u001b[0mprint\u001b[0m\u001b[1;33m(\u001b[0m\u001b[0mdf\u001b[0m\u001b[1;33m)\u001b[0m\u001b[1;33m\u001b[0m\u001b[1;33m\u001b[0m\u001b[0m\n",
      "\u001b[1;32mC:\\ProgramData\\Anaconda3\\lib\\site-packages\\pandas\\core\\generic.py\u001b[0m in \u001b[0;36mpipe\u001b[1;34m(self, func, *args, **kwargs)\u001b[0m\n\u001b[0;32m   5046\u001b[0m         ...  )  # doctest: +SKIP\n\u001b[0;32m   5047\u001b[0m     \"\"\"\n\u001b[1;32m-> 5048\u001b[1;33m         \u001b[1;32mreturn\u001b[0m \u001b[0mcom\u001b[0m\u001b[1;33m.\u001b[0m\u001b[0mpipe\u001b[0m\u001b[1;33m(\u001b[0m\u001b[0mself\u001b[0m\u001b[1;33m,\u001b[0m \u001b[0mfunc\u001b[0m\u001b[1;33m,\u001b[0m \u001b[1;33m*\u001b[0m\u001b[0margs\u001b[0m\u001b[1;33m,\u001b[0m \u001b[1;33m**\u001b[0m\u001b[0mkwargs\u001b[0m\u001b[1;33m)\u001b[0m\u001b[1;33m\u001b[0m\u001b[1;33m\u001b[0m\u001b[0m\n\u001b[0m\u001b[0;32m   5049\u001b[0m \u001b[1;33m\u001b[0m\u001b[0m\n\u001b[0;32m   5050\u001b[0m     _shared_docs[\"aggregate\"] = dedent(\n",
      "\u001b[1;32mC:\\ProgramData\\Anaconda3\\lib\\site-packages\\pandas\\core\\common.py\u001b[0m in \u001b[0;36mpipe\u001b[1;34m(obj, func, *args, **kwargs)\u001b[0m\n\u001b[0;32m    469\u001b[0m         \u001b[1;32mreturn\u001b[0m \u001b[0mfunc\u001b[0m\u001b[1;33m(\u001b[0m\u001b[1;33m*\u001b[0m\u001b[0margs\u001b[0m\u001b[1;33m,\u001b[0m \u001b[1;33m**\u001b[0m\u001b[0mkwargs\u001b[0m\u001b[1;33m)\u001b[0m\u001b[1;33m\u001b[0m\u001b[1;33m\u001b[0m\u001b[0m\n\u001b[0;32m    470\u001b[0m     \u001b[1;32melse\u001b[0m\u001b[1;33m:\u001b[0m\u001b[1;33m\u001b[0m\u001b[1;33m\u001b[0m\u001b[0m\n\u001b[1;32m--> 471\u001b[1;33m         \u001b[1;32mreturn\u001b[0m \u001b[0mfunc\u001b[0m\u001b[1;33m(\u001b[0m\u001b[0mobj\u001b[0m\u001b[1;33m,\u001b[0m \u001b[1;33m*\u001b[0m\u001b[0margs\u001b[0m\u001b[1;33m,\u001b[0m \u001b[1;33m**\u001b[0m\u001b[0mkwargs\u001b[0m\u001b[1;33m)\u001b[0m\u001b[1;33m\u001b[0m\u001b[1;33m\u001b[0m\u001b[0m\n\u001b[0m\u001b[0;32m    472\u001b[0m \u001b[1;33m\u001b[0m\u001b[0m\n\u001b[0;32m    473\u001b[0m \u001b[1;33m\u001b[0m\u001b[0m\n",
      "\u001b[1;31mTypeError\u001b[0m: change_age() takes 1 positional argument but 2 were given"
     ]
    }
   ],
   "source": [
    "data = {\n",
    "  \"name\": [\"Pepe\", \"Mengano\", \"Perencejo\"],\n",
    "  \"age\": [17, 24, 32]\n",
    "}\n",
    "\n",
    "helper = PipeHelperTools();\n",
    "\n",
    "df = pd.DataFrame(data)\n",
    "df.pipe(helper.change_age).pipe(helper.add_column, arg1=\"colA\").pipe(helper.add_column, arg1=\"colB\").pipe(helper.add_column, arg1=\"colC\")\n",
    "\n",
    "print(df)\n",
    "\n",
    "# Hablar de métodos/funciones de orden superior"
   ]
  },
  {
   "cell_type": "markdown",
   "id": "b6e9de77",
   "metadata": {},
   "source": [
    "### Opción 1 - El \"Llamador\" como instancia"
   ]
  },
  {
   "cell_type": "code",
   "execution_count": 74,
   "id": "cb53df8a",
   "metadata": {},
   "outputs": [
    {
     "name": "stdout",
     "output_type": "stream",
     "text": [
      "A    12\n",
      "B    30\n",
      "C    48\n",
      "dtype: int64\n"
     ]
    }
   ],
   "source": [
    "import pandas as pd\n",
    "\n",
    "class DataFrameProcessor:\n",
    "    def duplicate_values(self, df):\n",
    "        return df.apply(lambda x: x * 2)\n",
    "\n",
    "    def column_sum(self, df):\n",
    "        return df.sum()\n",
    "\n",
    "# Creamos un DataFrame de ejemplo\n",
    "data = {'A': [1, 2, 3], 'B': [4, 5, 6], 'C': [7, 8, 9]}\n",
    "df = pd.DataFrame(data)\n",
    "\n",
    "# Creamos una instancia de la clase DataFrameProcessor\n",
    "processor = DataFrameProcessor()\n",
    "\n",
    "# Usamos el operador `pipe` para aplicar los métodos a nuestro DataFrame\n",
    "df_processed = df.pipe(processor.duplicate_values).pipe(processor.column_sum)\n",
    "\n",
    "print(df_processed)\n"
   ]
  },
  {
   "cell_type": "markdown",
   "id": "73fc0ce1",
   "metadata": {},
   "source": [
    "### Opción 2 - El llamador con métodos estáticos"
   ]
  },
  {
   "cell_type": "code",
   "execution_count": 58,
   "id": "be1eb8a5",
   "metadata": {},
   "outputs": [
    {
     "name": "stdout",
     "output_type": "stream",
     "text": [
      "A    12\n",
      "B    30\n",
      "C    48\n",
      "dtype: int64\n"
     ]
    }
   ],
   "source": [
    "import pandas as pd\n",
    "\n",
    "class DataFrameProcessor:\n",
    "    @staticmethod\n",
    "    def duplicate_values(df):\n",
    "        return df.apply(lambda x: x * 2)\n",
    "    \n",
    "    @staticmethod\n",
    "    def column_sum(df): ## agregar arg\n",
    "        return df.sum()\n",
    "\n",
    "# Creamos un DataFrame de ejemplo\n",
    "data = {'A': [1, 2, 3], 'B': [4, 5, 6], 'C': [7, 8, 9]}\n",
    "df = pd.DataFrame(data)\n",
    "\n",
    "# Creamos una instancia de la clase DataFrameProcessor\n",
    "processor = DataFrameProcessor()\n",
    "\n",
    "# Usamos el operador `pipe` para aplicar los métodos a nuestro DataFrame\n",
    "df_processed = df.pipe(processor.duplicate_values).pipe(processor.column_sum)\n",
    "\n",
    "print(df_processed)"
   ]
  },
  {
   "cell_type": "markdown",
   "id": "e20718dd",
   "metadata": {},
   "source": [
    "## ¿Cómo entregamos argumentos?\n",
    "En el contexto la clase (la instancia) o el método (función dentro de una clase)"
   ]
  },
  {
   "cell_type": "markdown",
   "id": "93383524",
   "metadata": {},
   "source": [
    "##### De manera general vía constructor\n",
    "\n",
    "¿Para qué serviría?"
   ]
  },
  {
   "cell_type": "code",
   "execution_count": 77,
   "id": "ac676655",
   "metadata": {},
   "outputs": [
    {
     "name": "stdout",
     "output_type": "stream",
     "text": [
      "Sí, puedo leerlo\n",
      "A     72\n",
      "B     90\n",
      "C    108\n",
      "dtype: int64\n"
     ]
    }
   ],
   "source": [
    "import pandas as pd\n",
    "\n",
    "class DataFrameProcessor:\n",
    "    otro_valor = \"Sí, puedo leerlo\"\n",
    "    \n",
    "    def __init__(self, factor=1):\n",
    "        self.factor = factor\n",
    "\n",
    "    def duplicate_values(self, df):\n",
    "        print(self.otro_valor)\n",
    "        return df.apply(lambda x: (x + self.factor) * 2)\n",
    "\n",
    "    def column_sum(self, df):\n",
    "        return df.sum()\n",
    "\n",
    "# Creamos un DataFrame de ejemplo\n",
    "data = {'A': [1, 2, 3], 'B': [4, 5, 6], 'C': [7, 8, 9]}\n",
    "df = pd.DataFrame(data)\n",
    "\n",
    "# Creamos una instancia de la clase DataFrameProcessor con factor=10\n",
    "processor = DataFrameProcessor(factor=10)\n",
    "\n",
    "# Usamos el operador `pipe` para aplicar los métodos a nuestro DataFrame\n",
    "df_processed = df.pipe(processor.duplicate_values).pipe(processor.column_sum)\n",
    "\n",
    "print(df_processed)"
   ]
  },
  {
   "cell_type": "markdown",
   "id": "c8aa356b",
   "metadata": {},
   "source": [
    "##### De manera general vía función/método\n",
    "\n",
    "¿Para qué serviría?"
   ]
  },
  {
   "cell_type": "code",
   "execution_count": 166,
   "id": "4c2e7730",
   "metadata": {},
   "outputs": [
    {
     "name": "stdout",
     "output_type": "stream",
     "text": [
      "36\n"
     ]
    }
   ],
   "source": [
    "import pandas as pd\n",
    "\n",
    "class DataFrameProcessor:\n",
    "    def duplicate_values(self, df, factor=1):\n",
    "        return df.apply(lambda x: (x + factor) * 2)\n",
    "\n",
    "    def column_sum(self, df, column_name):\n",
    "        return df[column_name].sum()\n",
    "\n",
    "# Creamos un DataFrame de ejemplo\n",
    "data = {'A': [1, 2, 3], 'B': [4, 5, 6], 'C': [7, 8, 9]} ## 8, 10, 12 -> (4+1)*2=10 | (5+1)*2=12 | (6+1)*2=14\n",
    "df = pd.DataFrame(data)\n",
    "\n",
    "# Creamos una instancia de la clase DataFrameProcessor\n",
    "processor = DataFrameProcessor()\n",
    "\n",
    "# Usamos el operador `pipe` para aplicar los métodos a nuestro DataFrame y pasamos los parámetros adicionales\n",
    "factor = 1\n",
    "column_name = 'B'\n",
    "df_processed = df.pipe(processor.duplicate_values, factor=factor).pipe(processor.column_sum, column_name=column_name)\n",
    "\n",
    "print(df_processed)"
   ]
  },
  {
   "cell_type": "code",
   "execution_count": 153,
   "id": "66e4d202",
   "metadata": {},
   "outputs": [],
   "source": [
    "class Persona:\n",
    "    especie=\"Homo Sapiens\"\n",
    "    \n",
    "    def __init__(self, nombre, apellido, edad):\n",
    "        self.nombre = nombre\n",
    "        self.apellido = apellido\n",
    "        self.edad = edad\n",
    "    \n",
    "    def presentarse(self):\n",
    "        print(\"...\", self)\n",
    "        print(\"hola, soy:\", self.nombre, self.apellido, \" y tengo\", self.edad, \"de edad\", \"soy de especie:\", self.especie)    \n",
    "    \n",
    "    @classmethod\n",
    "    def presentarse_en_clase(cls):\n",
    "        print(\"...\", cls)\n",
    "        #print(\"hola, soy:\", cls.nombre, cls.apellido, \" y tengo\", cls.edad, \"de edad\", \"soy de especie:\", cls.especie)    \n",
    "        print(cls.especie)\n",
    "        \n",
    "    @staticmethod\n",
    "    def presentarse_en_estatico(mensaje):\n",
    "        print(\"Hola, este es mi mensaje: \", mensaje)"
   ]
  },
  {
   "cell_type": "code",
   "execution_count": 154,
   "id": "ce0e5d4b",
   "metadata": {},
   "outputs": [],
   "source": [
    "persona_a = Persona(\"Jose\", \"Moncada\", 36)"
   ]
  },
  {
   "cell_type": "code",
   "execution_count": 155,
   "id": "912bacef",
   "metadata": {},
   "outputs": [
    {
     "name": "stdout",
     "output_type": "stream",
     "text": [
      "... <__main__.Persona object at 0x000001F916DF9588>\n",
      "hola, soy: Jose Moncada  y tengo 36 de edad soy de especie: Homo Sapiens\n"
     ]
    }
   ],
   "source": [
    "persona_a.presentarse()"
   ]
  },
  {
   "cell_type": "code",
   "execution_count": 156,
   "id": "5e693aae",
   "metadata": {},
   "outputs": [
    {
     "name": "stdout",
     "output_type": "stream",
     "text": [
      "... <class '__main__.Persona'>\n",
      "Homo Sapiens\n"
     ]
    }
   ],
   "source": [
    "persona_a.presentarse_en_clase()"
   ]
  },
  {
   "cell_type": "code",
   "execution_count": 157,
   "id": "443b5b00",
   "metadata": {},
   "outputs": [
    {
     "name": "stdout",
     "output_type": "stream",
     "text": [
      "Hola, este es mi mensaje:  Este es un curso de python 🐍\n"
     ]
    }
   ],
   "source": [
    "persona_a.presentarse_en_estatico(\"Este es un curso de python 🐍\")"
   ]
  },
  {
   "cell_type": "code",
   "execution_count": 163,
   "id": "4dc6e227",
   "metadata": {},
   "outputs": [],
   "source": [
    "class Helper_geometrico:\n",
    "    \n",
    "    @staticmethod\n",
    "    def calcular_area_triangulo(base, altura):\n",
    "        return (base*altura)/2      "
   ]
  },
  {
   "cell_type": "code",
   "execution_count": 162,
   "id": "fef1ad78",
   "metadata": {},
   "outputs": [
    {
     "data": {
      "text/plain": [
       "50.0"
      ]
     },
     "execution_count": 162,
     "metadata": {},
     "output_type": "execute_result"
    }
   ],
   "source": [
    "HelperGeometrico.calcular_area_triangulo(10,10)"
   ]
  }
 ],
 "metadata": {
  "kernelspec": {
   "display_name": "Python 3",
   "language": "python",
   "name": "python3"
  },
  "language_info": {
   "codemirror_mode": {
    "name": "ipython",
    "version": 3
   },
   "file_extension": ".py",
   "mimetype": "text/x-python",
   "name": "python",
   "nbconvert_exporter": "python",
   "pygments_lexer": "ipython3",
   "version": "3.7.6"
  }
 },
 "nbformat": 4,
 "nbformat_minor": 5
}
