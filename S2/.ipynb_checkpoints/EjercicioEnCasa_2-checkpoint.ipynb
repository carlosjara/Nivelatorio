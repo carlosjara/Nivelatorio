{
 "cells": [
  {
   "cell_type": "markdown",
   "id": "96c45f96",
   "metadata": {},
   "source": [
    "## Ejercicio en casa 2\n",
    "##### Dataset de Netflix (Contenidos)\n",
    "https://www.kaggle.com/datasets/swatikhedekar/exploratory-data-analysis-on-netflix-data\n",
    "\n"
   ]
  },
  {
   "cell_type": "code",
   "execution_count": 394,
   "id": "2be2d630",
   "metadata": {},
   "outputs": [
    {
     "data": {
      "text/html": [
       "<div>\n",
       "<style scoped>\n",
       "    .dataframe tbody tr th:only-of-type {\n",
       "        vertical-align: middle;\n",
       "    }\n",
       "\n",
       "    .dataframe tbody tr th {\n",
       "        vertical-align: top;\n",
       "    }\n",
       "\n",
       "    .dataframe thead th {\n",
       "        text-align: right;\n",
       "    }\n",
       "</style>\n",
       "<table border=\"1\" class=\"dataframe\">\n",
       "  <thead>\n",
       "    <tr style=\"text-align: right;\">\n",
       "      <th></th>\n",
       "      <th>show_id</th>\n",
       "      <th>type</th>\n",
       "      <th>title</th>\n",
       "      <th>director</th>\n",
       "      <th>cast</th>\n",
       "      <th>country</th>\n",
       "      <th>date_added</th>\n",
       "      <th>release_year</th>\n",
       "      <th>rating</th>\n",
       "      <th>duration</th>\n",
       "      <th>listed_in</th>\n",
       "      <th>description</th>\n",
       "    </tr>\n",
       "  </thead>\n",
       "  <tbody>\n",
       "    <tr>\n",
       "      <th>0</th>\n",
       "      <td>s1</td>\n",
       "      <td>Movie</td>\n",
       "      <td>Dick Johnson Is Dead</td>\n",
       "      <td>Kirsten Johnson</td>\n",
       "      <td>NaN</td>\n",
       "      <td>United States</td>\n",
       "      <td>September 25, 2021</td>\n",
       "      <td>2020</td>\n",
       "      <td>PG-13</td>\n",
       "      <td>90 min</td>\n",
       "      <td>Documentaries</td>\n",
       "      <td>As her father nears the end of his life, filmm...</td>\n",
       "    </tr>\n",
       "    <tr>\n",
       "      <th>1</th>\n",
       "      <td>s2</td>\n",
       "      <td>TV Show</td>\n",
       "      <td>Blood &amp; Water</td>\n",
       "      <td>NaN</td>\n",
       "      <td>Ama Qamata, Khosi Ngema, Gail Mabalane, Thaban...</td>\n",
       "      <td>South Africa</td>\n",
       "      <td>September 24, 2021</td>\n",
       "      <td>2021</td>\n",
       "      <td>TV-MA</td>\n",
       "      <td>2 Seasons</td>\n",
       "      <td>International TV Shows, TV Dramas, TV Mysteries</td>\n",
       "      <td>After crossing paths at a party, a Cape Town t...</td>\n",
       "    </tr>\n",
       "    <tr>\n",
       "      <th>2</th>\n",
       "      <td>s3</td>\n",
       "      <td>TV Show</td>\n",
       "      <td>Ganglands</td>\n",
       "      <td>Julien Leclercq</td>\n",
       "      <td>Sami Bouajila, Tracy Gotoas, Samuel Jouy, Nabi...</td>\n",
       "      <td>NaN</td>\n",
       "      <td>September 24, 2021</td>\n",
       "      <td>2021</td>\n",
       "      <td>TV-MA</td>\n",
       "      <td>1 Season</td>\n",
       "      <td>Crime TV Shows, International TV Shows, TV Act...</td>\n",
       "      <td>To protect his family from a powerful drug lor...</td>\n",
       "    </tr>\n",
       "    <tr>\n",
       "      <th>3</th>\n",
       "      <td>s4</td>\n",
       "      <td>TV Show</td>\n",
       "      <td>Jailbirds New Orleans</td>\n",
       "      <td>NaN</td>\n",
       "      <td>NaN</td>\n",
       "      <td>NaN</td>\n",
       "      <td>September 24, 2021</td>\n",
       "      <td>2021</td>\n",
       "      <td>TV-MA</td>\n",
       "      <td>1 Season</td>\n",
       "      <td>Docuseries, Reality TV</td>\n",
       "      <td>Feuds, flirtations and toilet talk go down amo...</td>\n",
       "    </tr>\n",
       "  </tbody>\n",
       "</table>\n",
       "</div>"
      ],
      "text/plain": [
       "  show_id     type                  title         director  \\\n",
       "0      s1    Movie   Dick Johnson Is Dead  Kirsten Johnson   \n",
       "1      s2  TV Show          Blood & Water              NaN   \n",
       "2      s3  TV Show              Ganglands  Julien Leclercq   \n",
       "3      s4  TV Show  Jailbirds New Orleans              NaN   \n",
       "\n",
       "                                                cast        country  \\\n",
       "0                                                NaN  United States   \n",
       "1  Ama Qamata, Khosi Ngema, Gail Mabalane, Thaban...   South Africa   \n",
       "2  Sami Bouajila, Tracy Gotoas, Samuel Jouy, Nabi...            NaN   \n",
       "3                                                NaN            NaN   \n",
       "\n",
       "           date_added  release_year rating   duration  \\\n",
       "0  September 25, 2021          2020  PG-13     90 min   \n",
       "1  September 24, 2021          2021  TV-MA  2 Seasons   \n",
       "2  September 24, 2021          2021  TV-MA   1 Season   \n",
       "3  September 24, 2021          2021  TV-MA   1 Season   \n",
       "\n",
       "                                           listed_in  \\\n",
       "0                                      Documentaries   \n",
       "1    International TV Shows, TV Dramas, TV Mysteries   \n",
       "2  Crime TV Shows, International TV Shows, TV Act...   \n",
       "3                             Docuseries, Reality TV   \n",
       "\n",
       "                                         description  \n",
       "0  As her father nears the end of his life, filmm...  \n",
       "1  After crossing paths at a party, a Cape Town t...  \n",
       "2  To protect his family from a powerful drug lor...  \n",
       "3  Feuds, flirtations and toilet talk go down amo...  "
      ]
     },
     "execution_count": 394,
     "metadata": {},
     "output_type": "execute_result"
    }
   ],
   "source": [
    "import pandas as pd\n",
    "import matplotlib.pyplot as plt\n",
    "df = pd.read_csv(\"netflix_titles_2021.csv\")\n",
    "df.head(4)"
   ]
  },
  {
   "cell_type": "markdown",
   "id": "50fd8373",
   "metadata": {},
   "source": [
    "# Ejercicio en Casa:\n",
    "\n",
    "Para este ejercicio debes realizar los siguientes pasos de manera anticipada los siguientes procesos:\n",
    "- Cargar el conjunto de datos desde un archivo CSV utilizando pandas.\n",
    "- Explorar y familiarizarse con la estructura del conjunto de datos.\n",
    "- Calcular estadísticas descriptivas, como el promedio, la mediana y la desviación estándar, de variables relevantes del conjunto de datos general.\n",
    "\n",
    "#### Acciones por ejecutar\n",
    "\n",
    "1. Explorar inconsistencias\n",
    "2. Separar contenidos con duración en minutos y temporadas\n",
    "3. Homogenizar para detectar preguntas como: Tiempo promedio, temporadas promedio.\n",
    "4. Relación entre listed_in y duration (separado mins y temporadas)\n",
    "5. Frecuencia de distribución de los paises\n",
    "6. Actores principales por pais\n",
    "7. Relación entre tipo y duración\n",
    "8. Relación entre listed_in y tipo"
   ]
  },
  {
   "cell_type": "code",
   "execution_count": 29,
   "id": "57ca7b9e",
   "metadata": {
    "collapsed": true
   },
   "outputs": [
    {
     "name": "stdout",
     "output_type": "stream",
     "text": [
      "<class 'pandas.core.frame.DataFrame'>\n",
      "RangeIndex: 8807 entries, 0 to 8806\n",
      "Data columns (total 16 columns):\n",
      " #   Column           Non-Null Count  Dtype \n",
      "---  ------           --------------  ----- \n",
      " 0   show_id          8807 non-null   object\n",
      " 1   type             8807 non-null   object\n",
      " 2   title            8807 non-null   object\n",
      " 3   director         6173 non-null   object\n",
      " 4   cast             7982 non-null   object\n",
      " 5   country          7976 non-null   object\n",
      " 6   date_added       8797 non-null   object\n",
      " 7   release_year     8807 non-null   int64 \n",
      " 8   rating           8803 non-null   object\n",
      " 9   duration         8804 non-null   object\n",
      " 10  listed_in        8807 non-null   object\n",
      " 11  description      8807 non-null   object\n",
      " 12  duration_unit    8804 non-null   object\n",
      " 13  time_unit        8804 non-null   object\n",
      " 14  duration_unit_2  8804 non-null   object\n",
      " 15  time_unit_2      8804 non-null   object\n",
      "dtypes: int64(1), object(15)\n",
      "memory usage: 1.1+ MB\n"
     ]
    }
   ],
   "source": [
    "df.info()"
   ]
  },
  {
   "cell_type": "code",
   "execution_count": 3,
   "id": "739325ad",
   "metadata": {
    "collapsed": true
   },
   "outputs": [
    {
     "data": {
      "text/html": [
       "<div>\n",
       "<style scoped>\n",
       "    .dataframe tbody tr th:only-of-type {\n",
       "        vertical-align: middle;\n",
       "    }\n",
       "\n",
       "    .dataframe tbody tr th {\n",
       "        vertical-align: top;\n",
       "    }\n",
       "\n",
       "    .dataframe thead th {\n",
       "        text-align: right;\n",
       "    }\n",
       "</style>\n",
       "<table border=\"1\" class=\"dataframe\">\n",
       "  <thead>\n",
       "    <tr style=\"text-align: right;\">\n",
       "      <th></th>\n",
       "      <th>release_year</th>\n",
       "    </tr>\n",
       "  </thead>\n",
       "  <tbody>\n",
       "    <tr>\n",
       "      <th>count</th>\n",
       "      <td>8807.000000</td>\n",
       "    </tr>\n",
       "    <tr>\n",
       "      <th>mean</th>\n",
       "      <td>2014.180198</td>\n",
       "    </tr>\n",
       "    <tr>\n",
       "      <th>std</th>\n",
       "      <td>8.819312</td>\n",
       "    </tr>\n",
       "    <tr>\n",
       "      <th>min</th>\n",
       "      <td>1925.000000</td>\n",
       "    </tr>\n",
       "    <tr>\n",
       "      <th>25%</th>\n",
       "      <td>2013.000000</td>\n",
       "    </tr>\n",
       "    <tr>\n",
       "      <th>50%</th>\n",
       "      <td>2017.000000</td>\n",
       "    </tr>\n",
       "    <tr>\n",
       "      <th>75%</th>\n",
       "      <td>2019.000000</td>\n",
       "    </tr>\n",
       "    <tr>\n",
       "      <th>max</th>\n",
       "      <td>2021.000000</td>\n",
       "    </tr>\n",
       "  </tbody>\n",
       "</table>\n",
       "</div>"
      ],
      "text/plain": [
       "       release_year\n",
       "count   8807.000000\n",
       "mean    2014.180198\n",
       "std        8.819312\n",
       "min     1925.000000\n",
       "25%     2013.000000\n",
       "50%     2017.000000\n",
       "75%     2019.000000\n",
       "max     2021.000000"
      ]
     },
     "execution_count": 3,
     "metadata": {},
     "output_type": "execute_result"
    }
   ],
   "source": [
    "df.describe()"
   ]
  },
  {
   "cell_type": "code",
   "execution_count": 395,
   "id": "dd85bd98",
   "metadata": {},
   "outputs": [],
   "source": [
    "df[['duration_unit','time_unit']] = df['duration'].str.extract(r'(\\d+) (\\w+)')"
   ]
  },
  {
   "cell_type": "code",
   "execution_count": 16,
   "id": "a66158e7",
   "metadata": {},
   "outputs": [],
   "source": [
    "#df_clean = df.dropna(inplace=True)\n",
    "#df_filtered = df_clean[df_clean['duration'].str.match('(\\d+) min.*$')]\n",
    "#df_filtered.head()"
   ]
  },
  {
   "cell_type": "code",
   "execution_count": 396,
   "id": "d4797f70",
   "metadata": {},
   "outputs": [],
   "source": [
    "splitted_list = df[\"duration\"].str.split(\" \")\n",
    "df[\"duration_unit_2\"] = pd.DataFrame(splitted_list)[\"duration\"].str.get(0)\n",
    "df[\"time_unit_2\"] = pd.DataFrame(splitted_list)[\"duration\"].str.get(1)"
   ]
  },
  {
   "cell_type": "code",
   "execution_count": 18,
   "id": "8371bfa1",
   "metadata": {},
   "outputs": [],
   "source": [
    "#df.insert(df.columns.get.loc(\"duration\")+1,'unit','')\n",
    "#df[['duration','unit']] = df['duration'].str.split(' ',expand=True)"
   ]
  },
  {
   "cell_type": "code",
   "execution_count": 32,
   "id": "4c6d9cee",
   "metadata": {
    "collapsed": true
   },
   "outputs": [
    {
     "name": "stdout",
     "output_type": "stream",
     "text": [
      "<class 'pandas.core.frame.DataFrame'>\n",
      "RangeIndex: 8807 entries, 0 to 8806\n",
      "Data columns (total 16 columns):\n",
      " #   Column           Non-Null Count  Dtype \n",
      "---  ------           --------------  ----- \n",
      " 0   show_id          8807 non-null   object\n",
      " 1   type             8807 non-null   object\n",
      " 2   title            8807 non-null   object\n",
      " 3   director         6173 non-null   object\n",
      " 4   cast             7982 non-null   object\n",
      " 5   country          7976 non-null   object\n",
      " 6   date_added       8797 non-null   object\n",
      " 7   release_year     8807 non-null   int64 \n",
      " 8   rating           8803 non-null   object\n",
      " 9   duration         8804 non-null   object\n",
      " 10  listed_in        8807 non-null   object\n",
      " 11  description      8807 non-null   object\n",
      " 12  duration_unit    8804 non-null   object\n",
      " 13  time_unit        8804 non-null   object\n",
      " 14  duration_unit_2  8804 non-null   object\n",
      " 15  time_unit_2      8804 non-null   object\n",
      "dtypes: int64(1), object(15)\n",
      "memory usage: 1.1+ MB\n"
     ]
    }
   ],
   "source": [
    "#df.dropna(inplace=True)\n",
    "df.info()"
   ]
  },
  {
   "cell_type": "code",
   "execution_count": 46,
   "id": "200a6b3e",
   "metadata": {
    "collapsed": true
   },
   "outputs": [
    {
     "data": {
      "text/plain": [
       "count    8804.000000\n",
       "mean       69.846888\n",
       "std        50.814828\n",
       "min         1.000000\n",
       "25%         2.000000\n",
       "50%        88.000000\n",
       "75%       106.000000\n",
       "max       312.000000\n",
       "Name: duration_unit, dtype: float64"
      ]
     },
     "execution_count": 46,
     "metadata": {},
     "output_type": "execute_result"
    }
   ],
   "source": [
    "#Homogenizar para detectar preguntas como: \n",
    "#Tiempo promedio, temporadas promedio\n",
    "df['duration_unit'].dropna().astype(\"int16\").describe()"
   ]
  },
  {
   "cell_type": "code",
   "execution_count": 382,
   "id": "b99c47af",
   "metadata": {
    "scrolled": true
   },
   "outputs": [
    {
     "name": "stdout",
     "output_type": "stream",
     "text": [
      "0  :|:  0\n"
     ]
    }
   ],
   "source": [
    "print(df[\"duration_unit\"].isnull().sum(),\" :|: \",df['duration_unit'].isna().sum())"
   ]
  },
  {
   "cell_type": "code",
   "execution_count": 381,
   "id": "6a9de37d",
   "metadata": {},
   "outputs": [],
   "source": [
    "#otra opcion para limpiar\n",
    "df.dropna(subset=[\"duration_unit\"],inplace=True)\n",
    "df[\"duration_unit\"]=df[\"duration_unit\"].astype(\"int16\")"
   ]
  },
  {
   "cell_type": "code",
   "execution_count": 40,
   "id": "51b87cf9",
   "metadata": {
    "collapsed": true
   },
   "outputs": [
    {
     "name": "stdout",
     "output_type": "stream",
     "text": [
      "<class 'pandas.core.frame.DataFrame'>\n",
      "Int64Index: 8804 entries, 0 to 8806\n",
      "Data columns (total 16 columns):\n",
      " #   Column           Non-Null Count  Dtype \n",
      "---  ------           --------------  ----- \n",
      " 0   show_id          8804 non-null   object\n",
      " 1   type             8804 non-null   object\n",
      " 2   title            8804 non-null   object\n",
      " 3   director         6170 non-null   object\n",
      " 4   cast             7979 non-null   object\n",
      " 5   country          7973 non-null   object\n",
      " 6   date_added       8794 non-null   object\n",
      " 7   release_year     8804 non-null   int64 \n",
      " 8   rating           8800 non-null   object\n",
      " 9   duration         8804 non-null   object\n",
      " 10  listed_in        8804 non-null   object\n",
      " 11  description      8804 non-null   object\n",
      " 12  duration_unit    8804 non-null   int16 \n",
      " 13  time_unit        8804 non-null   object\n",
      " 14  duration_unit_2  8804 non-null   object\n",
      " 15  time_unit_2      8804 non-null   object\n",
      "dtypes: int16(1), int64(1), object(14)\n",
      "memory usage: 1.1+ MB\n"
     ]
    }
   ],
   "source": [
    "df.info()"
   ]
  },
  {
   "cell_type": "code",
   "execution_count": 397,
   "id": "17cca8ea",
   "metadata": {},
   "outputs": [],
   "source": [
    "df_movies = df[df[\"type\"]==\"Movie\"]"
   ]
  },
  {
   "cell_type": "code",
   "execution_count": 398,
   "id": "7aef5c31",
   "metadata": {},
   "outputs": [],
   "source": [
    "df_tv_show = df[df[\"type\"]==\"TV Show\"]"
   ]
  },
  {
   "cell_type": "code",
   "execution_count": 399,
   "id": "a632295c",
   "metadata": {},
   "outputs": [
    {
     "name": "stdout",
     "output_type": "stream",
     "text": [
      "Media duracion de series: 1.764947683109118 \n",
      "Media duracion peliculas:  99.57718668407311\n"
     ]
    }
   ],
   "source": [
    "serie_duration_mean = df_tv_show.duration_unit.dropna().astype(\"int16\").mean()\n",
    "movie_duration_mean = df_movies.duration_unit.dropna().astype(\"int16\").mean()\n",
    "\n",
    "print(\"Media duracion de series:\", serie_duration_mean,f\"\\nMedia duracion peliculas: \",movie_duration_mean)\n"
   ]
  },
  {
   "cell_type": "code",
   "execution_count": 371,
   "id": "acddef9c",
   "metadata": {},
   "outputs": [
    {
     "data": {
      "text/plain": [
       "count    2676.000000\n",
       "mean        1.764948\n",
       "std         1.582752\n",
       "min         1.000000\n",
       "25%         1.000000\n",
       "50%         1.000000\n",
       "75%         2.000000\n",
       "max        17.000000\n",
       "Name: duration_unit, dtype: float64"
      ]
     },
     "execution_count": 371,
     "metadata": {},
     "output_type": "execute_result"
    }
   ],
   "source": [
    " df_tv_show.duration_unit.dropna().astype(\"int16\").describe()"
   ]
  },
  {
   "cell_type": "code",
   "execution_count": 372,
   "id": "d50042da",
   "metadata": {},
   "outputs": [
    {
     "data": {
      "text/plain": [
       "count    6128.000000\n",
       "mean       99.577187\n",
       "std        28.290593\n",
       "min         3.000000\n",
       "25%        87.000000\n",
       "50%        98.000000\n",
       "75%       114.000000\n",
       "max       312.000000\n",
       "Name: duration_unit, dtype: float64"
      ]
     },
     "execution_count": 372,
     "metadata": {},
     "output_type": "execute_result"
    }
   ],
   "source": [
    "df_movies.duration_unit.dropna().astype(\"int16\").describe()"
   ]
  },
  {
   "cell_type": "code",
   "execution_count": 373,
   "id": "bf38a800",
   "metadata": {},
   "outputs": [
    {
     "data": {
      "text/plain": [
       "6128"
      ]
     },
     "execution_count": 373,
     "metadata": {},
     "output_type": "execute_result"
    }
   ],
   "source": [
    "df_movies = df_movies[df_movies[\"duration_unit\"].isnull() == False]\n",
    "len(df_movies)"
   ]
  },
  {
   "cell_type": "code",
   "execution_count": 374,
   "id": "36958530",
   "metadata": {},
   "outputs": [
    {
     "data": {
      "text/plain": [
       "278"
      ]
     },
     "execution_count": 374,
     "metadata": {},
     "output_type": "execute_result"
    }
   ],
   "source": [
    "#Relación entre listed_in y duration (separado mins y temporadas)\n",
    "df_movies[\"listed_in\"].nunique()"
   ]
  },
  {
   "cell_type": "code",
   "execution_count": 375,
   "id": "07f61e9d",
   "metadata": {},
   "outputs": [
    {
     "data": {
      "text/plain": [
       "205"
      ]
     },
     "execution_count": 375,
     "metadata": {},
     "output_type": "execute_result"
    }
   ],
   "source": [
    "df_movies[\"duration_unit\"].nunique()"
   ]
  },
  {
   "cell_type": "code",
   "execution_count": 400,
   "id": "e2cd7a38",
   "metadata": {},
   "outputs": [
    {
     "name": "stdout",
     "output_type": "stream",
     "text": [
      "Tiempo Promedio [Thrillers]:  107  minutos\n"
     ]
    }
   ],
   "source": [
    "df_movies = df_movies[df_movies['listed_in'].str.contains(\"Thrillers\")]\n",
    "print(\"Tiempo Promedio [Thrillers]: \", int(df_movies['duration_unit'].dropna().astype(\"int16\").mean()),\" minutos\")"
   ]
  },
  {
   "cell_type": "code",
   "execution_count": 401,
   "id": "dd35cd5a",
   "metadata": {},
   "outputs": [
    {
     "name": "stderr",
     "output_type": "stream",
     "text": [
      "C:\\Users\\CARLOS\\AppData\\Local\\Temp\\ipykernel_26524\\1150373239.py:2: SettingWithCopyWarning: \n",
      "A value is trying to be set on a copy of a slice from a DataFrame.\n",
      "Try using .loc[row_indexer,col_indexer] = value instead\n",
      "\n",
      "See the caveats in the documentation: https://pandas.pydata.org/pandas-docs/stable/user_guide/indexing.html#returning-a-view-versus-a-copy\n",
      "  df_movies['listed_in'] = df_movies['listed_in'].str.split(', ')\n"
     ]
    },
    {
     "data": {
      "text/html": [
       "<div>\n",
       "<style scoped>\n",
       "    .dataframe tbody tr th:only-of-type {\n",
       "        vertical-align: middle;\n",
       "    }\n",
       "\n",
       "    .dataframe tbody tr th {\n",
       "        vertical-align: top;\n",
       "    }\n",
       "\n",
       "    .dataframe thead th {\n",
       "        text-align: right;\n",
       "    }\n",
       "</style>\n",
       "<table border=\"1\" class=\"dataframe\">\n",
       "  <thead>\n",
       "    <tr style=\"text-align: right;\">\n",
       "      <th></th>\n",
       "      <th>duration_unit</th>\n",
       "    </tr>\n",
       "    <tr>\n",
       "      <th>listed_in</th>\n",
       "      <th></th>\n",
       "    </tr>\n",
       "  </thead>\n",
       "  <tbody>\n",
       "    <tr>\n",
       "      <th>Action &amp; Adventure</th>\n",
       "      <td>113.515716</td>\n",
       "    </tr>\n",
       "    <tr>\n",
       "      <th>Anime Features</th>\n",
       "      <td>92.943662</td>\n",
       "    </tr>\n",
       "    <tr>\n",
       "      <th>Children &amp; Family Movies</th>\n",
       "      <td>79.936037</td>\n",
       "    </tr>\n",
       "    <tr>\n",
       "      <th>Classic Movies</th>\n",
       "      <td>118.646552</td>\n",
       "    </tr>\n",
       "    <tr>\n",
       "      <th>Comedies</th>\n",
       "      <td>103.876344</td>\n",
       "    </tr>\n",
       "    <tr>\n",
       "      <th>Cult Movies</th>\n",
       "      <td>104.521127</td>\n",
       "    </tr>\n",
       "    <tr>\n",
       "      <th>Documentaries</th>\n",
       "      <td>81.630610</td>\n",
       "    </tr>\n",
       "    <tr>\n",
       "      <th>Dramas</th>\n",
       "      <td>113.051092</td>\n",
       "    </tr>\n",
       "    <tr>\n",
       "      <th>Faith &amp; Spirituality</th>\n",
       "      <td>105.584615</td>\n",
       "    </tr>\n",
       "    <tr>\n",
       "      <th>Horror Movies</th>\n",
       "      <td>98.445378</td>\n",
       "    </tr>\n",
       "    <tr>\n",
       "      <th>Independent Movies</th>\n",
       "      <td>101.051587</td>\n",
       "    </tr>\n",
       "    <tr>\n",
       "      <th>International Movies</th>\n",
       "      <td>110.349927</td>\n",
       "    </tr>\n",
       "    <tr>\n",
       "      <th>LGBTQ Movies</th>\n",
       "      <td>94.294118</td>\n",
       "    </tr>\n",
       "    <tr>\n",
       "      <th>Movies</th>\n",
       "      <td>45.481481</td>\n",
       "    </tr>\n",
       "    <tr>\n",
       "      <th>Music &amp; Musicals</th>\n",
       "      <td>106.125333</td>\n",
       "    </tr>\n",
       "    <tr>\n",
       "      <th>Romantic Movies</th>\n",
       "      <td>110.573052</td>\n",
       "    </tr>\n",
       "    <tr>\n",
       "      <th>Sci-Fi &amp; Fantasy</th>\n",
       "      <td>106.016461</td>\n",
       "    </tr>\n",
       "    <tr>\n",
       "      <th>Sports Movies</th>\n",
       "      <td>94.698630</td>\n",
       "    </tr>\n",
       "    <tr>\n",
       "      <th>Stand-Up Comedy</th>\n",
       "      <td>67.326531</td>\n",
       "    </tr>\n",
       "    <tr>\n",
       "      <th>Thrillers</th>\n",
       "      <td>107.166378</td>\n",
       "    </tr>\n",
       "  </tbody>\n",
       "</table>\n",
       "</div>"
      ],
      "text/plain": [
       "                          duration_unit\n",
       "listed_in                              \n",
       "Action & Adventure           113.515716\n",
       "Anime Features                92.943662\n",
       "Children & Family Movies      79.936037\n",
       "Classic Movies               118.646552\n",
       "Comedies                     103.876344\n",
       "Cult Movies                  104.521127\n",
       "Documentaries                 81.630610\n",
       "Dramas                       113.051092\n",
       "Faith & Spirituality         105.584615\n",
       "Horror Movies                 98.445378\n",
       "Independent Movies           101.051587\n",
       "International Movies         110.349927\n",
       "LGBTQ Movies                  94.294118\n",
       "Movies                        45.481481\n",
       "Music & Musicals             106.125333\n",
       "Romantic Movies              110.573052\n",
       "Sci-Fi & Fantasy             106.016461\n",
       "Sports Movies                 94.698630\n",
       "Stand-Up Comedy               67.326531\n",
       "Thrillers                    107.166378"
      ]
     },
     "execution_count": 401,
     "metadata": {},
     "output_type": "execute_result"
    }
   ],
   "source": [
    "df_movies = df[df[\"type\"]==\"Movie\"]\n",
    "df_movies['listed_in'] = df_movies['listed_in'].str.split(', ')\n",
    "df_movies_aux = df_movies.explode('listed_in')\n",
    "df_movies_aux['duration_unit'] = df_movies_aux['duration_unit'].str.extract('(\\d+)').astype(\"float\")\n",
    "movie_duration_mean = df_movies_aux.groupby('listed_in').agg({'duration_unit':  'mean'})\n",
    "movie_duration_mean"
   ]
  },
  {
   "cell_type": "code",
   "execution_count": 402,
   "id": "59ca0ce2",
   "metadata": {},
   "outputs": [
    {
     "name": "stderr",
     "output_type": "stream",
     "text": [
      "C:\\Users\\CARLOS\\AppData\\Local\\Temp\\ipykernel_26524\\4156776405.py:2: SettingWithCopyWarning: \n",
      "A value is trying to be set on a copy of a slice from a DataFrame.\n",
      "Try using .loc[row_indexer,col_indexer] = value instead\n",
      "\n",
      "See the caveats in the documentation: https://pandas.pydata.org/pandas-docs/stable/user_guide/indexing.html#returning-a-view-versus-a-copy\n",
      "  df_tv_show['listed_in'] = df_tv_show['listed_in'].str.split(', ')\n"
     ]
    }
   ],
   "source": [
    "df_tv_show = df[df[\"type\"]==\"TV Show\"]\n",
    "df_tv_show['listed_in'] = df_tv_show['listed_in'].str.split(', ')\n",
    "df_tv_show_aux = df_tv_show.explode('listed_in')\n",
    "df_tv_show_aux['duration_unit'] = df_tv_show_aux['duration_unit'].str.extract('(\\d+)').astype(\"float\")\n",
    "tv_show_duration_mean = df_tv_show_aux.groupby('listed_in').agg({'duration_unit':  'mean'})"
   ]
  },
  {
   "cell_type": "code",
   "execution_count": 403,
   "id": "494c55ff",
   "metadata": {},
   "outputs": [
    {
     "data": {
      "text/html": [
       "<div>\n",
       "<style scoped>\n",
       "    .dataframe tbody tr th:only-of-type {\n",
       "        vertical-align: middle;\n",
       "    }\n",
       "\n",
       "    .dataframe tbody tr th {\n",
       "        vertical-align: top;\n",
       "    }\n",
       "\n",
       "    .dataframe thead th {\n",
       "        text-align: right;\n",
       "    }\n",
       "</style>\n",
       "<table border=\"1\" class=\"dataframe\">\n",
       "  <thead>\n",
       "    <tr style=\"text-align: right;\">\n",
       "      <th></th>\n",
       "      <th>duration_unit</th>\n",
       "    </tr>\n",
       "    <tr>\n",
       "      <th>listed_in</th>\n",
       "      <th></th>\n",
       "    </tr>\n",
       "  </thead>\n",
       "  <tbody>\n",
       "    <tr>\n",
       "      <th>Anime Series</th>\n",
       "      <td>1.573864</td>\n",
       "    </tr>\n",
       "    <tr>\n",
       "      <th>British TV Shows</th>\n",
       "      <td>1.818182</td>\n",
       "    </tr>\n",
       "    <tr>\n",
       "      <th>Classic &amp; Cult TV</th>\n",
       "      <td>5.678571</td>\n",
       "    </tr>\n",
       "    <tr>\n",
       "      <th>Crime TV Shows</th>\n",
       "      <td>1.708511</td>\n",
       "    </tr>\n",
       "    <tr>\n",
       "      <th>Docuseries</th>\n",
       "      <td>1.336709</td>\n",
       "    </tr>\n",
       "    <tr>\n",
       "      <th>International TV Shows</th>\n",
       "      <td>1.410067</td>\n",
       "    </tr>\n",
       "    <tr>\n",
       "      <th>Kids' TV</th>\n",
       "      <td>1.977827</td>\n",
       "    </tr>\n",
       "    <tr>\n",
       "      <th>Korean TV Shows</th>\n",
       "      <td>1.264901</td>\n",
       "    </tr>\n",
       "    <tr>\n",
       "      <th>Reality TV</th>\n",
       "      <td>1.552941</td>\n",
       "    </tr>\n",
       "    <tr>\n",
       "      <th>Romantic TV Shows</th>\n",
       "      <td>1.397297</td>\n",
       "    </tr>\n",
       "    <tr>\n",
       "      <th>Science &amp; Nature TV</th>\n",
       "      <td>1.293478</td>\n",
       "    </tr>\n",
       "    <tr>\n",
       "      <th>Spanish-Language TV Shows</th>\n",
       "      <td>1.540230</td>\n",
       "    </tr>\n",
       "    <tr>\n",
       "      <th>Stand-Up Comedy &amp; Talk Shows</th>\n",
       "      <td>1.839286</td>\n",
       "    </tr>\n",
       "    <tr>\n",
       "      <th>TV Action &amp; Adventure</th>\n",
       "      <td>2.398810</td>\n",
       "    </tr>\n",
       "    <tr>\n",
       "      <th>TV Comedies</th>\n",
       "      <td>2.151463</td>\n",
       "    </tr>\n",
       "    <tr>\n",
       "      <th>TV Dramas</th>\n",
       "      <td>1.850590</td>\n",
       "    </tr>\n",
       "    <tr>\n",
       "      <th>TV Horror</th>\n",
       "      <td>2.106667</td>\n",
       "    </tr>\n",
       "    <tr>\n",
       "      <th>TV Mysteries</th>\n",
       "      <td>2.193878</td>\n",
       "    </tr>\n",
       "    <tr>\n",
       "      <th>TV Sci-Fi &amp; Fantasy</th>\n",
       "      <td>2.654762</td>\n",
       "    </tr>\n",
       "    <tr>\n",
       "      <th>TV Shows</th>\n",
       "      <td>1.000000</td>\n",
       "    </tr>\n",
       "    <tr>\n",
       "      <th>TV Thrillers</th>\n",
       "      <td>2.052632</td>\n",
       "    </tr>\n",
       "    <tr>\n",
       "      <th>Teen TV Shows</th>\n",
       "      <td>2.246377</td>\n",
       "    </tr>\n",
       "  </tbody>\n",
       "</table>\n",
       "</div>"
      ],
      "text/plain": [
       "                              duration_unit\n",
       "listed_in                                  \n",
       "Anime Series                       1.573864\n",
       "British TV Shows                   1.818182\n",
       "Classic & Cult TV                  5.678571\n",
       "Crime TV Shows                     1.708511\n",
       "Docuseries                         1.336709\n",
       "International TV Shows             1.410067\n",
       "Kids' TV                           1.977827\n",
       "Korean TV Shows                    1.264901\n",
       "Reality TV                         1.552941\n",
       "Romantic TV Shows                  1.397297\n",
       "Science & Nature TV                1.293478\n",
       "Spanish-Language TV Shows          1.540230\n",
       "Stand-Up Comedy & Talk Shows       1.839286\n",
       "TV Action & Adventure              2.398810\n",
       "TV Comedies                        2.151463\n",
       "TV Dramas                          1.850590\n",
       "TV Horror                          2.106667\n",
       "TV Mysteries                       2.193878\n",
       "TV Sci-Fi & Fantasy                2.654762\n",
       "TV Shows                           1.000000\n",
       "TV Thrillers                       2.052632\n",
       "Teen TV Shows                      2.246377"
      ]
     },
     "execution_count": 403,
     "metadata": {},
     "output_type": "execute_result"
    }
   ],
   "source": [
    "tv_show_duration_mean"
   ]
  },
  {
   "cell_type": "code",
   "execution_count": 414,
   "id": "930e52fa",
   "metadata": {},
   "outputs": [
    {
     "name": "stderr",
     "output_type": "stream",
     "text": [
      "C:\\Users\\CARLOS\\AppData\\Local\\Temp\\ipykernel_26524\\1156404857.py:5: SettingWithCopyWarning: \n",
      "A value is trying to be set on a copy of a slice from a DataFrame.\n",
      "Try using .loc[row_indexer,col_indexer] = value instead\n",
      "\n",
      "See the caveats in the documentation: https://pandas.pydata.org/pandas-docs/stable/user_guide/indexing.html#returning-a-view-versus-a-copy\n",
      "  df_tv_show['listed_in'] = df_tv_show['listed_in'].str.split(', ')\n"
     ]
    }
   ],
   "source": [
    "#Frecuencia de distribución de los paises\n",
    "df_movies = df[df[\"type\"]==\"Movie\"]\n",
    "df_tv_show = df[df[\"type\"]==\"TV Show\"]\n",
    "df_tv_show_aux = df_tv_show.explode('country').dropna()\n",
    "df_tv_show['listed_in'] = df_tv_show['listed_in'].str.split(', ')"
   ]
  },
  {
   "cell_type": "code",
   "execution_count": 415,
   "id": "30be4b6a",
   "metadata": {},
   "outputs": [],
   "source": [
    "df_tv_show_aux['duration_unit'] = df_tv_show_aux['duration_unit'].str.extract('(\\d+)').astype(\"int16\")\n",
    "tv_show_duration_mean = df_tv_show_aux.groupby('country').agg({'duration_unit':  'mean'})"
   ]
  },
  {
   "cell_type": "code",
   "execution_count": 417,
   "id": "29cd0dce",
   "metadata": {},
   "outputs": [
    {
     "data": {
      "text/html": [
       "<div>\n",
       "<style scoped>\n",
       "    .dataframe tbody tr th:only-of-type {\n",
       "        vertical-align: middle;\n",
       "    }\n",
       "\n",
       "    .dataframe tbody tr th {\n",
       "        vertical-align: top;\n",
       "    }\n",
       "\n",
       "    .dataframe thead th {\n",
       "        text-align: right;\n",
       "    }\n",
       "</style>\n",
       "<table border=\"1\" class=\"dataframe\">\n",
       "  <thead>\n",
       "    <tr style=\"text-align: right;\">\n",
       "      <th></th>\n",
       "      <th>duration_unit</th>\n",
       "    </tr>\n",
       "    <tr>\n",
       "      <th>country</th>\n",
       "      <th></th>\n",
       "    </tr>\n",
       "  </thead>\n",
       "  <tbody>\n",
       "    <tr>\n",
       "      <th>Argentina</th>\n",
       "      <td>1.000000</td>\n",
       "    </tr>\n",
       "    <tr>\n",
       "      <th>Australia</th>\n",
       "      <td>1.000000</td>\n",
       "    </tr>\n",
       "    <tr>\n",
       "      <th>Belgium</th>\n",
       "      <td>1.000000</td>\n",
       "    </tr>\n",
       "    <tr>\n",
       "      <th>Brazil</th>\n",
       "      <td>1.250000</td>\n",
       "    </tr>\n",
       "    <tr>\n",
       "      <th>Canada</th>\n",
       "      <td>2.333333</td>\n",
       "    </tr>\n",
       "    <tr>\n",
       "      <th>Canada, United Kingdom, United States</th>\n",
       "      <td>1.000000</td>\n",
       "    </tr>\n",
       "    <tr>\n",
       "      <th>China</th>\n",
       "      <td>1.500000</td>\n",
       "    </tr>\n",
       "    <tr>\n",
       "      <th>Colombia</th>\n",
       "      <td>1.000000</td>\n",
       "    </tr>\n",
       "    <tr>\n",
       "      <th>Colombia, Mexico, United States</th>\n",
       "      <td>1.000000</td>\n",
       "    </tr>\n",
       "    <tr>\n",
       "      <th>Denmark</th>\n",
       "      <td>1.000000</td>\n",
       "    </tr>\n",
       "    <tr>\n",
       "      <th>France</th>\n",
       "      <td>1.200000</td>\n",
       "    </tr>\n",
       "    <tr>\n",
       "      <th>France, South Korea, Japan, United States</th>\n",
       "      <td>5.000000</td>\n",
       "    </tr>\n",
       "    <tr>\n",
       "      <th>India</th>\n",
       "      <td>1.000000</td>\n",
       "    </tr>\n",
       "    <tr>\n",
       "      <th>India, United States</th>\n",
       "      <td>2.000000</td>\n",
       "    </tr>\n",
       "    <tr>\n",
       "      <th>Italy</th>\n",
       "      <td>1.000000</td>\n",
       "    </tr>\n",
       "    <tr>\n",
       "      <th>Italy, Canada, France</th>\n",
       "      <td>1.000000</td>\n",
       "    </tr>\n",
       "    <tr>\n",
       "      <th>Italy, United States</th>\n",
       "      <td>2.000000</td>\n",
       "    </tr>\n",
       "    <tr>\n",
       "      <th>Japan</th>\n",
       "      <td>2.400000</td>\n",
       "    </tr>\n",
       "    <tr>\n",
       "      <th>Mexico</th>\n",
       "      <td>1.000000</td>\n",
       "    </tr>\n",
       "    <tr>\n",
       "      <th>Mexico, Spain</th>\n",
       "      <td>1.000000</td>\n",
       "    </tr>\n",
       "    <tr>\n",
       "      <th>Mexico, United States</th>\n",
       "      <td>1.000000</td>\n",
       "    </tr>\n",
       "    <tr>\n",
       "      <th>Nigeria</th>\n",
       "      <td>1.000000</td>\n",
       "    </tr>\n",
       "    <tr>\n",
       "      <th>Pakistan</th>\n",
       "      <td>1.000000</td>\n",
       "    </tr>\n",
       "    <tr>\n",
       "      <th>Philippines</th>\n",
       "      <td>1.000000</td>\n",
       "    </tr>\n",
       "    <tr>\n",
       "      <th>Philippines, Singapore, Indonesia</th>\n",
       "      <td>1.000000</td>\n",
       "    </tr>\n",
       "    <tr>\n",
       "      <th>Poland</th>\n",
       "      <td>2.000000</td>\n",
       "    </tr>\n",
       "    <tr>\n",
       "      <th>Russia</th>\n",
       "      <td>1.000000</td>\n",
       "    </tr>\n",
       "    <tr>\n",
       "      <th>Saudi Arabia</th>\n",
       "      <td>1.000000</td>\n",
       "    </tr>\n",
       "    <tr>\n",
       "      <th>South Korea</th>\n",
       "      <td>1.600000</td>\n",
       "    </tr>\n",
       "    <tr>\n",
       "      <th>South Korea, United States</th>\n",
       "      <td>2.000000</td>\n",
       "    </tr>\n",
       "    <tr>\n",
       "      <th>Spain</th>\n",
       "      <td>1.714286</td>\n",
       "    </tr>\n",
       "    <tr>\n",
       "      <th>Taiwan</th>\n",
       "      <td>1.000000</td>\n",
       "    </tr>\n",
       "    <tr>\n",
       "      <th>Taiwan, Malaysia</th>\n",
       "      <td>1.000000</td>\n",
       "    </tr>\n",
       "    <tr>\n",
       "      <th>Thailand</th>\n",
       "      <td>1.000000</td>\n",
       "    </tr>\n",
       "    <tr>\n",
       "      <th>Turkey</th>\n",
       "      <td>1.400000</td>\n",
       "    </tr>\n",
       "    <tr>\n",
       "      <th>United Kingdom</th>\n",
       "      <td>2.736842</td>\n",
       "    </tr>\n",
       "    <tr>\n",
       "      <th>United Kingdom, Germany, United States, France</th>\n",
       "      <td>1.000000</td>\n",
       "    </tr>\n",
       "    <tr>\n",
       "      <th>United Kingdom, Ireland, United States</th>\n",
       "      <td>1.000000</td>\n",
       "    </tr>\n",
       "    <tr>\n",
       "      <th>United Kingdom, United States, Spain, Germany, Greece, Canada</th>\n",
       "      <td>1.000000</td>\n",
       "    </tr>\n",
       "    <tr>\n",
       "      <th>United States</th>\n",
       "      <td>2.629630</td>\n",
       "    </tr>\n",
       "    <tr>\n",
       "      <th>United States, Canada</th>\n",
       "      <td>8.000000</td>\n",
       "    </tr>\n",
       "    <tr>\n",
       "      <th>United States, Ireland</th>\n",
       "      <td>1.000000</td>\n",
       "    </tr>\n",
       "    <tr>\n",
       "      <th>United States, Israel, Italy, South Africa</th>\n",
       "      <td>1.000000</td>\n",
       "    </tr>\n",
       "  </tbody>\n",
       "</table>\n",
       "</div>"
      ],
      "text/plain": [
       "                                                    duration_unit\n",
       "country                                                          \n",
       "Argentina                                                1.000000\n",
       "Australia                                                1.000000\n",
       "Belgium                                                  1.000000\n",
       "Brazil                                                   1.250000\n",
       "Canada                                                   2.333333\n",
       "Canada, United Kingdom, United States                    1.000000\n",
       "China                                                    1.500000\n",
       "Colombia                                                 1.000000\n",
       "Colombia, Mexico, United States                          1.000000\n",
       "Denmark                                                  1.000000\n",
       "France                                                   1.200000\n",
       "France, South Korea, Japan, United States                5.000000\n",
       "India                                                    1.000000\n",
       "India, United States                                     2.000000\n",
       "Italy                                                    1.000000\n",
       "Italy, Canada, France                                    1.000000\n",
       "Italy, United States                                     2.000000\n",
       "Japan                                                    2.400000\n",
       "Mexico                                                   1.000000\n",
       "Mexico, Spain                                            1.000000\n",
       "Mexico, United States                                    1.000000\n",
       "Nigeria                                                  1.000000\n",
       "Pakistan                                                 1.000000\n",
       "Philippines                                              1.000000\n",
       "Philippines, Singapore, Indonesia                        1.000000\n",
       "Poland                                                   2.000000\n",
       "Russia                                                   1.000000\n",
       "Saudi Arabia                                             1.000000\n",
       "South Korea                                              1.600000\n",
       "South Korea, United States                               2.000000\n",
       "Spain                                                    1.714286\n",
       "Taiwan                                                   1.000000\n",
       "Taiwan, Malaysia                                         1.000000\n",
       "Thailand                                                 1.000000\n",
       "Turkey                                                   1.400000\n",
       "United Kingdom                                           2.736842\n",
       "United Kingdom, Germany, United States, France           1.000000\n",
       "United Kingdom, Ireland, United States                   1.000000\n",
       "United Kingdom, United States, Spain, Germany, ...       1.000000\n",
       "United States                                            2.629630\n",
       "United States, Canada                                    8.000000\n",
       "United States, Ireland                                   1.000000\n",
       "United States, Israel, Italy, South Africa               1.000000"
      ]
     },
     "execution_count": 417,
     "metadata": {},
     "output_type": "execute_result"
    }
   ],
   "source": [
    "tv_show_duration_mean"
   ]
  },
  {
   "cell_type": "code",
   "execution_count": null,
   "id": "b9fcf5b0",
   "metadata": {},
   "outputs": [],
   "source": []
  }
 ],
 "metadata": {
  "kernelspec": {
   "display_name": "Python 3 (ipykernel)",
   "language": "python",
   "name": "python3"
  },
  "language_info": {
   "codemirror_mode": {
    "name": "ipython",
    "version": 3
   },
   "file_extension": ".py",
   "mimetype": "text/x-python",
   "name": "python",
   "nbconvert_exporter": "python",
   "pygments_lexer": "ipython3",
   "version": "3.10.9"
  }
 },
 "nbformat": 4,
 "nbformat_minor": 5
}
