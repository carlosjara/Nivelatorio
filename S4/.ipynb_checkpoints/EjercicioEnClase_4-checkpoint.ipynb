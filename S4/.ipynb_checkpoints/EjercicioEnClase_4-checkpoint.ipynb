{
 "cells": [
  {
   "cell_type": "markdown",
   "id": "373043a0",
   "metadata": {},
   "source": [
    "## Ejercicio en clase 4\n",
    "##### Dataset de Ventas (Exploración, Limpieza, Combinación)\n",
    "https://www.kaggle.com/datasets/knightbearr/sales-product-data"
   ]
  },
  {
   "cell_type": "markdown",
   "id": "bbb20bd6",
   "metadata": {},
   "source": [
    "### Planteamiento\n",
    "\n",
    "Para la sesión de hoy los equipos de entre 3 y 5 personas deben realizar un proceso apoyado en funciones y programación orientada a objetos para diseñar un pipeline de procesamiento de datos que permita una orientación a la automatización en el proceso de análisis de un base transaccional de ventas, la base contiene los siguientes archivos:\n",
    "\n",
    "Sales_April_2019.csv,\n",
    "Sales_August_2019.csv,\n",
    "Sales_December_2019.csv,\n",
    "Sales_February_2019.csv,\n",
    "Sales_January_2019.csv,\n",
    "Sales_July_2019.csv,\n",
    "Sales_June_2019.csv,\n",
    "Sales_March_2019.csv,\n",
    "Sales_May_2019.csv,\n",
    "Sales_November_2019.csv,\n",
    "Sales_October_2019.csv,\n",
    "Sales_September_2019.csv,\n",
    "\n",
    "Los datos pueden ser descargados de esta carpeta:\n",
    "\n",
    "\n",
    "En el equipo deben diseñar un proceso en Python que permita la (1) lectura secuencial de estos archivos, en la medida en que estos sean cargados deben (2) explorarse (mostrando información general como la forma y características) tras la exploración debe definir las acciones requeridas para la (3) limpieza a través de un proceso guiado por el uso de uno o más agentes (objetos) que posean las funciones necesarias, las actividades propuestas dependerán del equipo (eliminación de None/NaN/Null).\n",
    "\n",
    "Una vez realizada la limpieza general observe que la fecha se encuentra en un formato mixto, que combina la fecha y la hora, además se encuentra en formato MM/DD/YYYY realice los procesos necesarios para (5) separar dichos elementos y (6) asociar las series correspondientes a los tipos de dato adecuados, la fecha debe quedar en formato (7) DD/MM/YYYY, esto implicará que trabaje con un nuevo (8) tipo de dato asociado a la gestión de las fechas:\n",
    "\n",
    "Inicial: 04/19/19 08:46\n",
    "Final: 19/04/2019 | 08:46\n",
    "\n",
    "Referencias\n",
    "- https://towardsdatascience.com/working-with-datetime-in-pandas-dataframe-663f7af6c587\n",
    "- https://www.shiksha.com/online-courses/articles/working-with-date-and-time-in-pandas/\n",
    "- https://pandas.pydata.org/docs/user_guide/timeseries.html#\n",
    "- https://pandas.pydata.org/docs/user_guide/timedeltas.html\n",
    "\n",
    "Observe que el campo: \"Purchase Address\", los datos tienen esta forma: ** 682 Chestnut St, Boston, MA 02215 ** Se requiere que usted cree las columnas, (9) ciudad (city) y  (10) estado (state) usando operaciones sobre el texto, ejemplo: ciudad = Boston | estado = MA.\n",
    "\n",
    "Los valores asociados al precio están separados por (.) punto, recuerde que esto puede ser problemático de cara a la configuración regional, realice el ajuste necesario para que esté separado por (,) coma (11).\n",
    "\n",
    "11.95 ---> 11,95\n",
    "\n",
    "Tras la limpieza de todos los datos y pasos sugeridos, debe realizar una acción combinatoria de todos los meses (12), indique el resultado de dicha acción mencionando en un markdown, cuál es la forma del dataset resultante y de los valores descriptivos (min, max, std, var, count) por dimensión (Columna, Serie) (13). Indique también cuál el número total de datos faltantes o atípicos (NA, None, Null, NaN) (14) indicando que porcentaje % del dataset global se encuentra comprometido (15).\n",
    "\n",
    "🎯 Tras haber limpiado, unido y descrito el dataset general, responda las siguientes preguntas:\n",
    "\n",
    "- P: ¿Cuál fue el mejor año en ventas? ¿Cuánto se ganó ese año?\n",
    "- P: ¿Cuál fue el mejor mes en ventas? ¿Cuánto se ganó ese mes?\n",
    "- P: ¿Qué ciudad tuvo el mayor número de ventas?\n",
    "- P: ¿A qué hora deberíamos mostrar publicidad para maximizar la probabilidad de que los clientes compren el producto?\n",
    "- P: ¿Qué productos se venden más a menudo juntos?\n",
    "- P: ¿Qué producto se vendió más? ¿Por qué crees que se vendió más?\n",
    "\n",
    "💊 A partir de las columnas creadas indique y responda 5 preguntas adicionales del dataset.\n"
   ]
  },
  {
   "cell_type": "code",
   "execution_count": null,
   "id": "02ab6046",
   "metadata": {},
   "outputs": [],
   "source": []
  }
 ],
 "metadata": {
  "kernelspec": {
   "display_name": "Python 3 (ipykernel)",
   "language": "python",
   "name": "python3"
  },
  "language_info": {
   "codemirror_mode": {
    "name": "ipython",
    "version": 3
   },
   "file_extension": ".py",
   "mimetype": "text/x-python",
   "name": "python",
   "nbconvert_exporter": "python",
   "pygments_lexer": "ipython3",
   "version": "3.10.9"
  }
 },
 "nbformat": 4,
 "nbformat_minor": 5
}
