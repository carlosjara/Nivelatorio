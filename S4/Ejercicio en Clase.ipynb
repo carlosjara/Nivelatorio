{
 "cells": [
  {
   "cell_type": "code",
   "execution_count": 1,
   "id": "6b19ebf5",
   "metadata": {},
   "outputs": [
    {
     "name": "stdout",
     "output_type": "stream",
     "text": [
      "CPU times: total: 812 ms\n",
      "Wall time: 21.8 s\n"
     ]
    }
   ],
   "source": [
    "%%time\n",
    "import os\n",
    "import pandas as pd\n",
    "from datetime import datetime as dt\n",
    "import matplotlib.pyplot as plt\n",
    "import seaborn as sns"
   ]
  },
  {
   "cell_type": "code",
   "execution_count": 10,
   "id": "46706772",
   "metadata": {},
   "outputs": [
    {
     "data": {
      "text/html": [
       "<div>\n",
       "<style scoped>\n",
       "    .dataframe tbody tr th:only-of-type {\n",
       "        vertical-align: middle;\n",
       "    }\n",
       "\n",
       "    .dataframe tbody tr th {\n",
       "        vertical-align: top;\n",
       "    }\n",
       "\n",
       "    .dataframe thead th {\n",
       "        text-align: right;\n",
       "    }\n",
       "</style>\n",
       "<table border=\"1\" class=\"dataframe\">\n",
       "  <thead>\n",
       "    <tr style=\"text-align: right;\">\n",
       "      <th></th>\n",
       "      <th>Order ID</th>\n",
       "      <th>Product</th>\n",
       "      <th>Quantity Ordered</th>\n",
       "      <th>Price Each</th>\n",
       "      <th>Order Date</th>\n",
       "      <th>Purchase Address</th>\n",
       "    </tr>\n",
       "  </thead>\n",
       "  <tbody>\n",
       "    <tr>\n",
       "      <th>0</th>\n",
       "      <td>176558</td>\n",
       "      <td>USB-C Charging Cable</td>\n",
       "      <td>2</td>\n",
       "      <td>11.95</td>\n",
       "      <td>04/19/19 08:46</td>\n",
       "      <td>917 1st St, Dallas, TX 75001</td>\n",
       "    </tr>\n",
       "  </tbody>\n",
       "</table>\n",
       "</div>"
      ],
      "text/plain": [
       "  Order ID               Product Quantity Ordered Price Each      Order Date  \\\n",
       "0   176558  USB-C Charging Cable                2      11.95  04/19/19 08:46   \n",
       "\n",
       "               Purchase Address  \n",
       "0  917 1st St, Dallas, TX 75001  "
      ]
     },
     "execution_count": 10,
     "metadata": {},
     "output_type": "execute_result"
    }
   ],
   "source": [
    "# Ruta de la carpeta que contiene los archivos\n",
    "ruta_carpeta = 'data_files/'  # Reemplaza esto con la ruta de tu carpeta\n",
    "\n",
    "# Lista para almacenar los DataFrames cargados\n",
    "dataframes = []\n",
    "\n",
    "# Recorre todos los archivos en la carpeta\n",
    "for archivo in os.listdir(ruta_carpeta):\n",
    "    # Verifica si el archivo tiene una extensión que corresponde a un archivo CSV o Excel\n",
    "    if archivo.endswith('.csv') or archivo.endswith('.xlsx'):\n",
    "        # Construye la ruta completa del archivo\n",
    "        ruta_archivo = os.path.join(ruta_carpeta, archivo)\n",
    "        #print(\"Cargando:\", ruta_archivo)\n",
    "        # Carga el archivo en un DataFrame y agrega a la lista (** hablar de la notación one line)\n",
    "        df = pd.read_csv(ruta_archivo) if archivo.endswith('.csv') else pd.read_excel(ruta_archivo)\n",
    "        #df.dropna(inplace=True)\n",
    "        dataframes.append(df)\n",
    "    \n",
    "    #print(list(df.head(0).columns))\n",
    "    #print(archivo,'\\r\\n',df.dtypes)\n",
    "        \n",
    "df_combinado = pd.concat(dataframes, ignore_index=True)\n",
    "df_combinado.head(1)"
   ]
  },
  {
   "cell_type": "code",
   "execution_count": 3,
   "id": "665d9637",
   "metadata": {},
   "outputs": [],
   "source": [
    "def dropper(x):   \n",
    "    x.dropna(inplace=True)\n",
    "    return x\n",
    "\n",
    "def clean_headers(x):   \n",
    "    x = x.drop(x[x[\"Quantity Ordered\"] == \"Quantity Ordered\"].index)\n",
    "    return x\n",
    "\n",
    "def formatear_fecha(df,col_name='Order Date'):\n",
    "    df['fecha_objeto'] = pd.to_datetime(df[col_name], format=\"%m/%d/%y %H:%M\")\n",
    "    #df['date_fix'] = pd.to_datetime(df[col], format = \"%m/%d/%y %H:%M\")\n",
    "    df['nueva_fecha'] = df['fecha_objeto'].dt.strftime(\"%d/%m/%Y\")\n",
    "    df['nuevo_tiempo'] = df['fecha_objeto'].dt.strftime(\"%H:%M\")\n",
    "    #df.drop(columns=['fecha_objeto'], inplace=True)\n",
    "    return df\n",
    "\n",
    "def convertir_formato_fecha(fecha_hora_str,col_name='Order Date'):\n",
    "    formato_entrada = \"%m/%d/%y %H:%M\"\n",
    "    fecha_hora_obj = datetime.strptime(fecha_hora_str, formato_entrada)    \n",
    "    formato_salida = \"%d/%m/%Y %H:%M\" \n",
    "    fecha_nueva_str = fecha_hora_obj.strftime(formato_salida)   \n",
    "    return fecha_nueva_str\n",
    "\n",
    "def separar(cadena_texto):\n",
    "    lista_salida = cadena_texto.split()    \n",
    "    return lista_salida\n",
    "\n",
    "def split_address(df, colname=\"Purchase Address\"):\n",
    "    splitted_list = df[colname].str.split(\",\")\n",
    "    df[\"City\"] = pd.DataFrame(splitted_list)[colname].str.get(1)\n",
    "    df[\"State\"] = pd.DataFrame(splitted_list)[colname].str.get(2)\n",
    "    df[\"State\"] = df[\"State\"].str.extract(r'(\\w+)')\n",
    "    return df\n",
    "\n",
    "def replace_float(df,colname=\"Price Each\"):\n",
    "    df[colname] = df[colname].astype(float)\n",
    "    return df\n",
    "def extract_mm_yy(df, colname=\"fecha_objeto\"):\n",
    "    df[\"month\"] = df[df['fecha_objeto'].dt.year]\n",
    "df_combinado = df_combinado.pipe(dropper).pipe(clean_headers).pipe(formatear_fecha).pipe(split_address).pipe(replace_float)\n"
   ]
  },
  {
   "cell_type": "code",
   "execution_count": 4,
   "id": "d0a27b0e",
   "metadata": {},
   "outputs": [],
   "source": [
    "agrupacion_mes = pd.DataFrame(df_combinado.groupby([df_combinado['fecha_objeto'].dt.year, df_combinado['fecha_objeto'].dt.month])['Price Each'].sum())"
   ]
  },
  {
   "cell_type": "code",
   "execution_count": 5,
   "id": "252af156",
   "metadata": {
    "collapsed": true
   },
   "outputs": [
    {
     "data": {
      "text/html": [
       "<div>\n",
       "<style scoped>\n",
       "    .dataframe tbody tr th:only-of-type {\n",
       "        vertical-align: middle;\n",
       "    }\n",
       "\n",
       "    .dataframe tbody tr th {\n",
       "        vertical-align: top;\n",
       "    }\n",
       "\n",
       "    .dataframe thead th {\n",
       "        text-align: right;\n",
       "    }\n",
       "</style>\n",
       "<table border=\"1\" class=\"dataframe\">\n",
       "  <thead>\n",
       "    <tr style=\"text-align: right;\">\n",
       "      <th></th>\n",
       "      <th></th>\n",
       "      <th>Price Each</th>\n",
       "    </tr>\n",
       "    <tr>\n",
       "      <th>fecha_objeto</th>\n",
       "      <th>fecha_objeto</th>\n",
       "      <th></th>\n",
       "    </tr>\n",
       "  </thead>\n",
       "  <tbody>\n",
       "    <tr>\n",
       "      <th rowspan=\"12\" valign=\"top\">2019</th>\n",
       "      <th>1</th>\n",
       "      <td>1803264.98</td>\n",
       "    </tr>\n",
       "    <tr>\n",
       "      <th>2</th>\n",
       "      <td>2188884.72</td>\n",
       "    </tr>\n",
       "    <tr>\n",
       "      <th>3</th>\n",
       "      <td>2791207.83</td>\n",
       "    </tr>\n",
       "    <tr>\n",
       "      <th>4</th>\n",
       "      <td>3367671.02</td>\n",
       "    </tr>\n",
       "    <tr>\n",
       "      <th>5</th>\n",
       "      <td>3135125.13</td>\n",
       "    </tr>\n",
       "    <tr>\n",
       "      <th>6</th>\n",
       "      <td>2562025.61</td>\n",
       "    </tr>\n",
       "    <tr>\n",
       "      <th>7</th>\n",
       "      <td>2632539.56</td>\n",
       "    </tr>\n",
       "    <tr>\n",
       "      <th>8</th>\n",
       "      <td>2230345.42</td>\n",
       "    </tr>\n",
       "    <tr>\n",
       "      <th>9</th>\n",
       "      <td>2084992.09</td>\n",
       "    </tr>\n",
       "    <tr>\n",
       "      <th>10</th>\n",
       "      <td>3715554.83</td>\n",
       "    </tr>\n",
       "    <tr>\n",
       "      <th>11</th>\n",
       "      <td>3180600.68</td>\n",
       "    </tr>\n",
       "    <tr>\n",
       "      <th>12</th>\n",
       "      <td>4588415.41</td>\n",
       "    </tr>\n",
       "    <tr>\n",
       "      <th>2020</th>\n",
       "      <th>1</th>\n",
       "      <td>8503.40</td>\n",
       "    </tr>\n",
       "  </tbody>\n",
       "</table>\n",
       "</div>"
      ],
      "text/plain": [
       "                           Price Each\n",
       "fecha_objeto fecha_objeto            \n",
       "2019         1             1803264.98\n",
       "             2             2188884.72\n",
       "             3             2791207.83\n",
       "             4             3367671.02\n",
       "             5             3135125.13\n",
       "             6             2562025.61\n",
       "             7             2632539.56\n",
       "             8             2230345.42\n",
       "             9             2084992.09\n",
       "             10            3715554.83\n",
       "             11            3180600.68\n",
       "             12            4588415.41\n",
       "2020         1                8503.40"
      ]
     },
     "execution_count": 5,
     "metadata": {},
     "output_type": "execute_result"
    }
   ],
   "source": [
    "agrupacion_mes"
   ]
  },
  {
   "cell_type": "markdown",
   "id": "d374e9f6",
   "metadata": {},
   "source": [
    "#### P: ¿Cuál fue el mejor año en ventas? ¿Cuánto se ganó ese año?"
   ]
  },
  {
   "cell_type": "code",
   "execution_count": 12,
   "id": "06032e77",
   "metadata": {},
   "outputs": [
    {
     "ename": "KeyError",
     "evalue": "'fecha_objeto'",
     "output_type": "error",
     "traceback": [
      "\u001b[1;31m---------------------------------------------------------------------------\u001b[0m",
      "\u001b[1;31mKeyError\u001b[0m                                  Traceback (most recent call last)",
      "File \u001b[1;32m~\\anaconda3\\lib\\site-packages\\pandas\\core\\indexes\\base.py:3802\u001b[0m, in \u001b[0;36mIndex.get_loc\u001b[1;34m(self, key, method, tolerance)\u001b[0m\n\u001b[0;32m   3801\u001b[0m \u001b[38;5;28;01mtry\u001b[39;00m:\n\u001b[1;32m-> 3802\u001b[0m     \u001b[38;5;28;01mreturn\u001b[39;00m \u001b[38;5;28;43mself\u001b[39;49m\u001b[38;5;241;43m.\u001b[39;49m\u001b[43m_engine\u001b[49m\u001b[38;5;241;43m.\u001b[39;49m\u001b[43mget_loc\u001b[49m\u001b[43m(\u001b[49m\u001b[43mcasted_key\u001b[49m\u001b[43m)\u001b[49m\n\u001b[0;32m   3803\u001b[0m \u001b[38;5;28;01mexcept\u001b[39;00m \u001b[38;5;167;01mKeyError\u001b[39;00m \u001b[38;5;28;01mas\u001b[39;00m err:\n",
      "File \u001b[1;32m~\\anaconda3\\lib\\site-packages\\pandas\\_libs\\index.pyx:138\u001b[0m, in \u001b[0;36mpandas._libs.index.IndexEngine.get_loc\u001b[1;34m()\u001b[0m\n",
      "File \u001b[1;32m~\\anaconda3\\lib\\site-packages\\pandas\\_libs\\index.pyx:165\u001b[0m, in \u001b[0;36mpandas._libs.index.IndexEngine.get_loc\u001b[1;34m()\u001b[0m\n",
      "File \u001b[1;32mpandas\\_libs\\hashtable_class_helper.pxi:5745\u001b[0m, in \u001b[0;36mpandas._libs.hashtable.PyObjectHashTable.get_item\u001b[1;34m()\u001b[0m\n",
      "File \u001b[1;32mpandas\\_libs\\hashtable_class_helper.pxi:5753\u001b[0m, in \u001b[0;36mpandas._libs.hashtable.PyObjectHashTable.get_item\u001b[1;34m()\u001b[0m\n",
      "\u001b[1;31mKeyError\u001b[0m: 'fecha_objeto'",
      "\nThe above exception was the direct cause of the following exception:\n",
      "\u001b[1;31mKeyError\u001b[0m                                  Traceback (most recent call last)",
      "Cell \u001b[1;32mIn[12], line 1\u001b[0m\n\u001b[1;32m----> 1\u001b[0m agrupacion_mes \u001b[38;5;241m=\u001b[39m pd\u001b[38;5;241m.\u001b[39mDataFrame(df_combinado\u001b[38;5;241m.\u001b[39mgroupby([\u001b[43mdf_combinado\u001b[49m\u001b[43m[\u001b[49m\u001b[38;5;124;43m'\u001b[39;49m\u001b[38;5;124;43mfecha_objeto\u001b[39;49m\u001b[38;5;124;43m'\u001b[39;49m\u001b[43m]\u001b[49m\u001b[38;5;241m.\u001b[39mdt\u001b[38;5;241m.\u001b[39myear])[\u001b[38;5;124m'\u001b[39m\u001b[38;5;124mPrice Each\u001b[39m\u001b[38;5;124m'\u001b[39m]\u001b[38;5;241m.\u001b[39msum())\n\u001b[0;32m      2\u001b[0m agrupacion_mes[\u001b[38;5;124m'\u001b[39m\u001b[38;5;124mTotal_Sales\u001b[39m\u001b[38;5;124m'\u001b[39m] \u001b[38;5;241m=\u001b[39m to_numeric(agrupacion_mes[\u001b[38;5;124m'\u001b[39m\u001b[38;5;124mQuantity Ordered\u001b[39m\u001b[38;5;124m'\u001b[39m], errors\u001b[38;5;241m=\u001b[39m\u001b[38;5;124m'\u001b[39m\u001b[38;5;124mcoerce\u001b[39m\u001b[38;5;124m'\u001b[39m)\u001b[38;5;241m*\u001b[39magrupacion_mes[\u001b[38;5;124m'\u001b[39m\u001b[38;5;124mPrice Each\u001b[39m\u001b[38;5;124m'\u001b[39m]\n",
      "File \u001b[1;32m~\\anaconda3\\lib\\site-packages\\pandas\\core\\frame.py:3807\u001b[0m, in \u001b[0;36mDataFrame.__getitem__\u001b[1;34m(self, key)\u001b[0m\n\u001b[0;32m   3805\u001b[0m \u001b[38;5;28;01mif\u001b[39;00m \u001b[38;5;28mself\u001b[39m\u001b[38;5;241m.\u001b[39mcolumns\u001b[38;5;241m.\u001b[39mnlevels \u001b[38;5;241m>\u001b[39m \u001b[38;5;241m1\u001b[39m:\n\u001b[0;32m   3806\u001b[0m     \u001b[38;5;28;01mreturn\u001b[39;00m \u001b[38;5;28mself\u001b[39m\u001b[38;5;241m.\u001b[39m_getitem_multilevel(key)\n\u001b[1;32m-> 3807\u001b[0m indexer \u001b[38;5;241m=\u001b[39m \u001b[38;5;28;43mself\u001b[39;49m\u001b[38;5;241;43m.\u001b[39;49m\u001b[43mcolumns\u001b[49m\u001b[38;5;241;43m.\u001b[39;49m\u001b[43mget_loc\u001b[49m\u001b[43m(\u001b[49m\u001b[43mkey\u001b[49m\u001b[43m)\u001b[49m\n\u001b[0;32m   3808\u001b[0m \u001b[38;5;28;01mif\u001b[39;00m is_integer(indexer):\n\u001b[0;32m   3809\u001b[0m     indexer \u001b[38;5;241m=\u001b[39m [indexer]\n",
      "File \u001b[1;32m~\\anaconda3\\lib\\site-packages\\pandas\\core\\indexes\\base.py:3804\u001b[0m, in \u001b[0;36mIndex.get_loc\u001b[1;34m(self, key, method, tolerance)\u001b[0m\n\u001b[0;32m   3802\u001b[0m     \u001b[38;5;28;01mreturn\u001b[39;00m \u001b[38;5;28mself\u001b[39m\u001b[38;5;241m.\u001b[39m_engine\u001b[38;5;241m.\u001b[39mget_loc(casted_key)\n\u001b[0;32m   3803\u001b[0m \u001b[38;5;28;01mexcept\u001b[39;00m \u001b[38;5;167;01mKeyError\u001b[39;00m \u001b[38;5;28;01mas\u001b[39;00m err:\n\u001b[1;32m-> 3804\u001b[0m     \u001b[38;5;28;01mraise\u001b[39;00m \u001b[38;5;167;01mKeyError\u001b[39;00m(key) \u001b[38;5;28;01mfrom\u001b[39;00m \u001b[38;5;21;01merr\u001b[39;00m\n\u001b[0;32m   3805\u001b[0m \u001b[38;5;28;01mexcept\u001b[39;00m \u001b[38;5;167;01mTypeError\u001b[39;00m:\n\u001b[0;32m   3806\u001b[0m     \u001b[38;5;66;03m# If we have a listlike key, _check_indexing_error will raise\u001b[39;00m\n\u001b[0;32m   3807\u001b[0m     \u001b[38;5;66;03m#  InvalidIndexError. Otherwise we fall through and re-raise\u001b[39;00m\n\u001b[0;32m   3808\u001b[0m     \u001b[38;5;66;03m#  the TypeError.\u001b[39;00m\n\u001b[0;32m   3809\u001b[0m     \u001b[38;5;28mself\u001b[39m\u001b[38;5;241m.\u001b[39m_check_indexing_error(key)\n",
      "\u001b[1;31mKeyError\u001b[0m: 'fecha_objeto'"
     ]
    }
   ],
   "source": [
    "agrupacion_mes = pd.DataFrame(df_combinado.groupby([df_combinado['fecha_objeto'].dt.year])['Price Each'].sum())\n",
    "agrupacion_mes['Total_Sales'] = to_numeric(agrupacion_mes['Quantity Ordered'], errors='coerce')*agrupacion_mes['Price Each']"
   ]
  },
  {
   "cell_type": "code",
   "execution_count": null,
   "id": "74b2e3a5",
   "metadata": {},
   "outputs": [],
   "source": [
    "El mejor año de ventas fue 2019 y se ganó "
   ]
  },
  {
   "cell_type": "markdown",
   "id": "61f5d11f",
   "metadata": {},
   "source": [
    "#### P: ¿Cuál fue el mejor mes en ventas? ¿Cuánto se ganó ese mes?"
   ]
  },
  {
   "cell_type": "code",
   "execution_count": null,
   "id": "2e147391",
   "metadata": {},
   "outputs": [],
   "source": []
  },
  {
   "cell_type": "markdown",
   "id": "c5aaa1cb",
   "metadata": {},
   "source": [
    "#### P: ¿Qué ciudad tuvo el mayor número de ventas?"
   ]
  },
  {
   "cell_type": "code",
   "execution_count": null,
   "id": "32d86eb3",
   "metadata": {},
   "outputs": [],
   "source": []
  },
  {
   "cell_type": "markdown",
   "id": "8659992b",
   "metadata": {},
   "source": [
    "#### P: ¿A qué hora deberíamos mostrar publicidad para maximizar la probabilidad de que los clientes compren el producto?"
   ]
  },
  {
   "cell_type": "code",
   "execution_count": null,
   "id": "9dec4c15",
   "metadata": {},
   "outputs": [],
   "source": []
  },
  {
   "cell_type": "markdown",
   "id": "601dd00f",
   "metadata": {},
   "source": [
    "#### P: ¿Qué productos se venden más a menudo juntos?"
   ]
  },
  {
   "cell_type": "code",
   "execution_count": null,
   "id": "d6ad837e",
   "metadata": {},
   "outputs": [],
   "source": []
  },
  {
   "cell_type": "markdown",
   "id": "2069457d",
   "metadata": {},
   "source": [
    "#### P: ¿Qué producto se vendió más? ¿Por qué crees que se vendió más?"
   ]
  },
  {
   "cell_type": "code",
   "execution_count": null,
   "id": "4cc00038",
   "metadata": {},
   "outputs": [],
   "source": []
  }
 ],
 "metadata": {
  "kernelspec": {
   "display_name": "Python 3 (ipykernel)",
   "language": "python",
   "name": "python3"
  },
  "language_info": {
   "codemirror_mode": {
    "name": "ipython",
    "version": 3
   },
   "file_extension": ".py",
   "mimetype": "text/x-python",
   "name": "python",
   "nbconvert_exporter": "python",
   "pygments_lexer": "ipython3",
   "version": "3.10.9"
  }
 },
 "nbformat": 4,
 "nbformat_minor": 5
}
