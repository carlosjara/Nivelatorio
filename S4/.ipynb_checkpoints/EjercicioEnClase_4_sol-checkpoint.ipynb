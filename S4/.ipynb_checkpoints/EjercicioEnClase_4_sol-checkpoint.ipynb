{
 "cells": [
  {
   "cell_type": "markdown",
   "id": "56f50003",
   "metadata": {},
   "source": [
    "## Ejercicio en clase 4\n",
    "##### Dataset de Ventas (Exploración, Limpieza, Combinación)\n",
    "https://www.kaggle.com/datasets/knightbearr/sales-product-data"
   ]
  },
  {
   "cell_type": "markdown",
   "id": "ae4baf37",
   "metadata": {},
   "source": [
    "### Planteamiento\n",
    "\n",
    "Para la sesión de hoy los equipos de entre 3 y 5 personas deben realizar un proceso apoyado en funciones y programación orientada a objetos para diseñar un pipeline de procesamiento de datos que permita una orientación a la automatización en el proceso de análisis de un base transaccional de ventas, la base contiene los siguientes archivos:\n",
    "\n",
    "Sales_April_2019.csv,\n",
    "Sales_August_2019.csv,\n",
    "Sales_December_2019.csv,\n",
    "Sales_February_2019.csv,\n",
    "Sales_January_2019.csv,\n",
    "Sales_July_2019.csv,\n",
    "Sales_June_2019.csv,\n",
    "Sales_March_2019.csv,\n",
    "Sales_May_2019.csv,\n",
    "Sales_November_2019.csv,\n",
    "Sales_October_2019.csv,\n",
    "Sales_September_2019.csv,\n",
    "\n",
    "Los datos pueden ser descargados de esta carpeta:\n",
    "\n",
    "\n",
    "En el equipo deben diseñar un proceso en Python que permita la (1) lectura secuencial de estos archivos, en la medida en que estos sean cargados deben (2) explorarse (mostrando información general como la forma y características) tras la exploración debe definir las acciones requeridas para la (3) limpieza a través de un proceso guiado por el uso de uno o más agentes (objetos) que posean las funciones necesarias, las actividades propuestas dependerán del equipo (eliminación de None/NaN/Null).\n",
    "\n",
    "Una vez realizada la limpieza general observe que la fecha se encuentra en un formato mixto, que combina la fecha y la hora, además se encuentra en formato MM/DD/YYYY realice los procesos necesarios para (5) separar dichos elementos y (6) asociar las series correspondientes a los tipos de dato adecuados, la fecha debe quedar en formato (7) DD/MM/YYYY, esto implicará que trabaje con un nuevo (8) tipo de dato asociado a la gestión de las fechas:\n",
    "\n",
    "Inicial: 04/19/19 08:46\n",
    "Final: 19/04/2019 | 08:46\n",
    "\n",
    "Referencias\n",
    "- https://towardsdatascience.com/working-with-datetime-in-pandas-dataframe-663f7af6c587\n",
    "- https://www.shiksha.com/online-courses/articles/working-with-date-and-time-in-pandas/\n",
    "- https://pandas.pydata.org/docs/user_guide/timeseries.html#\n",
    "- https://pandas.pydata.org/docs/user_guide/timedeltas.html\n",
    "\n",
    "Observe que el campo: \"Purchase Address\", los datos tienen esta forma: ** 682 Chestnut St, Boston, MA 02215 ** Se requiere que usted cree las columnas, (9) ciudad (city) y  (10) estado (state) usando operaciones sobre el texto, ejemplo: ciudad = Boston | estado = MA.\n",
    "\n",
    "Los valores asociados al precio están separados por (.) punto, recuerde que esto puede ser problemático de cara a la configuración regional, realice el ajuste necesario para que esté separado por (,) coma (11).\n",
    "\n",
    "11.95 ---> 11,95\n",
    "\n",
    "Tras la limpieza de todos los datos y pasos sugeridos, debe realizar una acción combinatoria de todos los meses (12), indique el resultado de dicha acción mencionando en un markdown, cuál es la forma del dataset resultante y de los valores descriptivos (min, max, std, var, count) por dimensión (Columna, Serie) (13). Indique también cuál el número total de datos faltantes o atípicos (NA, None, Null, NaN) (14) indicando que porcentaje % del dataset global se encuentra comprometido (15).\n",
    "\n",
    "🎯 Tras haber limpiado, unido y descrito el dataset general, responda las siguientes preguntas:\n",
    "\n",
    "- P: ¿Cuál fue el mejor año en ventas? ¿Cuánto se ganó ese año?\n",
    "- P: ¿Cuál fue el mejor mes en ventas? ¿Cuánto se ganó ese mes?\n",
    "- P: ¿Qué ciudad tuvo el mayor número de ventas?\n",
    "- P: ¿A qué hora deberíamos mostrar publicidad para maximizar la probabilidad de que los clientes compren el producto?\n",
    "- P: ¿Qué productos se venden más a menudo juntos?\n",
    "- P: ¿Qué producto se vendió más? ¿Por qué crees que se vendió más?\n",
    "\n",
    "💊 A partir de las columnas creadas indique y responda 5 preguntas adicionales del dataset.\n"
   ]
  },
  {
   "cell_type": "code",
   "execution_count": 1,
   "id": "e22cd178",
   "metadata": {},
   "outputs": [
    {
     "name": "stdout",
     "output_type": "stream",
     "text": [
      "Cargando: data_files/Sales_April_2019.csv\n",
      "Cargando: data_files/Sales_August_2019.csv\n",
      "Cargando: data_files/Sales_December_2019.csv\n",
      "Cargando: data_files/Sales_February_2019.csv\n",
      "Cargando: data_files/Sales_January_2019.csv\n",
      "Cargando: data_files/Sales_July_2019.csv\n",
      "Cargando: data_files/Sales_June_2019.csv\n",
      "Cargando: data_files/Sales_March_2019.csv\n",
      "Cargando: data_files/Sales_May_2019.csv\n",
      "Cargando: data_files/Sales_November_2019.csv\n",
      "Cargando: data_files/Sales_October_2019.csv\n",
      "Cargando: data_files/Sales_September_2019.csv\n",
      "Cuántos dataframes resultaron:  12\n",
      "Wall time: 652 ms\n"
     ]
    },
    {
     "data": {
      "text/html": [
       "<div>\n",
       "<style scoped>\n",
       "    .dataframe tbody tr th:only-of-type {\n",
       "        vertical-align: middle;\n",
       "    }\n",
       "\n",
       "    .dataframe tbody tr th {\n",
       "        vertical-align: top;\n",
       "    }\n",
       "\n",
       "    .dataframe thead th {\n",
       "        text-align: right;\n",
       "    }\n",
       "</style>\n",
       "<table border=\"1\" class=\"dataframe\">\n",
       "  <thead>\n",
       "    <tr style=\"text-align: right;\">\n",
       "      <th></th>\n",
       "      <th>Order ID</th>\n",
       "      <th>Product</th>\n",
       "      <th>Quantity Ordered</th>\n",
       "      <th>Price Each</th>\n",
       "      <th>Order Date</th>\n",
       "      <th>Purchase Address</th>\n",
       "    </tr>\n",
       "  </thead>\n",
       "  <tbody>\n",
       "    <tr>\n",
       "      <th>0</th>\n",
       "      <td>176558</td>\n",
       "      <td>USB-C Charging Cable</td>\n",
       "      <td>2</td>\n",
       "      <td>11.95</td>\n",
       "      <td>04/19/19 08:46</td>\n",
       "      <td>917 1st St, Dallas, TX 75001</td>\n",
       "    </tr>\n",
       "    <tr>\n",
       "      <th>1</th>\n",
       "      <td>NaN</td>\n",
       "      <td>NaN</td>\n",
       "      <td>NaN</td>\n",
       "      <td>NaN</td>\n",
       "      <td>NaN</td>\n",
       "      <td>NaN</td>\n",
       "    </tr>\n",
       "    <tr>\n",
       "      <th>2</th>\n",
       "      <td>176559</td>\n",
       "      <td>Bose SoundSport Headphones</td>\n",
       "      <td>1</td>\n",
       "      <td>99.99</td>\n",
       "      <td>04/07/19 22:30</td>\n",
       "      <td>682 Chestnut St, Boston, MA 02215</td>\n",
       "    </tr>\n",
       "    <tr>\n",
       "      <th>3</th>\n",
       "      <td>176560</td>\n",
       "      <td>Google Phone</td>\n",
       "      <td>1</td>\n",
       "      <td>600</td>\n",
       "      <td>04/12/19 14:38</td>\n",
       "      <td>669 Spruce St, Los Angeles, CA 90001</td>\n",
       "    </tr>\n",
       "    <tr>\n",
       "      <th>4</th>\n",
       "      <td>176560</td>\n",
       "      <td>Wired Headphones</td>\n",
       "      <td>1</td>\n",
       "      <td>11.99</td>\n",
       "      <td>04/12/19 14:38</td>\n",
       "      <td>669 Spruce St, Los Angeles, CA 90001</td>\n",
       "    </tr>\n",
       "    <tr>\n",
       "      <th>...</th>\n",
       "      <td>...</td>\n",
       "      <td>...</td>\n",
       "      <td>...</td>\n",
       "      <td>...</td>\n",
       "      <td>...</td>\n",
       "      <td>...</td>\n",
       "    </tr>\n",
       "    <tr>\n",
       "      <th>186845</th>\n",
       "      <td>259353</td>\n",
       "      <td>AAA Batteries (4-pack)</td>\n",
       "      <td>3</td>\n",
       "      <td>2.99</td>\n",
       "      <td>09/17/19 20:56</td>\n",
       "      <td>840 Highland St, Los Angeles, CA 90001</td>\n",
       "    </tr>\n",
       "    <tr>\n",
       "      <th>186846</th>\n",
       "      <td>259354</td>\n",
       "      <td>iPhone</td>\n",
       "      <td>1</td>\n",
       "      <td>700</td>\n",
       "      <td>09/01/19 16:00</td>\n",
       "      <td>216 Dogwood St, San Francisco, CA 94016</td>\n",
       "    </tr>\n",
       "    <tr>\n",
       "      <th>186847</th>\n",
       "      <td>259355</td>\n",
       "      <td>iPhone</td>\n",
       "      <td>1</td>\n",
       "      <td>700</td>\n",
       "      <td>09/23/19 07:39</td>\n",
       "      <td>220 12th St, San Francisco, CA 94016</td>\n",
       "    </tr>\n",
       "    <tr>\n",
       "      <th>186848</th>\n",
       "      <td>259356</td>\n",
       "      <td>34in Ultrawide Monitor</td>\n",
       "      <td>1</td>\n",
       "      <td>379.99</td>\n",
       "      <td>09/19/19 17:30</td>\n",
       "      <td>511 Forest St, San Francisco, CA 94016</td>\n",
       "    </tr>\n",
       "    <tr>\n",
       "      <th>186849</th>\n",
       "      <td>259357</td>\n",
       "      <td>USB-C Charging Cable</td>\n",
       "      <td>1</td>\n",
       "      <td>11.95</td>\n",
       "      <td>09/30/19 00:18</td>\n",
       "      <td>250 Meadow St, San Francisco, CA 94016</td>\n",
       "    </tr>\n",
       "  </tbody>\n",
       "</table>\n",
       "<p>186850 rows × 6 columns</p>\n",
       "</div>"
      ],
      "text/plain": [
       "       Order ID                     Product Quantity Ordered Price Each  \\\n",
       "0        176558        USB-C Charging Cable                2      11.95   \n",
       "1           NaN                         NaN              NaN        NaN   \n",
       "2        176559  Bose SoundSport Headphones                1      99.99   \n",
       "3        176560                Google Phone                1        600   \n",
       "4        176560            Wired Headphones                1      11.99   \n",
       "...         ...                         ...              ...        ...   \n",
       "186845   259353      AAA Batteries (4-pack)                3       2.99   \n",
       "186846   259354                      iPhone                1        700   \n",
       "186847   259355                      iPhone                1        700   \n",
       "186848   259356      34in Ultrawide Monitor                1     379.99   \n",
       "186849   259357        USB-C Charging Cable                1      11.95   \n",
       "\n",
       "            Order Date                         Purchase Address  \n",
       "0       04/19/19 08:46             917 1st St, Dallas, TX 75001  \n",
       "1                  NaN                                      NaN  \n",
       "2       04/07/19 22:30        682 Chestnut St, Boston, MA 02215  \n",
       "3       04/12/19 14:38     669 Spruce St, Los Angeles, CA 90001  \n",
       "4       04/12/19 14:38     669 Spruce St, Los Angeles, CA 90001  \n",
       "...                ...                                      ...  \n",
       "186845  09/17/19 20:56   840 Highland St, Los Angeles, CA 90001  \n",
       "186846  09/01/19 16:00  216 Dogwood St, San Francisco, CA 94016  \n",
       "186847  09/23/19 07:39     220 12th St, San Francisco, CA 94016  \n",
       "186848  09/19/19 17:30   511 Forest St, San Francisco, CA 94016  \n",
       "186849  09/30/19 00:18   250 Meadow St, San Francisco, CA 94016  \n",
       "\n",
       "[186850 rows x 6 columns]"
      ]
     },
     "execution_count": 1,
     "metadata": {},
     "output_type": "execute_result"
    }
   ],
   "source": [
    "%%time\n",
    "import os\n",
    "import pandas as pd\n",
    "\n",
    "# Ruta de la carpeta que contiene los archivos\n",
    "ruta_carpeta = 'data_files/'  # Reemplaza esto con la ruta de tu carpeta\n",
    "\n",
    "# Lista para almacenar los DataFrames cargados\n",
    "dataframes = []\n",
    "\n",
    "# Recorre todos los archivos en la carpeta\n",
    "for archivo in os.listdir(ruta_carpeta):\n",
    "    # Verifica si el archivo tiene una extensión que corresponde a un archivo CSV o Excel\n",
    "    if archivo.endswith('.csv') or archivo.endswith('.xlsx'):\n",
    "        # Construye la ruta completa del archivo\n",
    "        ruta_archivo = os.path.join(ruta_carpeta, archivo)\n",
    "        print(\"Cargando:\", ruta_archivo)\n",
    "        # Carga el archivo en un DataFrame y agrega a la lista (** hablar de la notación one line)\n",
    "        df = pd.read_csv(ruta_archivo) if archivo.endswith('.csv') else pd.read_excel(ruta_archivo)\n",
    "        dataframes.append(df)\n",
    "\n",
    "print(\"Cuántos dataframes resultaron: \" , len(dataframes))\n",
    "# Combinar todos los DataFrames en uno solo (** hablar del index)\n",
    "df_combinado = pd.concat(dataframes, ignore_index=True)\n",
    "\n",
    "# Ahora el DataFrame \"df_combinado\" contiene toda la información de los DataFrames cargados desde los archivos.\n",
    "df_combinado"
   ]
  },
  {
   "cell_type": "code",
   "execution_count": 2,
   "id": "36a62280",
   "metadata": {
    "scrolled": true
   },
   "outputs": [
    {
     "name": "stdout",
     "output_type": "stream",
     "text": [
      "<class 'pandas.core.frame.DataFrame'>\n",
      "Int64Index: 185687 entries, 0 to 186849\n",
      "Data columns (total 6 columns):\n",
      " #   Column            Non-Null Count   Dtype \n",
      "---  ------            --------------   ----- \n",
      " 0   Order ID          185687 non-null  object\n",
      " 1   Product           185687 non-null  object\n",
      " 2   Quantity Ordered  185687 non-null  object\n",
      " 3   Price Each        185687 non-null  object\n",
      " 4   Order Date        185687 non-null  object\n",
      " 5   Purchase Address  185687 non-null  object\n",
      "dtypes: object(6)\n",
      "memory usage: 9.9+ MB\n"
     ]
    }
   ],
   "source": [
    "df_combinado.drop_duplicates(inplace=True)\n",
    "df_combinado.dropna(inplace=True)\n",
    "df_combinado.info()"
   ]
  },
  {
   "cell_type": "code",
   "execution_count": 3,
   "id": "7cabf604",
   "metadata": {},
   "outputs": [
    {
     "name": "stdout",
     "output_type": "stream",
     "text": [
      "antes 185687\n",
      "despues 185686\n"
     ]
    },
    {
     "data": {
      "text/html": [
       "<div>\n",
       "<style scoped>\n",
       "    .dataframe tbody tr th:only-of-type {\n",
       "        vertical-align: middle;\n",
       "    }\n",
       "\n",
       "    .dataframe tbody tr th {\n",
       "        vertical-align: top;\n",
       "    }\n",
       "\n",
       "    .dataframe thead th {\n",
       "        text-align: right;\n",
       "    }\n",
       "</style>\n",
       "<table border=\"1\" class=\"dataframe\">\n",
       "  <thead>\n",
       "    <tr style=\"text-align: right;\">\n",
       "      <th></th>\n",
       "      <th>Order ID</th>\n",
       "      <th>Product</th>\n",
       "      <th>Quantity Ordered</th>\n",
       "      <th>Price Each</th>\n",
       "      <th>Order Date</th>\n",
       "      <th>Purchase Address</th>\n",
       "    </tr>\n",
       "  </thead>\n",
       "  <tbody>\n",
       "    <tr>\n",
       "      <th>0</th>\n",
       "      <td>176558</td>\n",
       "      <td>USB-C Charging Cable</td>\n",
       "      <td>2</td>\n",
       "      <td>11.95</td>\n",
       "      <td>04/19/19 08:46</td>\n",
       "      <td>917 1st St, Dallas, TX 75001</td>\n",
       "    </tr>\n",
       "    <tr>\n",
       "      <th>2</th>\n",
       "      <td>176559</td>\n",
       "      <td>Bose SoundSport Headphones</td>\n",
       "      <td>1</td>\n",
       "      <td>99.99</td>\n",
       "      <td>04/07/19 22:30</td>\n",
       "      <td>682 Chestnut St, Boston, MA 02215</td>\n",
       "    </tr>\n",
       "    <tr>\n",
       "      <th>3</th>\n",
       "      <td>176560</td>\n",
       "      <td>Google Phone</td>\n",
       "      <td>1</td>\n",
       "      <td>600</td>\n",
       "      <td>04/12/19 14:38</td>\n",
       "      <td>669 Spruce St, Los Angeles, CA 90001</td>\n",
       "    </tr>\n",
       "    <tr>\n",
       "      <th>4</th>\n",
       "      <td>176560</td>\n",
       "      <td>Wired Headphones</td>\n",
       "      <td>1</td>\n",
       "      <td>11.99</td>\n",
       "      <td>04/12/19 14:38</td>\n",
       "      <td>669 Spruce St, Los Angeles, CA 90001</td>\n",
       "    </tr>\n",
       "    <tr>\n",
       "      <th>5</th>\n",
       "      <td>176561</td>\n",
       "      <td>Wired Headphones</td>\n",
       "      <td>1</td>\n",
       "      <td>11.99</td>\n",
       "      <td>04/30/19 09:27</td>\n",
       "      <td>333 8th St, Los Angeles, CA 90001</td>\n",
       "    </tr>\n",
       "    <tr>\n",
       "      <th>...</th>\n",
       "      <td>...</td>\n",
       "      <td>...</td>\n",
       "      <td>...</td>\n",
       "      <td>...</td>\n",
       "      <td>...</td>\n",
       "      <td>...</td>\n",
       "    </tr>\n",
       "    <tr>\n",
       "      <th>186845</th>\n",
       "      <td>259353</td>\n",
       "      <td>AAA Batteries (4-pack)</td>\n",
       "      <td>3</td>\n",
       "      <td>2.99</td>\n",
       "      <td>09/17/19 20:56</td>\n",
       "      <td>840 Highland St, Los Angeles, CA 90001</td>\n",
       "    </tr>\n",
       "    <tr>\n",
       "      <th>186846</th>\n",
       "      <td>259354</td>\n",
       "      <td>iPhone</td>\n",
       "      <td>1</td>\n",
       "      <td>700</td>\n",
       "      <td>09/01/19 16:00</td>\n",
       "      <td>216 Dogwood St, San Francisco, CA 94016</td>\n",
       "    </tr>\n",
       "    <tr>\n",
       "      <th>186847</th>\n",
       "      <td>259355</td>\n",
       "      <td>iPhone</td>\n",
       "      <td>1</td>\n",
       "      <td>700</td>\n",
       "      <td>09/23/19 07:39</td>\n",
       "      <td>220 12th St, San Francisco, CA 94016</td>\n",
       "    </tr>\n",
       "    <tr>\n",
       "      <th>186848</th>\n",
       "      <td>259356</td>\n",
       "      <td>34in Ultrawide Monitor</td>\n",
       "      <td>1</td>\n",
       "      <td>379.99</td>\n",
       "      <td>09/19/19 17:30</td>\n",
       "      <td>511 Forest St, San Francisco, CA 94016</td>\n",
       "    </tr>\n",
       "    <tr>\n",
       "      <th>186849</th>\n",
       "      <td>259357</td>\n",
       "      <td>USB-C Charging Cable</td>\n",
       "      <td>1</td>\n",
       "      <td>11.95</td>\n",
       "      <td>09/30/19 00:18</td>\n",
       "      <td>250 Meadow St, San Francisco, CA 94016</td>\n",
       "    </tr>\n",
       "  </tbody>\n",
       "</table>\n",
       "<p>185686 rows × 6 columns</p>\n",
       "</div>"
      ],
      "text/plain": [
       "       Order ID                     Product Quantity Ordered Price Each  \\\n",
       "0        176558        USB-C Charging Cable                2      11.95   \n",
       "2        176559  Bose SoundSport Headphones                1      99.99   \n",
       "3        176560                Google Phone                1        600   \n",
       "4        176560            Wired Headphones                1      11.99   \n",
       "5        176561            Wired Headphones                1      11.99   \n",
       "...         ...                         ...              ...        ...   \n",
       "186845   259353      AAA Batteries (4-pack)                3       2.99   \n",
       "186846   259354                      iPhone                1        700   \n",
       "186847   259355                      iPhone                1        700   \n",
       "186848   259356      34in Ultrawide Monitor                1     379.99   \n",
       "186849   259357        USB-C Charging Cable                1      11.95   \n",
       "\n",
       "            Order Date                         Purchase Address  \n",
       "0       04/19/19 08:46             917 1st St, Dallas, TX 75001  \n",
       "2       04/07/19 22:30        682 Chestnut St, Boston, MA 02215  \n",
       "3       04/12/19 14:38     669 Spruce St, Los Angeles, CA 90001  \n",
       "4       04/12/19 14:38     669 Spruce St, Los Angeles, CA 90001  \n",
       "5       04/30/19 09:27        333 8th St, Los Angeles, CA 90001  \n",
       "...                ...                                      ...  \n",
       "186845  09/17/19 20:56   840 Highland St, Los Angeles, CA 90001  \n",
       "186846  09/01/19 16:00  216 Dogwood St, San Francisco, CA 94016  \n",
       "186847  09/23/19 07:39     220 12th St, San Francisco, CA 94016  \n",
       "186848  09/19/19 17:30   511 Forest St, San Francisco, CA 94016  \n",
       "186849  09/30/19 00:18   250 Meadow St, San Francisco, CA 94016  \n",
       "\n",
       "[185686 rows x 6 columns]"
      ]
     },
     "execution_count": 3,
     "metadata": {},
     "output_type": "execute_result"
    }
   ],
   "source": [
    "print(\"antes\",len(df_combinado))\n",
    "df_combinado = df_combinado.drop(df_combinado[df_combinado[\"Quantity Ordered\"] == \"Quantity Ordered\"].index)\n",
    "print(\"despues\", len(df_combinado))\n",
    "df_combinado"
   ]
  },
  {
   "cell_type": "code",
   "execution_count": 4,
   "id": "b9a34456",
   "metadata": {
    "scrolled": true
   },
   "outputs": [],
   "source": [
    "df_combinado[\"Quantity Ordered\"] = df_combinado[\"Quantity Ordered\"].astype(\"int16\")"
   ]
  },
  {
   "cell_type": "code",
   "execution_count": 5,
   "id": "c196e578",
   "metadata": {},
   "outputs": [],
   "source": [
    "df_combinado[\"Price Each\"] = df_combinado[\"Price Each\"].astype(\"float16\")"
   ]
  },
  {
   "cell_type": "code",
   "execution_count": 6,
   "id": "075c26aa",
   "metadata": {},
   "outputs": [
    {
     "name": "stdout",
     "output_type": "stream",
     "text": [
      "<class 'pandas.core.frame.DataFrame'>\n",
      "Int64Index: 185686 entries, 0 to 186849\n",
      "Data columns (total 7 columns):\n",
      " #   Column            Non-Null Count   Dtype  \n",
      "---  ------            --------------   -----  \n",
      " 0   Order ID          185686 non-null  object \n",
      " 1   Product           185686 non-null  object \n",
      " 2   Quantity Ordered  185686 non-null  int16  \n",
      " 3   Price Each        185686 non-null  float16\n",
      " 4   Order Date        185686 non-null  object \n",
      " 5   Purchase Address  185686 non-null  object \n",
      " 6   Total Sale        185686 non-null  float32\n",
      "dtypes: float16(1), float32(1), int16(1), object(4)\n",
      "memory usage: 8.5+ MB\n"
     ]
    }
   ],
   "source": [
    "df_combinado[\"Total Sale\"] = df_combinado[\"Quantity Ordered\"] * df_combinado[\"Price Each\"]\n",
    "df_combinado.info()"
   ]
  },
  {
   "cell_type": "code",
   "execution_count": 7,
   "id": "50f8c064",
   "metadata": {},
   "outputs": [
    {
     "data": {
      "text/plain": [
       "0        2019-04-19 08:46:00\n",
       "2        2019-04-07 22:30:00\n",
       "3        2019-04-12 14:38:00\n",
       "4        2019-04-12 14:38:00\n",
       "5        2019-04-30 09:27:00\n",
       "                 ...        \n",
       "186845   2019-09-17 20:56:00\n",
       "186846   2019-09-01 16:00:00\n",
       "186847   2019-09-23 07:39:00\n",
       "186848   2019-09-19 17:30:00\n",
       "186849   2019-09-30 00:18:00\n",
       "Name: Order Date, Length: 185686, dtype: datetime64[ns]"
      ]
     },
     "execution_count": 7,
     "metadata": {},
     "output_type": "execute_result"
    }
   ],
   "source": [
    "df_combinado['Order Date'] = pd.to_datetime(df_combinado['Order Date'])\n",
    "df_combinado['Order Date']"
   ]
  },
  {
   "cell_type": "code",
   "execution_count": 8,
   "id": "94f30c9e",
   "metadata": {},
   "outputs": [],
   "source": [
    "df_combinado['Order Date'] = df_combinado['Order Date'].dt.strftime('%d/%m/%Y %H:%M:%S')"
   ]
  },
  {
   "cell_type": "code",
   "execution_count": 9,
   "id": "9d6b37db",
   "metadata": {},
   "outputs": [],
   "source": [
    "df_combinado['Order Date'] = pd.to_datetime(df_combinado['Order Date'])"
   ]
  },
  {
   "cell_type": "code",
   "execution_count": 10,
   "id": "9e751904",
   "metadata": {},
   "outputs": [
    {
     "name": "stdout",
     "output_type": "stream",
     "text": [
      "<class 'pandas.core.frame.DataFrame'>\n",
      "Int64Index: 185686 entries, 0 to 186849\n",
      "Data columns (total 7 columns):\n",
      " #   Column            Non-Null Count   Dtype         \n",
      "---  ------            --------------   -----         \n",
      " 0   Order ID          185686 non-null  object        \n",
      " 1   Product           185686 non-null  object        \n",
      " 2   Quantity Ordered  185686 non-null  int16         \n",
      " 3   Price Each        185686 non-null  float16       \n",
      " 4   Order Date        185686 non-null  datetime64[ns]\n",
      " 5   Purchase Address  185686 non-null  object        \n",
      " 6   Total Sale        185686 non-null  float32       \n",
      "dtypes: datetime64[ns](1), float16(1), float32(1), int16(1), object(3)\n",
      "memory usage: 8.5+ MB\n"
     ]
    }
   ],
   "source": [
    "df_combinado.info()"
   ]
  },
  {
   "cell_type": "code",
   "execution_count": 11,
   "id": "f90018ab",
   "metadata": {},
   "outputs": [],
   "source": [
    "df_combinado['Date'] = df_combinado['Order Date'].dt.date.astype(\"datetime64\")\n",
    "df_combinado['Time'] = df_combinado['Order Date'].dt.time"
   ]
  },
  {
   "cell_type": "code",
   "execution_count": 12,
   "id": "e9955928",
   "metadata": {},
   "outputs": [
    {
     "name": "stdout",
     "output_type": "stream",
     "text": [
      "<class 'pandas.core.frame.DataFrame'>\n",
      "Int64Index: 185686 entries, 0 to 186849\n",
      "Data columns (total 9 columns):\n",
      " #   Column            Non-Null Count   Dtype         \n",
      "---  ------            --------------   -----         \n",
      " 0   Order ID          185686 non-null  object        \n",
      " 1   Product           185686 non-null  object        \n",
      " 2   Quantity Ordered  185686 non-null  int16         \n",
      " 3   Price Each        185686 non-null  float16       \n",
      " 4   Order Date        185686 non-null  datetime64[ns]\n",
      " 5   Purchase Address  185686 non-null  object        \n",
      " 6   Total Sale        185686 non-null  float32       \n",
      " 7   Date              185686 non-null  datetime64[ns]\n",
      " 8   Time              185686 non-null  object        \n",
      "dtypes: datetime64[ns](2), float16(1), float32(1), int16(1), object(4)\n",
      "memory usage: 11.3+ MB\n"
     ]
    }
   ],
   "source": [
    "df_combinado.info()"
   ]
  },
  {
   "cell_type": "code",
   "execution_count": 13,
   "id": "22f7db31",
   "metadata": {},
   "outputs": [
    {
     "data": {
      "text/plain": [
       "0                    [917 1st St,  Dallas,  TX 75001]\n",
       "2               [682 Chestnut St,  Boston,  MA 02215]\n",
       "3            [669 Spruce St,  Los Angeles,  CA 90001]\n",
       "4            [669 Spruce St,  Los Angeles,  CA 90001]\n",
       "5               [333 8th St,  Los Angeles,  CA 90001]\n",
       "                             ...                     \n",
       "186845     [840 Highland St,  Los Angeles,  CA 90001]\n",
       "186846    [216 Dogwood St,  San Francisco,  CA 94016]\n",
       "186847       [220 12th St,  San Francisco,  CA 94016]\n",
       "186848     [511 Forest St,  San Francisco,  CA 94016]\n",
       "186849     [250 Meadow St,  San Francisco,  CA 94016]\n",
       "Name: Purchase Address, Length: 185686, dtype: object"
      ]
     },
     "execution_count": 13,
     "metadata": {},
     "output_type": "execute_result"
    }
   ],
   "source": [
    "## 682 Chestnut St, Boston, MA 02215\n",
    "df_combinado[\"Purchase Address\"].str.split(\",\")"
   ]
  },
  {
   "cell_type": "code",
   "execution_count": 14,
   "id": "3ae3b61c",
   "metadata": {},
   "outputs": [
    {
     "data": {
      "text/html": [
       "<div>\n",
       "<style scoped>\n",
       "    .dataframe tbody tr th:only-of-type {\n",
       "        vertical-align: middle;\n",
       "    }\n",
       "\n",
       "    .dataframe tbody tr th {\n",
       "        vertical-align: top;\n",
       "    }\n",
       "\n",
       "    .dataframe thead th {\n",
       "        text-align: right;\n",
       "    }\n",
       "</style>\n",
       "<table border=\"1\" class=\"dataframe\">\n",
       "  <thead>\n",
       "    <tr style=\"text-align: right;\">\n",
       "      <th></th>\n",
       "      <th>Order ID</th>\n",
       "      <th>Product</th>\n",
       "      <th>Quantity Ordered</th>\n",
       "      <th>Price Each</th>\n",
       "      <th>Order Date</th>\n",
       "      <th>Purchase Address</th>\n",
       "      <th>Total Sale</th>\n",
       "      <th>Date</th>\n",
       "      <th>Time</th>\n",
       "      <th>City</th>\n",
       "      <th>State_zip</th>\n",
       "    </tr>\n",
       "  </thead>\n",
       "  <tbody>\n",
       "    <tr>\n",
       "      <th>0</th>\n",
       "      <td>176558</td>\n",
       "      <td>USB-C Charging Cable</td>\n",
       "      <td>2</td>\n",
       "      <td>11.953125</td>\n",
       "      <td>2019-04-19 08:46:00</td>\n",
       "      <td>917 1st St, Dallas, TX 75001</td>\n",
       "      <td>23.90625</td>\n",
       "      <td>2019-04-19</td>\n",
       "      <td>08:46:00</td>\n",
       "      <td>Dallas</td>\n",
       "      <td>TX 75001</td>\n",
       "    </tr>\n",
       "    <tr>\n",
       "      <th>2</th>\n",
       "      <td>176559</td>\n",
       "      <td>Bose SoundSport Headphones</td>\n",
       "      <td>1</td>\n",
       "      <td>100.000000</td>\n",
       "      <td>2019-07-04 22:30:00</td>\n",
       "      <td>682 Chestnut St, Boston, MA 02215</td>\n",
       "      <td>100.00000</td>\n",
       "      <td>2019-07-04</td>\n",
       "      <td>22:30:00</td>\n",
       "      <td>Boston</td>\n",
       "      <td>MA 02215</td>\n",
       "    </tr>\n",
       "  </tbody>\n",
       "</table>\n",
       "</div>"
      ],
      "text/plain": [
       "  Order ID                     Product  Quantity Ordered  Price Each  \\\n",
       "0   176558        USB-C Charging Cable                 2   11.953125   \n",
       "2   176559  Bose SoundSport Headphones                 1  100.000000   \n",
       "\n",
       "           Order Date                   Purchase Address  Total Sale  \\\n",
       "0 2019-04-19 08:46:00       917 1st St, Dallas, TX 75001    23.90625   \n",
       "2 2019-07-04 22:30:00  682 Chestnut St, Boston, MA 02215   100.00000   \n",
       "\n",
       "        Date      Time     City  State_zip  \n",
       "0 2019-04-19  08:46:00   Dallas   TX 75001  \n",
       "2 2019-07-04  22:30:00   Boston   MA 02215  "
      ]
     },
     "execution_count": 14,
     "metadata": {},
     "output_type": "execute_result"
    }
   ],
   "source": [
    "## https://pandas.pydata.org/docs/user_guide/text.html\n",
    "splitted_list = df_combinado[\"Purchase Address\"].str.split(\",\")\n",
    "splitted_list\n",
    "df_combinado[\"City\"] = pd.DataFrame(splitted_list)[\"Purchase Address\"].str.get(1)\n",
    "df_combinado[\"State_zip\"] = pd.DataFrame(splitted_list)[\"Purchase Address\"].str.get(2)\n",
    "df_combinado.head(2)"
   ]
  },
  {
   "cell_type": "code",
   "execution_count": 15,
   "id": "ad3e1ff9",
   "metadata": {
    "scrolled": true
   },
   "outputs": [],
   "source": [
    "## https://pandas.pydata.org/docs/user_guide/text.html\n",
    "splitted_list = df_combinado[\"State_zip\"].str.split(\" \")\n",
    "splitted_list\n",
    "df_combinado[\"State\"] = pd.DataFrame(splitted_list)[\"State_zip\"].str.get(1).str.replace(\" \", \"\")\n",
    "df_combinado[\"Zip Code\"] = pd.DataFrame(splitted_list)[\"State_zip\"].str.get(2).str.replace(\" \", \"\")\n",
    "df_combinado.drop(\"State_zip\", axis = 1, inplace=True)\n"
   ]
  },
  {
   "cell_type": "code",
   "execution_count": 16,
   "id": "981157bb",
   "metadata": {},
   "outputs": [
    {
     "data": {
      "text/plain": [
       "array([2019, 2020], dtype=int64)"
      ]
     },
     "execution_count": 16,
     "metadata": {},
     "output_type": "execute_result"
    }
   ],
   "source": [
    "df_combinado[\"Year\"] = df_combinado[\"Date\"].dt.year\n",
    "df_combinado[\"Year\"].unique()"
   ]
  },
  {
   "cell_type": "code",
   "execution_count": 17,
   "id": "3fb2406f",
   "metadata": {},
   "outputs": [
    {
     "data": {
      "text/plain": [
       "2019    185652\n",
       "2020        34\n",
       "Name: Year, dtype: int64"
      ]
     },
     "execution_count": 17,
     "metadata": {},
     "output_type": "execute_result"
    }
   ],
   "source": [
    "df_combinado[\"Year\"].value_counts()"
   ]
  },
  {
   "cell_type": "code",
   "execution_count": 18,
   "id": "06afb1c3",
   "metadata": {},
   "outputs": [
    {
     "data": {
      "text/plain": [
       "array([ 4,  7, 12,  2,  8,  3,  9, 11,  5, 10,  1,  6], dtype=int64)"
      ]
     },
     "execution_count": 18,
     "metadata": {},
     "output_type": "execute_result"
    }
   ],
   "source": [
    "df_combinado[\"Month\"] = df_combinado[\"Date\"].dt.month\n",
    "df_combinado[\"Month\"].unique()"
   ]
  },
  {
   "cell_type": "markdown",
   "id": "74c82e70",
   "metadata": {},
   "source": [
    "### Preguntas"
   ]
  },
  {
   "cell_type": "code",
   "execution_count": 19,
   "id": "ab4fc1d9",
   "metadata": {},
   "outputs": [],
   "source": [
    "df = df_combinado"
   ]
  },
  {
   "cell_type": "markdown",
   "id": "36b2818e",
   "metadata": {},
   "source": [
    "#### ¿Cuál fue el mejor año en ventas? ¿Cuánto se ganó ese año?"
   ]
  },
  {
   "cell_type": "code",
   "execution_count": 20,
   "id": "8d40c363",
   "metadata": {
    "scrolled": true
   },
   "outputs": [
    {
     "name": "stdout",
     "output_type": "stream",
     "text": [
      "<class 'pandas.core.frame.DataFrame'>\n",
      "Int64Index: 185686 entries, 0 to 186849\n",
      "Data columns (total 14 columns):\n",
      " #   Column            Non-Null Count   Dtype         \n",
      "---  ------            --------------   -----         \n",
      " 0   Order ID          185686 non-null  object        \n",
      " 1   Product           185686 non-null  object        \n",
      " 2   Quantity Ordered  185686 non-null  int16         \n",
      " 3   Price Each        185686 non-null  float16       \n",
      " 4   Order Date        185686 non-null  datetime64[ns]\n",
      " 5   Purchase Address  185686 non-null  object        \n",
      " 6   Total Sale        185686 non-null  float32       \n",
      " 7   Date              185686 non-null  datetime64[ns]\n",
      " 8   Time              185686 non-null  object        \n",
      " 9   City              185686 non-null  object        \n",
      " 10  State             185686 non-null  object        \n",
      " 11  Zip Code          185686 non-null  object        \n",
      " 12  Year              185686 non-null  int64         \n",
      " 13  Month             185686 non-null  int64         \n",
      "dtypes: datetime64[ns](2), float16(1), float32(1), int16(1), int64(2), object(7)\n",
      "memory usage: 18.4+ MB\n"
     ]
    }
   ],
   "source": [
    "df.info()"
   ]
  },
  {
   "cell_type": "code",
   "execution_count": 21,
   "id": "38156796",
   "metadata": {},
   "outputs": [
    {
     "data": {
      "text/plain": [
       "False    185686\n",
       "dtype: int64"
      ]
     },
     "execution_count": 21,
     "metadata": {},
     "output_type": "execute_result"
    }
   ],
   "source": [
    "df_combinado.duplicated().value_counts()"
   ]
  },
  {
   "cell_type": "markdown",
   "id": "606f7d4d",
   "metadata": {},
   "source": [
    "#### ¿Cuál fue el mejor mes en ventas? ¿Cuánto se ganó ese mes?"
   ]
  },
  {
   "cell_type": "code",
   "execution_count": 22,
   "id": "5a055a87",
   "metadata": {
    "scrolled": false
   },
   "outputs": [
    {
     "data": {
      "text/plain": [
       "Year  Month\n",
       "2019  12       3921388\n",
       "      10       3473708\n",
       "      4        3228616\n",
       "      11       3084908\n",
       "      5        3031183\n",
       "      3        2791070\n",
       "      7        2719517\n",
       "      6        2683148\n",
       "      8        2443017\n",
       "      9        2410709\n",
       "      2        2394024\n",
       "      1        2276187\n",
       "2020  1           8670\n",
       "Name: Total Sale, dtype: int64"
      ]
     },
     "execution_count": 22,
     "metadata": {},
     "output_type": "execute_result"
    }
   ],
   "source": [
    "df_combinado.groupby([\"Year\",\"Month\"])[\"Total Sale\"].sum().astype(\"int64\").sort_values(ascending=False)"
   ]
  },
  {
   "cell_type": "markdown",
   "id": "4d5be5c0",
   "metadata": {},
   "source": [
    "###### ¿Cómo podemos mejorar la vista de estos valores?"
   ]
  },
  {
   "cell_type": "code",
   "execution_count": 23,
   "id": "ce711848",
   "metadata": {},
   "outputs": [
    {
     "name": "stdout",
     "output_type": "stream",
     "text": [
      "Month\n",
      "12    3.921.388.00\n",
      "10    3.473.708.25\n",
      "4     3.228.616.75\n",
      "11    3.084.908.50\n",
      "5     3.031.183.00\n",
      "3     2.791.070.50\n",
      "7     2.719.517.00\n",
      "6     2.683.148.50\n",
      "8     2.443.017.25\n",
      "9     2.410.709.25\n",
      "2     2.394.024.50\n",
      "1     2.284.858.00\n",
      "Name: Total Sale, dtype: object\n"
     ]
    }
   ],
   "source": [
    "import pandas as pd\n",
    "\n",
    "# Agrupar y sumar las ventas por mes, y ordenar los resultados\n",
    "sales_by_month = df.groupby(\"Month\")[\"Total Sale\"].sum().sort_values(ascending=False)\n",
    "\n",
    "# Aplicar el formateo con separador de miles y dos decimales\n",
    "formatted_sales = sales_by_month.apply(lambda x: '{:,.2f}'.format(x).replace(\",\",\".\"))\n",
    "\n",
    "print(formatted_sales)"
   ]
  },
  {
   "cell_type": "markdown",
   "id": "ba9b234c",
   "metadata": {},
   "source": [
    "#### ¿Qué ciudad tuvo el mayor número de ventas?"
   ]
  },
  {
   "cell_type": "code",
   "execution_count": 24,
   "id": "55b842e8",
   "metadata": {},
   "outputs": [
    {
     "data": {
      "text/plain": [
       "City\n",
       " San Francisco    50169.0\n",
       " Los Angeles      33247.0\n",
       " New York City    27903.0\n",
       " Boston           22494.0\n",
       " Dallas           16707.0\n",
       " Atlanta          16584.0\n",
       " Seattle          16534.0\n",
       " Portland         14037.0\n",
       " Austin           11137.0\n",
       "Name: Quantity Ordered, dtype: float64"
      ]
     },
     "execution_count": 24,
     "metadata": {},
     "output_type": "execute_result"
    }
   ],
   "source": [
    "df.groupby(\"City\")[\"Quantity Ordered\"].sum().sort_values(ascending=False)"
   ]
  },
  {
   "cell_type": "markdown",
   "id": "8c88b718",
   "metadata": {},
   "source": [
    "#### ¿A qué hora deberíamos mostrar publicidad para maximizar la probabilidad de que los clientes compren el producto?\n",
    "\n",
    "En términos generales, ¿Qué podemos decir de esta pregunta?. Describamos el contexto/dominio"
   ]
  },
  {
   "cell_type": "code",
   "execution_count": 25,
   "id": "7b4b5e50",
   "metadata": {
    "scrolled": true
   },
   "outputs": [],
   "source": [
    "import pandas as pd\n",
    "import matplotlib.pyplot as plt\n",
    "from datetime import datetime\n",
    "\n",
    "# Convertir la columna \"Hora\" al formato datetime\n",
    "df['Hora'] = pd.to_datetime(df['Time'], format='%H:%M:%S')\n",
    "df['Hora_correcto'] = df['Hora'].dt.time\n",
    "\n",
    "# Obtener las horas como números enteros\n",
    "df['Horas_numeros'] = df['Hora'].dt.hour\n"
   ]
  },
  {
   "cell_type": "code",
   "execution_count": 26,
   "id": "5f4e3c76",
   "metadata": {
    "scrolled": true
   },
   "outputs": [
    {
     "data": {
      "text/html": [
       "<div>\n",
       "<style scoped>\n",
       "    .dataframe tbody tr th:only-of-type {\n",
       "        vertical-align: middle;\n",
       "    }\n",
       "\n",
       "    .dataframe tbody tr th {\n",
       "        vertical-align: top;\n",
       "    }\n",
       "\n",
       "    .dataframe thead th {\n",
       "        text-align: right;\n",
       "    }\n",
       "</style>\n",
       "<table border=\"1\" class=\"dataframe\">\n",
       "  <thead>\n",
       "    <tr style=\"text-align: right;\">\n",
       "      <th></th>\n",
       "      <th>Order ID</th>\n",
       "      <th>Product</th>\n",
       "      <th>Quantity Ordered</th>\n",
       "      <th>Price Each</th>\n",
       "      <th>Order Date</th>\n",
       "      <th>Purchase Address</th>\n",
       "      <th>Total Sale</th>\n",
       "      <th>Date</th>\n",
       "      <th>Time</th>\n",
       "      <th>City</th>\n",
       "      <th>State</th>\n",
       "      <th>Zip Code</th>\n",
       "      <th>Year</th>\n",
       "      <th>Month</th>\n",
       "      <th>Hora</th>\n",
       "      <th>Hora_correcto</th>\n",
       "      <th>Horas_numeros</th>\n",
       "    </tr>\n",
       "  </thead>\n",
       "  <tbody>\n",
       "    <tr>\n",
       "      <th>0</th>\n",
       "      <td>176558</td>\n",
       "      <td>USB-C Charging Cable</td>\n",
       "      <td>2</td>\n",
       "      <td>11.953125</td>\n",
       "      <td>2019-04-19 08:46:00</td>\n",
       "      <td>917 1st St, Dallas, TX 75001</td>\n",
       "      <td>23.90625</td>\n",
       "      <td>2019-04-19</td>\n",
       "      <td>08:46:00</td>\n",
       "      <td>Dallas</td>\n",
       "      <td>TX</td>\n",
       "      <td>75001</td>\n",
       "      <td>2019</td>\n",
       "      <td>4</td>\n",
       "      <td>1900-01-01 08:46:00</td>\n",
       "      <td>08:46:00</td>\n",
       "      <td>8</td>\n",
       "    </tr>\n",
       "    <tr>\n",
       "      <th>2</th>\n",
       "      <td>176559</td>\n",
       "      <td>Bose SoundSport Headphones</td>\n",
       "      <td>1</td>\n",
       "      <td>100.000000</td>\n",
       "      <td>2019-07-04 22:30:00</td>\n",
       "      <td>682 Chestnut St, Boston, MA 02215</td>\n",
       "      <td>100.00000</td>\n",
       "      <td>2019-07-04</td>\n",
       "      <td>22:30:00</td>\n",
       "      <td>Boston</td>\n",
       "      <td>MA</td>\n",
       "      <td>02215</td>\n",
       "      <td>2019</td>\n",
       "      <td>7</td>\n",
       "      <td>1900-01-01 22:30:00</td>\n",
       "      <td>22:30:00</td>\n",
       "      <td>22</td>\n",
       "    </tr>\n",
       "  </tbody>\n",
       "</table>\n",
       "</div>"
      ],
      "text/plain": [
       "  Order ID                     Product  Quantity Ordered  Price Each  \\\n",
       "0   176558        USB-C Charging Cable                 2   11.953125   \n",
       "2   176559  Bose SoundSport Headphones                 1  100.000000   \n",
       "\n",
       "           Order Date                   Purchase Address  Total Sale  \\\n",
       "0 2019-04-19 08:46:00       917 1st St, Dallas, TX 75001    23.90625   \n",
       "2 2019-07-04 22:30:00  682 Chestnut St, Boston, MA 02215   100.00000   \n",
       "\n",
       "        Date      Time     City State Zip Code  Year  Month  \\\n",
       "0 2019-04-19  08:46:00   Dallas    TX    75001  2019      4   \n",
       "2 2019-07-04  22:30:00   Boston    MA    02215  2019      7   \n",
       "\n",
       "                 Hora Hora_correcto  Horas_numeros  \n",
       "0 1900-01-01 08:46:00      08:46:00              8  \n",
       "2 1900-01-01 22:30:00      22:30:00             22  "
      ]
     },
     "execution_count": 26,
     "metadata": {},
     "output_type": "execute_result"
    }
   ],
   "source": [
    "df.head(2)"
   ]
  },
  {
   "cell_type": "code",
   "execution_count": 27,
   "id": "1d6e02ca",
   "metadata": {},
   "outputs": [
    {
     "name": "stdout",
     "output_type": "stream",
     "text": [
      "<class 'pandas.core.frame.DataFrame'>\n",
      "Int64Index: 185686 entries, 0 to 186849\n",
      "Data columns (total 17 columns):\n",
      " #   Column            Non-Null Count   Dtype         \n",
      "---  ------            --------------   -----         \n",
      " 0   Order ID          185686 non-null  object        \n",
      " 1   Product           185686 non-null  object        \n",
      " 2   Quantity Ordered  185686 non-null  int16         \n",
      " 3   Price Each        185686 non-null  float16       \n",
      " 4   Order Date        185686 non-null  datetime64[ns]\n",
      " 5   Purchase Address  185686 non-null  object        \n",
      " 6   Total Sale        185686 non-null  float32       \n",
      " 7   Date              185686 non-null  datetime64[ns]\n",
      " 8   Time              185686 non-null  object        \n",
      " 9   City              185686 non-null  object        \n",
      " 10  State             185686 non-null  object        \n",
      " 11  Zip Code          185686 non-null  object        \n",
      " 12  Year              185686 non-null  int64         \n",
      " 13  Month             185686 non-null  int64         \n",
      " 14  Hora              185686 non-null  datetime64[ns]\n",
      " 15  Hora_correcto     185686 non-null  object        \n",
      " 16  Horas_numeros     185686 non-null  int64         \n",
      "dtypes: datetime64[ns](3), float16(1), float32(1), int16(1), int64(3), object(8)\n",
      "memory usage: 22.7+ MB\n"
     ]
    }
   ],
   "source": [
    "df.info()"
   ]
  },
  {
   "cell_type": "code",
   "execution_count": 28,
   "id": "dd977904",
   "metadata": {},
   "outputs": [
    {
     "data": {
      "image/png": "[encoded data removed]",
      "text/plain": [
       "<Figure size 640x480 with 1 Axes>"
      ]
     },
     "metadata": {},
     "output_type": "display_data"
    }
   ],
   "source": [
    "# Crear el histograma de horas\n",
    "plt.hist(df['Horas_numeros'], bins=24, range=(0, 24), edgecolor='white')\n",
    "plt.xticks(range(24))\n",
    "plt.xlabel('Hora')\n",
    "plt.ylabel('Frecuencia')\n",
    "plt.title('Histograma de horas')\n",
    "plt.show()"
   ]
  },
  {
   "cell_type": "code",
   "execution_count": 29,
   "id": "89833b7a",
   "metadata": {},
   "outputs": [
    {
     "data": {
      "text/html": [
       "<div>\n",
       "<style scoped>\n",
       "    .dataframe tbody tr th:only-of-type {\n",
       "        vertical-align: middle;\n",
       "    }\n",
       "\n",
       "    .dataframe tbody tr th {\n",
       "        vertical-align: top;\n",
       "    }\n",
       "\n",
       "    .dataframe thead th {\n",
       "        text-align: right;\n",
       "    }\n",
       "</style>\n",
       "<table border=\"1\" class=\"dataframe\">\n",
       "  <thead>\n",
       "    <tr style=\"text-align: right;\">\n",
       "      <th></th>\n",
       "      <th>Order ID</th>\n",
       "      <th>Product</th>\n",
       "      <th>Quantity Ordered</th>\n",
       "      <th>Price Each</th>\n",
       "      <th>Order Date</th>\n",
       "      <th>Purchase Address</th>\n",
       "      <th>Total Sale</th>\n",
       "      <th>Date</th>\n",
       "      <th>Time</th>\n",
       "      <th>City</th>\n",
       "      <th>State</th>\n",
       "      <th>Zip Code</th>\n",
       "      <th>Year</th>\n",
       "      <th>Month</th>\n",
       "      <th>Hora</th>\n",
       "      <th>Hora_correcto</th>\n",
       "      <th>Horas_numeros</th>\n",
       "    </tr>\n",
       "  </thead>\n",
       "  <tbody>\n",
       "    <tr>\n",
       "      <th>0</th>\n",
       "      <td>176558</td>\n",
       "      <td>USB-C Charging Cable</td>\n",
       "      <td>2</td>\n",
       "      <td>11.953125</td>\n",
       "      <td>2019-04-19 08:46:00</td>\n",
       "      <td>917 1st St, Dallas, TX 75001</td>\n",
       "      <td>23.906250</td>\n",
       "      <td>2019-04-19</td>\n",
       "      <td>08:46:00</td>\n",
       "      <td>Dallas</td>\n",
       "      <td>TX</td>\n",
       "      <td>75001</td>\n",
       "      <td>2019</td>\n",
       "      <td>4</td>\n",
       "      <td>1900-01-01 08:46:00</td>\n",
       "      <td>08:46:00</td>\n",
       "      <td>8</td>\n",
       "    </tr>\n",
       "    <tr>\n",
       "      <th>2</th>\n",
       "      <td>176559</td>\n",
       "      <td>Bose SoundSport Headphones</td>\n",
       "      <td>1</td>\n",
       "      <td>100.000000</td>\n",
       "      <td>2019-07-04 22:30:00</td>\n",
       "      <td>682 Chestnut St, Boston, MA 02215</td>\n",
       "      <td>100.000000</td>\n",
       "      <td>2019-07-04</td>\n",
       "      <td>22:30:00</td>\n",
       "      <td>Boston</td>\n",
       "      <td>MA</td>\n",
       "      <td>02215</td>\n",
       "      <td>2019</td>\n",
       "      <td>7</td>\n",
       "      <td>1900-01-01 22:30:00</td>\n",
       "      <td>22:30:00</td>\n",
       "      <td>22</td>\n",
       "    </tr>\n",
       "    <tr>\n",
       "      <th>3</th>\n",
       "      <td>176560</td>\n",
       "      <td>Google Phone</td>\n",
       "      <td>1</td>\n",
       "      <td>600.000000</td>\n",
       "      <td>2019-12-04 14:38:00</td>\n",
       "      <td>669 Spruce St, Los Angeles, CA 90001</td>\n",
       "      <td>600.000000</td>\n",
       "      <td>2019-12-04</td>\n",
       "      <td>14:38:00</td>\n",
       "      <td>Los Angeles</td>\n",
       "      <td>CA</td>\n",
       "      <td>90001</td>\n",
       "      <td>2019</td>\n",
       "      <td>12</td>\n",
       "      <td>1900-01-01 14:38:00</td>\n",
       "      <td>14:38:00</td>\n",
       "      <td>14</td>\n",
       "    </tr>\n",
       "    <tr>\n",
       "      <th>4</th>\n",
       "      <td>176560</td>\n",
       "      <td>Wired Headphones</td>\n",
       "      <td>1</td>\n",
       "      <td>11.992188</td>\n",
       "      <td>2019-12-04 14:38:00</td>\n",
       "      <td>669 Spruce St, Los Angeles, CA 90001</td>\n",
       "      <td>11.992188</td>\n",
       "      <td>2019-12-04</td>\n",
       "      <td>14:38:00</td>\n",
       "      <td>Los Angeles</td>\n",
       "      <td>CA</td>\n",
       "      <td>90001</td>\n",
       "      <td>2019</td>\n",
       "      <td>12</td>\n",
       "      <td>1900-01-01 14:38:00</td>\n",
       "      <td>14:38:00</td>\n",
       "      <td>14</td>\n",
       "    </tr>\n",
       "    <tr>\n",
       "      <th>5</th>\n",
       "      <td>176561</td>\n",
       "      <td>Wired Headphones</td>\n",
       "      <td>1</td>\n",
       "      <td>11.992188</td>\n",
       "      <td>2019-04-30 09:27:00</td>\n",
       "      <td>333 8th St, Los Angeles, CA 90001</td>\n",
       "      <td>11.992188</td>\n",
       "      <td>2019-04-30</td>\n",
       "      <td>09:27:00</td>\n",
       "      <td>Los Angeles</td>\n",
       "      <td>CA</td>\n",
       "      <td>90001</td>\n",
       "      <td>2019</td>\n",
       "      <td>4</td>\n",
       "      <td>1900-01-01 09:27:00</td>\n",
       "      <td>09:27:00</td>\n",
       "      <td>9</td>\n",
       "    </tr>\n",
       "  </tbody>\n",
       "</table>\n",
       "</div>"
      ],
      "text/plain": [
       "  Order ID                     Product  Quantity Ordered  Price Each  \\\n",
       "0   176558        USB-C Charging Cable                 2   11.953125   \n",
       "2   176559  Bose SoundSport Headphones                 1  100.000000   \n",
       "3   176560                Google Phone                 1  600.000000   \n",
       "4   176560            Wired Headphones                 1   11.992188   \n",
       "5   176561            Wired Headphones                 1   11.992188   \n",
       "\n",
       "           Order Date                      Purchase Address  Total Sale  \\\n",
       "0 2019-04-19 08:46:00          917 1st St, Dallas, TX 75001   23.906250   \n",
       "2 2019-07-04 22:30:00     682 Chestnut St, Boston, MA 02215  100.000000   \n",
       "3 2019-12-04 14:38:00  669 Spruce St, Los Angeles, CA 90001  600.000000   \n",
       "4 2019-12-04 14:38:00  669 Spruce St, Los Angeles, CA 90001   11.992188   \n",
       "5 2019-04-30 09:27:00     333 8th St, Los Angeles, CA 90001   11.992188   \n",
       "\n",
       "        Date      Time          City State Zip Code  Year  Month  \\\n",
       "0 2019-04-19  08:46:00        Dallas    TX    75001  2019      4   \n",
       "2 2019-07-04  22:30:00        Boston    MA    02215  2019      7   \n",
       "3 2019-12-04  14:38:00   Los Angeles    CA    90001  2019     12   \n",
       "4 2019-12-04  14:38:00   Los Angeles    CA    90001  2019     12   \n",
       "5 2019-04-30  09:27:00   Los Angeles    CA    90001  2019      4   \n",
       "\n",
       "                 Hora Hora_correcto  Horas_numeros  \n",
       "0 1900-01-01 08:46:00      08:46:00              8  \n",
       "2 1900-01-01 22:30:00      22:30:00             22  \n",
       "3 1900-01-01 14:38:00      14:38:00             14  \n",
       "4 1900-01-01 14:38:00      14:38:00             14  \n",
       "5 1900-01-01 09:27:00      09:27:00              9  "
      ]
     },
     "execution_count": 29,
     "metadata": {},
     "output_type": "execute_result"
    }
   ],
   "source": [
    "df.head()"
   ]
  },
  {
   "cell_type": "markdown",
   "id": "5b10e63a",
   "metadata": {},
   "source": [
    "#### Hay zonas horarias con mayor venta, ¿Cómo podemos explicarlo?\n",
    "\n",
    "Cómo lo mostramos \"Cuantitativamente\""
   ]
  },
  {
   "cell_type": "code",
   "execution_count": 30,
   "id": "73090c39",
   "metadata": {},
   "outputs": [
    {
     "name": "stdout",
     "output_type": "stream",
     "text": [
      "La hora con más ventas es a las 19:00, con un total de 12886 ventas.\n"
     ]
    }
   ],
   "source": [
    "import pandas as pd\n",
    "\n",
    "# Convertir la columna \"Order Date\" al formato datetime\n",
    "df['Order Date'] = pd.to_datetime(df['Order Date'])\n",
    "\n",
    "# Agrupar los datos por hora y calcular el total de ventas en cada hora\n",
    "sales_by_hour = df.groupby(df['Order Date'].dt.hour)['Order ID'].count()\n",
    "\n",
    "# Obtener la hora con más ventas\n",
    "max_sales_hour = sales_by_hour.idxmax()\n",
    "\n",
    "print(f\"La hora con más ventas es a las {max_sales_hour}:00, con un total de {sales_by_hour.max()} ventas.\")\n"
   ]
  },
  {
   "cell_type": "markdown",
   "id": "415f61fd",
   "metadata": {},
   "source": [
    "#### ¿Qué productos se venden más a menudo juntos?\n",
    "\n",
    "Estrategia para la agrupación de elementos."
   ]
  },
  {
   "cell_type": "code",
   "execution_count": 51,
   "id": "309446e2",
   "metadata": {
    "scrolled": true
   },
   "outputs": [
    {
     "data": {
      "text/html": [
       "<div>\n",
       "<style scoped>\n",
       "    .dataframe tbody tr th:only-of-type {\n",
       "        vertical-align: middle;\n",
       "    }\n",
       "\n",
       "    .dataframe tbody tr th {\n",
       "        vertical-align: top;\n",
       "    }\n",
       "\n",
       "    .dataframe thead th {\n",
       "        text-align: right;\n",
       "    }\n",
       "</style>\n",
       "<table border=\"1\" class=\"dataframe\">\n",
       "  <thead>\n",
       "    <tr style=\"text-align: right;\">\n",
       "      <th></th>\n",
       "      <th>Order ID</th>\n",
       "      <th>Product</th>\n",
       "    </tr>\n",
       "  </thead>\n",
       "  <tbody>\n",
       "    <tr>\n",
       "      <th>0</th>\n",
       "      <td>141234</td>\n",
       "      <td>[iPhone]</td>\n",
       "    </tr>\n",
       "    <tr>\n",
       "      <th>1</th>\n",
       "      <td>141235</td>\n",
       "      <td>[Lightning Charging Cable]</td>\n",
       "    </tr>\n",
       "    <tr>\n",
       "      <th>2</th>\n",
       "      <td>141236</td>\n",
       "      <td>[Wired Headphones]</td>\n",
       "    </tr>\n",
       "    <tr>\n",
       "      <th>3</th>\n",
       "      <td>141237</td>\n",
       "      <td>[27in FHD Monitor]</td>\n",
       "    </tr>\n",
       "    <tr>\n",
       "      <th>4</th>\n",
       "      <td>141238</td>\n",
       "      <td>[Wired Headphones]</td>\n",
       "    </tr>\n",
       "    <tr>\n",
       "      <th>...</th>\n",
       "      <td>...</td>\n",
       "      <td>...</td>\n",
       "    </tr>\n",
       "    <tr>\n",
       "      <th>178432</th>\n",
       "      <td>319666</td>\n",
       "      <td>[Lightning Charging Cable]</td>\n",
       "    </tr>\n",
       "    <tr>\n",
       "      <th>178433</th>\n",
       "      <td>319667</td>\n",
       "      <td>[AA Batteries (4-pack)]</td>\n",
       "    </tr>\n",
       "    <tr>\n",
       "      <th>178434</th>\n",
       "      <td>319668</td>\n",
       "      <td>[Vareebadd Phone]</td>\n",
       "    </tr>\n",
       "    <tr>\n",
       "      <th>178435</th>\n",
       "      <td>319669</td>\n",
       "      <td>[Wired Headphones]</td>\n",
       "    </tr>\n",
       "    <tr>\n",
       "      <th>178436</th>\n",
       "      <td>319670</td>\n",
       "      <td>[Bose SoundSport Headphones]</td>\n",
       "    </tr>\n",
       "  </tbody>\n",
       "</table>\n",
       "<p>178437 rows × 2 columns</p>\n",
       "</div>"
      ],
      "text/plain": [
       "       Order ID                       Product\n",
       "0        141234                      [iPhone]\n",
       "1        141235    [Lightning Charging Cable]\n",
       "2        141236            [Wired Headphones]\n",
       "3        141237            [27in FHD Monitor]\n",
       "4        141238            [Wired Headphones]\n",
       "...         ...                           ...\n",
       "178432   319666    [Lightning Charging Cable]\n",
       "178433   319667       [AA Batteries (4-pack)]\n",
       "178434   319668             [Vareebadd Phone]\n",
       "178435   319669            [Wired Headphones]\n",
       "178436   319670  [Bose SoundSport Headphones]\n",
       "\n",
       "[178437 rows x 2 columns]"
      ]
     },
     "execution_count": 51,
     "metadata": {},
     "output_type": "execute_result"
    }
   ],
   "source": [
    "from itertools import combinations\n",
    "#from collections import Counter\n",
    "\n",
    "# Agrupar los productos por Order ID y convertirlos en tuplas | listas \n",
    "df_grouped = df.groupby('Order ID')['Product'].apply(list).reset_index()\n",
    "df_grouped"
   ]
  },
  {
   "cell_type": "code",
   "execution_count": 59,
   "id": "8e7d61bd",
   "metadata": {},
   "outputs": [
    {
     "data": {
      "text/plain": [
       "(iPhone, Lightning Charging Cable)             1002\n",
       "(Google Phone, USB-C Charging Cable)            985\n",
       "(iPhone, Wired Headphones)                      447\n",
       "(Google Phone, Wired Headphones)                413\n",
       "(Vareebadd Phone, USB-C Charging Cable)         361\n",
       "                                               ... \n",
       "(LG Dryer, 27in FHD Monitor)                      1\n",
       "(LG Washing Machine, AA Batteries (4-pack))       1\n",
       "(Macbook Pro Laptop, Flatscreen TV)               1\n",
       "(Flatscreen TV, 20in Monitor)                     1\n",
       "(Vareebadd Phone, 27in FHD Monitor)               1\n",
       "Name: Product, Length: 302, dtype: int64"
      ]
     },
     "execution_count": 59,
     "metadata": {},
     "output_type": "execute_result"
    }
   ],
   "source": [
    "# Contar la frecuencia de las combinaciones de productos\n",
    "product_combinations = df_grouped['Product'].apply(lambda x: list(combinations(x, 2))).explode().value_counts()\n",
    "product_combinations"
   ]
  },
  {
   "cell_type": "code",
   "execution_count": 60,
   "id": "411b240f",
   "metadata": {},
   "outputs": [
    {
     "name": "stdout",
     "output_type": "stream",
     "text": [
      "(iPhone, Lightning Charging Cable)             1002\n",
      "(Google Phone, USB-C Charging Cable)            985\n",
      "(iPhone, Wired Headphones)                      447\n",
      "(Google Phone, Wired Headphones)                413\n",
      "(Vareebadd Phone, USB-C Charging Cable)         361\n",
      "                                               ... \n",
      "(LG Dryer, 27in FHD Monitor)                      1\n",
      "(LG Washing Machine, AA Batteries (4-pack))       1\n",
      "(Macbook Pro Laptop, Flatscreen TV)               1\n",
      "(Flatscreen TV, 20in Monitor)                     1\n",
      "(Vareebadd Phone, 27in FHD Monitor)               1\n",
      "Name: Combinations, Length: 302, dtype: int64\n"
     ]
    }
   ],
   "source": [
    "import pandas as pd\n",
    "\n",
    "# Supongamos que tienes el DataFrame df con las columnas 'Order ID' y 'Product'\n",
    "\n",
    "# Agrupar los productos por Order ID y convertirlos en listas\n",
    "df_grouped = df.groupby('Order ID')['Product'].apply(list).reset_index()\n",
    "\n",
    "# Crear una función para obtener todas las combinaciones de productos en una lista\n",
    "def obtener_combinaciones(products_list):\n",
    "    return list(combinations(products_list, 2))\n",
    "\n",
    "# Aplicar la función a la columna 'Product' para obtener las combinaciones de cada pedido\n",
    "df_grouped['Combinations'] = df_grouped['Product'].apply(obtener_combinaciones)\n",
    "\n",
    "# Explotar la lista de combinaciones para obtener cada combinación en una fila\n",
    "df_combinations = df_grouped.explode('Combinations')\n",
    "\n",
    "# Contar la frecuencia de las combinaciones de productos\n",
    "product_combinations = df_combinations['Combinations'].value_counts()\n",
    "\n",
    "print(product_combinations)\n"
   ]
  },
  {
   "cell_type": "code",
   "execution_count": 33,
   "id": "664f189e",
   "metadata": {},
   "outputs": [],
   "source": [
    "def top20ProductsPurchasedTogether(df_combinado):\n",
    "    return df_combinado[df_combinado['Order ID'].duplicated(keep = False)].groupby(['Order ID']).agg({'Product':' & '.join}).reset_index().groupby('Product')['Order ID'].count().sort_values(ascending = False)[:20]"
   ]
  },
  {
   "cell_type": "code",
   "execution_count": 34,
   "id": "c72ca779",
   "metadata": {
    "scrolled": true
   },
   "outputs": [
    {
     "data": {
      "text/plain": [
       "Product\n",
       "iPhone & Lightning Charging Cable                         886\n",
       "Google Phone & USB-C Charging Cable                       857\n",
       "iPhone & Wired Headphones                                 361\n",
       "Vareebadd Phone & USB-C Charging Cable                    312\n",
       "Google Phone & Wired Headphones                           303\n",
       "iPhone & Apple Airpods Headphones                         286\n",
       "Google Phone & Bose SoundSport Headphones                 161\n",
       "Vareebadd Phone & Wired Headphones                        104\n",
       "Google Phone & USB-C Charging Cable & Wired Headphones     79\n",
       "Vareebadd Phone & Bose SoundSport Headphones               60\n",
       "iPhone & Lightning Charging Cable & Wired Headphones       56\n",
       "Lightning Charging Cable & USB-C Charging Cable            55\n",
       "Lightning Charging Cable & AA Batteries (4-pack)           52\n",
       "AA Batteries (4-pack) & Lightning Charging Cable           51\n",
       "AAA Batteries (4-pack) & USB-C Charging Cable              50\n",
       "AA Batteries (4-pack) & AAA Batteries (4-pack)             48\n",
       "Apple Airpods Headphones & AAA Batteries (4-pack)          45\n",
       "AA Batteries (4-pack) & Wired Headphones                   44\n",
       "AAA Batteries (4-pack) & Lightning Charging Cable          44\n",
       "Wired Headphones & AAA Batteries (4-pack)                  43\n",
       "Name: Order ID, dtype: int64"
      ]
     },
     "execution_count": 34,
     "metadata": {},
     "output_type": "execute_result"
    }
   ],
   "source": [
    "top20ProductsPurchasedTogether(df_combinado)"
   ]
  },
  {
   "cell_type": "markdown",
   "id": "bb66e667",
   "metadata": {},
   "source": [
    "#### ¿Qué producto se vendió más?"
   ]
  },
  {
   "cell_type": "code",
   "execution_count": 64,
   "id": "81c119c2",
   "metadata": {
    "scrolled": true
   },
   "outputs": [
    {
     "data": {
      "text/plain": [
       "Product\n",
       "AAA Batteries (4-pack)        30986\n",
       "AA Batteries (4-pack)         27615\n",
       "USB-C Charging Cable          23931\n",
       "Lightning Charging Cable      23169\n",
       "Wired Headphones              20524\n",
       "Apple Airpods Headphones      15637\n",
       "Bose SoundSport Headphones    13430\n",
       "27in FHD Monitor               7541\n",
       "iPhone                         6847\n",
       "27in 4K Gaming Monitor         6239\n",
       "34in Ultrawide Monitor         6192\n",
       "Google Phone                   5529\n",
       "Flatscreen TV                  4813\n",
       "Macbook Pro Laptop             4725\n",
       "ThinkPad Laptop                4128\n",
       "20in Monitor                   4126\n",
       "Vareebadd Phone                2068\n",
       "LG Washing Machine              666\n",
       "LG Dryer                        646\n",
       "Name: Quantity Ordered, dtype: int16"
      ]
     },
     "execution_count": 64,
     "metadata": {},
     "output_type": "execute_result"
    }
   ],
   "source": [
    "df.groupby('Product')[\"Quantity Ordered\"].sum().sort_values(ascending=False)"
   ]
  },
  {
   "cell_type": "markdown",
   "id": "388dddb7",
   "metadata": {},
   "source": [
    "#### 💡 ¿Por qué crees que se vendió más?"
   ]
  },
  {
   "cell_type": "code",
   "execution_count": 65,
   "id": "c415571f",
   "metadata": {
    "scrolled": false
   },
   "outputs": [
    {
     "ename": "KeyboardInterrupt",
     "evalue": "",
     "output_type": "error",
     "traceback": [
      "\u001b[1;31m---------------------------------------------------------------------------\u001b[0m",
      "\u001b[1;31mKeyboardInterrupt\u001b[0m                         Traceback (most recent call last)",
      "\u001b[1;32m<ipython-input-65-4e75ee93d263>\u001b[0m in \u001b[0;36m<module>\u001b[1;34m\u001b[0m\n\u001b[0;32m      4\u001b[0m \u001b[1;33m\u001b[0m\u001b[0m\n\u001b[0;32m      5\u001b[0m \u001b[1;31m# Obtener todas las combinaciones de productos en cada pedido\u001b[0m\u001b[1;33m\u001b[0m\u001b[1;33m\u001b[0m\u001b[1;33m\u001b[0m\u001b[0m\n\u001b[1;32m----> 6\u001b[1;33m \u001b[0mdf_combinaciones\u001b[0m \u001b[1;33m=\u001b[0m \u001b[0mdf_mini\u001b[0m\u001b[1;33m.\u001b[0m\u001b[0mgroupby\u001b[0m\u001b[1;33m(\u001b[0m\u001b[1;34m'Order ID'\u001b[0m\u001b[1;33m)\u001b[0m\u001b[1;33m[\u001b[0m\u001b[1;34m'Product'\u001b[0m\u001b[1;33m]\u001b[0m\u001b[1;33m.\u001b[0m\u001b[0mapply\u001b[0m\u001b[1;33m(\u001b[0m\u001b[1;32mlambda\u001b[0m \u001b[0mx\u001b[0m\u001b[1;33m:\u001b[0m \u001b[0mpd\u001b[0m\u001b[1;33m.\u001b[0m\u001b[0mDataFrame\u001b[0m\u001b[1;33m(\u001b[0m\u001b[0mlist\u001b[0m\u001b[1;33m(\u001b[0m\u001b[0mcombinations\u001b[0m\u001b[1;33m(\u001b[0m\u001b[0mx\u001b[0m\u001b[1;33m,\u001b[0m \u001b[1;36m2\u001b[0m\u001b[1;33m)\u001b[0m\u001b[1;33m)\u001b[0m\u001b[1;33m,\u001b[0m \u001b[0mcolumns\u001b[0m\u001b[1;33m=\u001b[0m\u001b[1;33m[\u001b[0m\u001b[1;34m'Producto_1'\u001b[0m\u001b[1;33m,\u001b[0m \u001b[1;34m'Producto_2'\u001b[0m\u001b[1;33m]\u001b[0m\u001b[1;33m)\u001b[0m\u001b[1;33m)\u001b[0m\u001b[1;33m.\u001b[0m\u001b[0mreset_index\u001b[0m\u001b[1;33m(\u001b[0m\u001b[0mdrop\u001b[0m\u001b[1;33m=\u001b[0m\u001b[1;32mTrue\u001b[0m\u001b[1;33m)\u001b[0m\u001b[1;33m\u001b[0m\u001b[1;33m\u001b[0m\u001b[0m\n\u001b[0m\u001b[0;32m      7\u001b[0m \u001b[1;33m\u001b[0m\u001b[0m\n\u001b[0;32m      8\u001b[0m \u001b[1;31m# Contar la frecuencia de las combinaciones de productos\u001b[0m\u001b[1;33m\u001b[0m\u001b[1;33m\u001b[0m\u001b[1;33m\u001b[0m\u001b[0m\n",
      "\u001b[1;32mC:\\ProgramData\\Anaconda3\\lib\\site-packages\\pandas\\core\\groupby\\generic.py\u001b[0m in \u001b[0;36mapply\u001b[1;34m(self, func, *args, **kwargs)\u001b[0m\n\u001b[0;32m    224\u001b[0m     )\n\u001b[0;32m    225\u001b[0m     \u001b[1;32mdef\u001b[0m \u001b[0mapply\u001b[0m\u001b[1;33m(\u001b[0m\u001b[0mself\u001b[0m\u001b[1;33m,\u001b[0m \u001b[0mfunc\u001b[0m\u001b[1;33m,\u001b[0m \u001b[1;33m*\u001b[0m\u001b[0margs\u001b[0m\u001b[1;33m,\u001b[0m \u001b[1;33m**\u001b[0m\u001b[0mkwargs\u001b[0m\u001b[1;33m)\u001b[0m\u001b[1;33m:\u001b[0m\u001b[1;33m\u001b[0m\u001b[1;33m\u001b[0m\u001b[0m\n\u001b[1;32m--> 226\u001b[1;33m         \u001b[1;32mreturn\u001b[0m \u001b[0msuper\u001b[0m\u001b[1;33m(\u001b[0m\u001b[1;33m)\u001b[0m\u001b[1;33m.\u001b[0m\u001b[0mapply\u001b[0m\u001b[1;33m(\u001b[0m\u001b[0mfunc\u001b[0m\u001b[1;33m,\u001b[0m \u001b[1;33m*\u001b[0m\u001b[0margs\u001b[0m\u001b[1;33m,\u001b[0m \u001b[1;33m**\u001b[0m\u001b[0mkwargs\u001b[0m\u001b[1;33m)\u001b[0m\u001b[1;33m\u001b[0m\u001b[1;33m\u001b[0m\u001b[0m\n\u001b[0m\u001b[0;32m    227\u001b[0m \u001b[1;33m\u001b[0m\u001b[0m\n\u001b[0;32m    228\u001b[0m     @doc(\n",
      "\u001b[1;32mC:\\ProgramData\\Anaconda3\\lib\\site-packages\\pandas\\core\\groupby\\groupby.py\u001b[0m in \u001b[0;36mapply\u001b[1;34m(self, func, *args, **kwargs)\u001b[0m\n\u001b[0;32m    857\u001b[0m         \u001b[1;32mwith\u001b[0m \u001b[0moption_context\u001b[0m\u001b[1;33m(\u001b[0m\u001b[1;34m\"mode.chained_assignment\"\u001b[0m\u001b[1;33m,\u001b[0m \u001b[1;32mNone\u001b[0m\u001b[1;33m)\u001b[0m\u001b[1;33m:\u001b[0m\u001b[1;33m\u001b[0m\u001b[1;33m\u001b[0m\u001b[0m\n\u001b[0;32m    858\u001b[0m             \u001b[1;32mtry\u001b[0m\u001b[1;33m:\u001b[0m\u001b[1;33m\u001b[0m\u001b[1;33m\u001b[0m\u001b[0m\n\u001b[1;32m--> 859\u001b[1;33m                 \u001b[0mresult\u001b[0m \u001b[1;33m=\u001b[0m \u001b[0mself\u001b[0m\u001b[1;33m.\u001b[0m\u001b[0m_python_apply_general\u001b[0m\u001b[1;33m(\u001b[0m\u001b[0mf\u001b[0m\u001b[1;33m,\u001b[0m \u001b[0mself\u001b[0m\u001b[1;33m.\u001b[0m\u001b[0m_selected_obj\u001b[0m\u001b[1;33m)\u001b[0m\u001b[1;33m\u001b[0m\u001b[1;33m\u001b[0m\u001b[0m\n\u001b[0m\u001b[0;32m    860\u001b[0m             \u001b[1;32mexcept\u001b[0m \u001b[0mTypeError\u001b[0m\u001b[1;33m:\u001b[0m\u001b[1;33m\u001b[0m\u001b[1;33m\u001b[0m\u001b[0m\n\u001b[0;32m    861\u001b[0m                 \u001b[1;31m# gh-20949\u001b[0m\u001b[1;33m\u001b[0m\u001b[1;33m\u001b[0m\u001b[1;33m\u001b[0m\u001b[0m\n",
      "\u001b[1;32mC:\\ProgramData\\Anaconda3\\lib\\site-packages\\pandas\\core\\groupby\\groupby.py\u001b[0m in \u001b[0;36m_python_apply_general\u001b[1;34m(self, f, data)\u001b[0m\n\u001b[0;32m    890\u001b[0m             \u001b[0mdata\u001b[0m \u001b[0mafter\u001b[0m \u001b[0mapplying\u001b[0m \u001b[0mf\u001b[0m\u001b[1;33m\u001b[0m\u001b[1;33m\u001b[0m\u001b[0m\n\u001b[0;32m    891\u001b[0m         \"\"\"\n\u001b[1;32m--> 892\u001b[1;33m         \u001b[0mkeys\u001b[0m\u001b[1;33m,\u001b[0m \u001b[0mvalues\u001b[0m\u001b[1;33m,\u001b[0m \u001b[0mmutated\u001b[0m \u001b[1;33m=\u001b[0m \u001b[0mself\u001b[0m\u001b[1;33m.\u001b[0m\u001b[0mgrouper\u001b[0m\u001b[1;33m.\u001b[0m\u001b[0mapply\u001b[0m\u001b[1;33m(\u001b[0m\u001b[0mf\u001b[0m\u001b[1;33m,\u001b[0m \u001b[0mdata\u001b[0m\u001b[1;33m,\u001b[0m \u001b[0mself\u001b[0m\u001b[1;33m.\u001b[0m\u001b[0maxis\u001b[0m\u001b[1;33m)\u001b[0m\u001b[1;33m\u001b[0m\u001b[1;33m\u001b[0m\u001b[0m\n\u001b[0m\u001b[0;32m    893\u001b[0m \u001b[1;33m\u001b[0m\u001b[0m\n\u001b[0;32m    894\u001b[0m         return self._wrap_applied_output(\n",
      "\u001b[1;32mC:\\ProgramData\\Anaconda3\\lib\\site-packages\\pandas\\core\\groupby\\ops.py\u001b[0m in \u001b[0;36mapply\u001b[1;34m(self, f, data, axis)\u001b[0m\n\u001b[0;32m    211\u001b[0m             \u001b[1;31m# group might be modified\u001b[0m\u001b[1;33m\u001b[0m\u001b[1;33m\u001b[0m\u001b[1;33m\u001b[0m\u001b[0m\n\u001b[0;32m    212\u001b[0m             \u001b[0mgroup_axes\u001b[0m \u001b[1;33m=\u001b[0m \u001b[0mgroup\u001b[0m\u001b[1;33m.\u001b[0m\u001b[0maxes\u001b[0m\u001b[1;33m\u001b[0m\u001b[1;33m\u001b[0m\u001b[0m\n\u001b[1;32m--> 213\u001b[1;33m             \u001b[0mres\u001b[0m \u001b[1;33m=\u001b[0m \u001b[0mf\u001b[0m\u001b[1;33m(\u001b[0m\u001b[0mgroup\u001b[0m\u001b[1;33m)\u001b[0m\u001b[1;33m\u001b[0m\u001b[1;33m\u001b[0m\u001b[0m\n\u001b[0m\u001b[0;32m    214\u001b[0m             \u001b[1;32mif\u001b[0m \u001b[1;32mnot\u001b[0m \u001b[0m_is_indexed_like\u001b[0m\u001b[1;33m(\u001b[0m\u001b[0mres\u001b[0m\u001b[1;33m,\u001b[0m \u001b[0mgroup_axes\u001b[0m\u001b[1;33m)\u001b[0m\u001b[1;33m:\u001b[0m\u001b[1;33m\u001b[0m\u001b[1;33m\u001b[0m\u001b[0m\n\u001b[0;32m    215\u001b[0m                 \u001b[0mmutated\u001b[0m \u001b[1;33m=\u001b[0m \u001b[1;32mTrue\u001b[0m\u001b[1;33m\u001b[0m\u001b[1;33m\u001b[0m\u001b[0m\n",
      "\u001b[1;32m<ipython-input-65-4e75ee93d263>\u001b[0m in \u001b[0;36m<lambda>\u001b[1;34m(x)\u001b[0m\n\u001b[0;32m      4\u001b[0m \u001b[1;33m\u001b[0m\u001b[0m\n\u001b[0;32m      5\u001b[0m \u001b[1;31m# Obtener todas las combinaciones de productos en cada pedido\u001b[0m\u001b[1;33m\u001b[0m\u001b[1;33m\u001b[0m\u001b[1;33m\u001b[0m\u001b[0m\n\u001b[1;32m----> 6\u001b[1;33m \u001b[0mdf_combinaciones\u001b[0m \u001b[1;33m=\u001b[0m \u001b[0mdf_mini\u001b[0m\u001b[1;33m.\u001b[0m\u001b[0mgroupby\u001b[0m\u001b[1;33m(\u001b[0m\u001b[1;34m'Order ID'\u001b[0m\u001b[1;33m)\u001b[0m\u001b[1;33m[\u001b[0m\u001b[1;34m'Product'\u001b[0m\u001b[1;33m]\u001b[0m\u001b[1;33m.\u001b[0m\u001b[0mapply\u001b[0m\u001b[1;33m(\u001b[0m\u001b[1;32mlambda\u001b[0m \u001b[0mx\u001b[0m\u001b[1;33m:\u001b[0m \u001b[0mpd\u001b[0m\u001b[1;33m.\u001b[0m\u001b[0mDataFrame\u001b[0m\u001b[1;33m(\u001b[0m\u001b[0mlist\u001b[0m\u001b[1;33m(\u001b[0m\u001b[0mcombinations\u001b[0m\u001b[1;33m(\u001b[0m\u001b[0mx\u001b[0m\u001b[1;33m,\u001b[0m \u001b[1;36m2\u001b[0m\u001b[1;33m)\u001b[0m\u001b[1;33m)\u001b[0m\u001b[1;33m,\u001b[0m \u001b[0mcolumns\u001b[0m\u001b[1;33m=\u001b[0m\u001b[1;33m[\u001b[0m\u001b[1;34m'Producto_1'\u001b[0m\u001b[1;33m,\u001b[0m \u001b[1;34m'Producto_2'\u001b[0m\u001b[1;33m]\u001b[0m\u001b[1;33m)\u001b[0m\u001b[1;33m)\u001b[0m\u001b[1;33m.\u001b[0m\u001b[0mreset_index\u001b[0m\u001b[1;33m(\u001b[0m\u001b[0mdrop\u001b[0m\u001b[1;33m=\u001b[0m\u001b[1;32mTrue\u001b[0m\u001b[1;33m)\u001b[0m\u001b[1;33m\u001b[0m\u001b[1;33m\u001b[0m\u001b[0m\n\u001b[0m\u001b[0;32m      7\u001b[0m \u001b[1;33m\u001b[0m\u001b[0m\n\u001b[0;32m      8\u001b[0m \u001b[1;31m# Contar la frecuencia de las combinaciones de productos\u001b[0m\u001b[1;33m\u001b[0m\u001b[1;33m\u001b[0m\u001b[1;33m\u001b[0m\u001b[0m\n",
      "\u001b[1;32mC:\\ProgramData\\Anaconda3\\lib\\site-packages\\pandas\\core\\frame.py\u001b[0m in \u001b[0;36m__init__\u001b[1;34m(self, data, index, columns, dtype, copy)\u001b[0m\n\u001b[0;32m    523\u001b[0m                     \u001b[0mmgr\u001b[0m \u001b[1;33m=\u001b[0m \u001b[0minit_ndarray\u001b[0m\u001b[1;33m(\u001b[0m\u001b[0mdata\u001b[0m\u001b[1;33m,\u001b[0m \u001b[0mindex\u001b[0m\u001b[1;33m,\u001b[0m \u001b[0mcolumns\u001b[0m\u001b[1;33m,\u001b[0m \u001b[0mdtype\u001b[0m\u001b[1;33m=\u001b[0m\u001b[0mdtype\u001b[0m\u001b[1;33m,\u001b[0m \u001b[0mcopy\u001b[0m\u001b[1;33m=\u001b[0m\u001b[0mcopy\u001b[0m\u001b[1;33m)\u001b[0m\u001b[1;33m\u001b[0m\u001b[1;33m\u001b[0m\u001b[0m\n\u001b[0;32m    524\u001b[0m             \u001b[1;32melse\u001b[0m\u001b[1;33m:\u001b[0m\u001b[1;33m\u001b[0m\u001b[1;33m\u001b[0m\u001b[0m\n\u001b[1;32m--> 525\u001b[1;33m                 \u001b[0mmgr\u001b[0m \u001b[1;33m=\u001b[0m \u001b[0minit_dict\u001b[0m\u001b[1;33m(\u001b[0m\u001b[1;33m{\u001b[0m\u001b[1;33m}\u001b[0m\u001b[1;33m,\u001b[0m \u001b[0mindex\u001b[0m\u001b[1;33m,\u001b[0m \u001b[0mcolumns\u001b[0m\u001b[1;33m,\u001b[0m \u001b[0mdtype\u001b[0m\u001b[1;33m=\u001b[0m\u001b[0mdtype\u001b[0m\u001b[1;33m)\u001b[0m\u001b[1;33m\u001b[0m\u001b[1;33m\u001b[0m\u001b[0m\n\u001b[0m\u001b[0;32m    526\u001b[0m         \u001b[1;31m# For data is scalar\u001b[0m\u001b[1;33m\u001b[0m\u001b[1;33m\u001b[0m\u001b[1;33m\u001b[0m\u001b[0m\n\u001b[0;32m    527\u001b[0m         \u001b[1;32melse\u001b[0m\u001b[1;33m:\u001b[0m\u001b[1;33m\u001b[0m\u001b[1;33m\u001b[0m\u001b[0m\n",
      "\u001b[1;32mC:\\ProgramData\\Anaconda3\\lib\\site-packages\\pandas\\core\\internals\\construction.py\u001b[0m in \u001b[0;36minit_dict\u001b[1;34m(data, index, columns, dtype)\u001b[0m\n\u001b[0;32m    248\u001b[0m         \u001b[0mdata_names\u001b[0m \u001b[1;33m=\u001b[0m \u001b[0marrays\u001b[0m\u001b[1;33m.\u001b[0m\u001b[0mindex\u001b[0m\u001b[1;33m\u001b[0m\u001b[1;33m\u001b[0m\u001b[0m\n\u001b[0;32m    249\u001b[0m \u001b[1;33m\u001b[0m\u001b[0m\n\u001b[1;32m--> 250\u001b[1;33m         \u001b[0mmissing\u001b[0m \u001b[1;33m=\u001b[0m \u001b[0marrays\u001b[0m\u001b[1;33m.\u001b[0m\u001b[0misna\u001b[0m\u001b[1;33m(\u001b[0m\u001b[1;33m)\u001b[0m\u001b[1;33m\u001b[0m\u001b[1;33m\u001b[0m\u001b[0m\n\u001b[0m\u001b[0;32m    251\u001b[0m         \u001b[1;32mif\u001b[0m \u001b[0mindex\u001b[0m \u001b[1;32mis\u001b[0m \u001b[1;32mNone\u001b[0m\u001b[1;33m:\u001b[0m\u001b[1;33m\u001b[0m\u001b[1;33m\u001b[0m\u001b[0m\n\u001b[0;32m    252\u001b[0m             \u001b[1;31m# GH10856\u001b[0m\u001b[1;33m\u001b[0m\u001b[1;33m\u001b[0m\u001b[1;33m\u001b[0m\u001b[0m\n",
      "\u001b[1;32mC:\\ProgramData\\Anaconda3\\lib\\site-packages\\pandas\\core\\series.py\u001b[0m in \u001b[0;36misna\u001b[1;34m(self)\u001b[0m\n\u001b[0;32m   4793\u001b[0m     \u001b[1;33m@\u001b[0m\u001b[0mdoc\u001b[0m\u001b[1;33m(\u001b[0m\u001b[0mNDFrame\u001b[0m\u001b[1;33m.\u001b[0m\u001b[0misna\u001b[0m\u001b[1;33m,\u001b[0m \u001b[0mklass\u001b[0m\u001b[1;33m=\u001b[0m\u001b[0m_shared_doc_kwargs\u001b[0m\u001b[1;33m[\u001b[0m\u001b[1;34m\"klass\"\u001b[0m\u001b[1;33m]\u001b[0m\u001b[1;33m)\u001b[0m\u001b[1;33m\u001b[0m\u001b[1;33m\u001b[0m\u001b[0m\n\u001b[0;32m   4794\u001b[0m     \u001b[1;32mdef\u001b[0m \u001b[0misna\u001b[0m\u001b[1;33m(\u001b[0m\u001b[0mself\u001b[0m\u001b[1;33m)\u001b[0m \u001b[1;33m->\u001b[0m \u001b[1;34m\"Series\"\u001b[0m\u001b[1;33m:\u001b[0m\u001b[1;33m\u001b[0m\u001b[1;33m\u001b[0m\u001b[0m\n\u001b[1;32m-> 4795\u001b[1;33m         \u001b[1;32mreturn\u001b[0m \u001b[0msuper\u001b[0m\u001b[1;33m(\u001b[0m\u001b[1;33m)\u001b[0m\u001b[1;33m.\u001b[0m\u001b[0misna\u001b[0m\u001b[1;33m(\u001b[0m\u001b[1;33m)\u001b[0m\u001b[1;33m\u001b[0m\u001b[1;33m\u001b[0m\u001b[0m\n\u001b[0m\u001b[0;32m   4796\u001b[0m \u001b[1;33m\u001b[0m\u001b[0m\n\u001b[0;32m   4797\u001b[0m     \u001b[1;33m@\u001b[0m\u001b[0mdoc\u001b[0m\u001b[1;33m(\u001b[0m\u001b[0mNDFrame\u001b[0m\u001b[1;33m.\u001b[0m\u001b[0misna\u001b[0m\u001b[1;33m,\u001b[0m \u001b[0mklass\u001b[0m\u001b[1;33m=\u001b[0m\u001b[0m_shared_doc_kwargs\u001b[0m\u001b[1;33m[\u001b[0m\u001b[1;34m\"klass\"\u001b[0m\u001b[1;33m]\u001b[0m\u001b[1;33m)\u001b[0m\u001b[1;33m\u001b[0m\u001b[1;33m\u001b[0m\u001b[0m\n",
      "\u001b[1;32mC:\\ProgramData\\Anaconda3\\lib\\site-packages\\pandas\\core\\generic.py\u001b[0m in \u001b[0;36misna\u001b[1;34m(self)\u001b[0m\n\u001b[0;32m   7119\u001b[0m         \u001b[0mdtype\u001b[0m\u001b[1;33m:\u001b[0m \u001b[0mbool\u001b[0m\u001b[1;33m\u001b[0m\u001b[1;33m\u001b[0m\u001b[0m\n\u001b[0;32m   7120\u001b[0m         \"\"\"\n\u001b[1;32m-> 7121\u001b[1;33m         \u001b[1;32mreturn\u001b[0m \u001b[0misna\u001b[0m\u001b[1;33m(\u001b[0m\u001b[0mself\u001b[0m\u001b[1;33m)\u001b[0m\u001b[1;33m.\u001b[0m\u001b[0m__finalize__\u001b[0m\u001b[1;33m(\u001b[0m\u001b[0mself\u001b[0m\u001b[1;33m,\u001b[0m \u001b[0mmethod\u001b[0m\u001b[1;33m=\u001b[0m\u001b[1;34m\"isna\"\u001b[0m\u001b[1;33m)\u001b[0m\u001b[1;33m\u001b[0m\u001b[1;33m\u001b[0m\u001b[0m\n\u001b[0m\u001b[0;32m   7122\u001b[0m \u001b[1;33m\u001b[0m\u001b[0m\n\u001b[0;32m   7123\u001b[0m     \u001b[1;33m@\u001b[0m\u001b[0mdoc\u001b[0m\u001b[1;33m(\u001b[0m\u001b[0misna\u001b[0m\u001b[1;33m,\u001b[0m \u001b[0mklass\u001b[0m\u001b[1;33m=\u001b[0m\u001b[0m_shared_doc_kwargs\u001b[0m\u001b[1;33m[\u001b[0m\u001b[1;34m\"klass\"\u001b[0m\u001b[1;33m]\u001b[0m\u001b[1;33m)\u001b[0m\u001b[1;33m\u001b[0m\u001b[1;33m\u001b[0m\u001b[0m\n",
      "\u001b[1;32mC:\\ProgramData\\Anaconda3\\lib\\site-packages\\pandas\\core\\dtypes\\missing.py\u001b[0m in \u001b[0;36misna\u001b[1;34m(obj)\u001b[0m\n\u001b[0;32m    122\u001b[0m     \u001b[0mName\u001b[0m\u001b[1;33m:\u001b[0m \u001b[1;36m1\u001b[0m\u001b[1;33m,\u001b[0m \u001b[0mdtype\u001b[0m\u001b[1;33m:\u001b[0m \u001b[0mbool\u001b[0m\u001b[1;33m\u001b[0m\u001b[1;33m\u001b[0m\u001b[0m\n\u001b[0;32m    123\u001b[0m     \"\"\"\n\u001b[1;32m--> 124\u001b[1;33m     \u001b[1;32mreturn\u001b[0m \u001b[0m_isna\u001b[0m\u001b[1;33m(\u001b[0m\u001b[0mobj\u001b[0m\u001b[1;33m)\u001b[0m\u001b[1;33m\u001b[0m\u001b[1;33m\u001b[0m\u001b[0m\n\u001b[0m\u001b[0;32m    125\u001b[0m \u001b[1;33m\u001b[0m\u001b[0m\n\u001b[0;32m    126\u001b[0m \u001b[1;33m\u001b[0m\u001b[0m\n",
      "\u001b[1;32mC:\\ProgramData\\Anaconda3\\lib\\site-packages\\pandas\\core\\dtypes\\missing.py\u001b[0m in \u001b[0;36m_isna\u001b[1;34m(obj, inf_as_na)\u001b[0m\n\u001b[0;32m    155\u001b[0m         \u001b[1;32mreturn\u001b[0m \u001b[1;32mFalse\u001b[0m\u001b[1;33m\u001b[0m\u001b[1;33m\u001b[0m\u001b[0m\n\u001b[0;32m    156\u001b[0m     \u001b[1;32melif\u001b[0m \u001b[0misinstance\u001b[0m\u001b[1;33m(\u001b[0m\u001b[0mobj\u001b[0m\u001b[1;33m,\u001b[0m \u001b[1;33m(\u001b[0m\u001b[0mABCSeries\u001b[0m\u001b[1;33m,\u001b[0m \u001b[0mnp\u001b[0m\u001b[1;33m.\u001b[0m\u001b[0mndarray\u001b[0m\u001b[1;33m,\u001b[0m \u001b[0mABCIndexClass\u001b[0m\u001b[1;33m,\u001b[0m \u001b[0mABCExtensionArray\u001b[0m\u001b[1;33m)\u001b[0m\u001b[1;33m)\u001b[0m\u001b[1;33m:\u001b[0m\u001b[1;33m\u001b[0m\u001b[1;33m\u001b[0m\u001b[0m\n\u001b[1;32m--> 157\u001b[1;33m         \u001b[1;32mreturn\u001b[0m \u001b[0m_isna_ndarraylike\u001b[0m\u001b[1;33m(\u001b[0m\u001b[0mobj\u001b[0m\u001b[1;33m,\u001b[0m \u001b[0minf_as_na\u001b[0m\u001b[1;33m=\u001b[0m\u001b[0minf_as_na\u001b[0m\u001b[1;33m)\u001b[0m\u001b[1;33m\u001b[0m\u001b[1;33m\u001b[0m\u001b[0m\n\u001b[0m\u001b[0;32m    158\u001b[0m     \u001b[1;32melif\u001b[0m \u001b[0misinstance\u001b[0m\u001b[1;33m(\u001b[0m\u001b[0mobj\u001b[0m\u001b[1;33m,\u001b[0m \u001b[0mABCDataFrame\u001b[0m\u001b[1;33m)\u001b[0m\u001b[1;33m:\u001b[0m\u001b[1;33m\u001b[0m\u001b[1;33m\u001b[0m\u001b[0m\n\u001b[0;32m    159\u001b[0m         \u001b[1;32mreturn\u001b[0m \u001b[0mobj\u001b[0m\u001b[1;33m.\u001b[0m\u001b[0misna\u001b[0m\u001b[1;33m(\u001b[0m\u001b[1;33m)\u001b[0m\u001b[1;33m\u001b[0m\u001b[1;33m\u001b[0m\u001b[0m\n",
      "\u001b[1;32mC:\\ProgramData\\Anaconda3\\lib\\site-packages\\pandas\\core\\dtypes\\missing.py\u001b[0m in \u001b[0;36m_isna_ndarraylike\u001b[1;34m(obj, inf_as_na)\u001b[0m\n\u001b[0;32m    216\u001b[0m             \u001b[0mresult\u001b[0m \u001b[1;33m=\u001b[0m \u001b[0mvalues\u001b[0m\u001b[1;33m.\u001b[0m\u001b[0misna\u001b[0m\u001b[1;33m(\u001b[0m\u001b[1;33m)\u001b[0m\u001b[1;33m\u001b[0m\u001b[1;33m\u001b[0m\u001b[0m\n\u001b[0;32m    217\u001b[0m     \u001b[1;32melif\u001b[0m \u001b[0mis_string_dtype\u001b[0m\u001b[1;33m(\u001b[0m\u001b[0mdtype\u001b[0m\u001b[1;33m)\u001b[0m\u001b[1;33m:\u001b[0m\u001b[1;33m\u001b[0m\u001b[1;33m\u001b[0m\u001b[0m\n\u001b[1;32m--> 218\u001b[1;33m         \u001b[0mresult\u001b[0m \u001b[1;33m=\u001b[0m \u001b[0m_isna_string_dtype\u001b[0m\u001b[1;33m(\u001b[0m\u001b[0mvalues\u001b[0m\u001b[1;33m,\u001b[0m \u001b[0mdtype\u001b[0m\u001b[1;33m,\u001b[0m \u001b[0minf_as_na\u001b[0m\u001b[1;33m=\u001b[0m\u001b[0minf_as_na\u001b[0m\u001b[1;33m)\u001b[0m\u001b[1;33m\u001b[0m\u001b[1;33m\u001b[0m\u001b[0m\n\u001b[0m\u001b[0;32m    219\u001b[0m     \u001b[1;32melif\u001b[0m \u001b[0mneeds_i8_conversion\u001b[0m\u001b[1;33m(\u001b[0m\u001b[0mdtype\u001b[0m\u001b[1;33m)\u001b[0m\u001b[1;33m:\u001b[0m\u001b[1;33m\u001b[0m\u001b[1;33m\u001b[0m\u001b[0m\n\u001b[0;32m    220\u001b[0m         \u001b[1;31m# this is the NaT pattern\u001b[0m\u001b[1;33m\u001b[0m\u001b[1;33m\u001b[0m\u001b[1;33m\u001b[0m\u001b[0m\n",
      "\u001b[1;32mC:\\ProgramData\\Anaconda3\\lib\\site-packages\\pandas\\core\\dtypes\\missing.py\u001b[0m in \u001b[0;36m_isna_string_dtype\u001b[1;34m(values, dtype, inf_as_na)\u001b[0m\n\u001b[0;32m    248\u001b[0m             \u001b[0mvec\u001b[0m \u001b[1;33m=\u001b[0m \u001b[0mlibmissing\u001b[0m\u001b[1;33m.\u001b[0m\u001b[0misnaobj\u001b[0m\u001b[1;33m(\u001b[0m\u001b[0mvalues\u001b[0m\u001b[1;33m.\u001b[0m\u001b[0mravel\u001b[0m\u001b[1;33m(\u001b[0m\u001b[1;33m)\u001b[0m\u001b[1;33m)\u001b[0m\u001b[1;33m\u001b[0m\u001b[1;33m\u001b[0m\u001b[0m\n\u001b[0;32m    249\u001b[0m \u001b[1;33m\u001b[0m\u001b[0m\n\u001b[1;32m--> 250\u001b[1;33m         \u001b[0mresult\u001b[0m\u001b[1;33m[\u001b[0m\u001b[1;33m...\u001b[0m\u001b[1;33m]\u001b[0m \u001b[1;33m=\u001b[0m \u001b[0mvec\u001b[0m\u001b[1;33m.\u001b[0m\u001b[0mreshape\u001b[0m\u001b[1;33m(\u001b[0m\u001b[0mshape\u001b[0m\u001b[1;33m)\u001b[0m\u001b[1;33m\u001b[0m\u001b[1;33m\u001b[0m\u001b[0m\n\u001b[0m\u001b[0;32m    251\u001b[0m \u001b[1;33m\u001b[0m\u001b[0m\n\u001b[0;32m    252\u001b[0m     \u001b[1;32mreturn\u001b[0m \u001b[0mresult\u001b[0m\u001b[1;33m\u001b[0m\u001b[1;33m\u001b[0m\u001b[0m\n",
      "\u001b[1;31mKeyboardInterrupt\u001b[0m: "
     ]
    }
   ],
   "source": [
    "import pandas as pd\n",
    "\n",
    "df_mini = df.head(5000)\n",
    "\n",
    "# Obtener todas las combinaciones de productos en cada pedido\n",
    "df_combinaciones = df_mini.groupby('Order ID')['Product'].apply(lambda x: pd.DataFrame(list(combinations(x, 2)), columns=['Producto_1', 'Producto_2'])).reset_index(drop=True)\n",
    "\n",
    "# Contar la frecuencia de las combinaciones de productos\n",
    "top_items_vendidos_en_conjunto = df_combinaciones.value_counts().head(20)\n",
    "\n",
    "print(top_items_vendidos_en_conjunto)"
   ]
  },
  {
   "cell_type": "code",
   "execution_count": null,
   "id": "c7265a1b",
   "metadata": {},
   "outputs": [],
   "source": [
    "import pandas as pd\n",
    "# Filtrar los pedidos que tienen al menos dos productos idénticos (productos comprados juntos)\n",
    "df_duplicates = df_combinado[df_combinado.duplicated(subset='Order ID', keep=False)]\n",
    "# Contar la frecuencia de las combinaciones de productos\n",
    "top_items_vendidos_en_conjunto = df_duplicates.groupby('Product')['Order ID'].count().sort_values(ascending=False).head(20)\n",
    "print(top_items_vendidos_en_conjunto)"
   ]
  },
  {
   "cell_type": "code",
   "execution_count": 63,
   "id": "32376760",
   "metadata": {},
   "outputs": [
    {
     "name": "stdout",
     "output_type": "stream",
     "text": [
      "(iPhone, Lightning Charging Cable)                      1002\n",
      "(Google Phone, USB-C Charging Cable)                     985\n",
      "(iPhone, Wired Headphones)                               447\n",
      "(Google Phone, Wired Headphones)                         413\n",
      "(Vareebadd Phone, USB-C Charging Cable)                  361\n",
      "(iPhone, Apple Airpods Headphones)                       360\n",
      "(Google Phone, Bose SoundSport Headphones)               220\n",
      "(USB-C Charging Cable, Wired Headphones)                 159\n",
      "(Vareebadd Phone, Wired Headphones)                      143\n",
      "(Lightning Charging Cable, Wired Headphones)              92\n",
      "(Lightning Charging Cable, Apple Airpods Headphones)      81\n",
      "(Vareebadd Phone, Bose SoundSport Headphones)             80\n",
      "(USB-C Charging Cable, Bose SoundSport Headphones)        77\n",
      "(Apple Airpods Headphones, Wired Headphones)              69\n",
      "(Lightning Charging Cable, USB-C Charging Cable)          58\n",
      "(Lightning Charging Cable, AA Batteries (4-pack))         55\n",
      "(Bose SoundSport Headphones, Wired Headphones)            53\n",
      "(AA Batteries (4-pack), Lightning Charging Cable)         51\n",
      "(AAA Batteries (4-pack), USB-C Charging Cable)            50\n",
      "(Apple Airpods Headphones, AAA Batteries (4-pack))        48\n",
      "Name: Product, dtype: int64\n"
     ]
    }
   ],
   "source": [
    "from itertools import combinations\n",
    "import pandas as pd\n",
    "\n",
    "# Supongamos que tienes el DataFrame df_combinado con las columnas 'Order ID' y 'Product'\n",
    "\n",
    "# Obtener todas las combinaciones de productos en cada pedido\n",
    "df_grouped = df_combinado.groupby('Order ID')['Product'].apply(list)\n",
    "product_combinations = df_grouped.apply(lambda x: list(combinations(x, 2))).explode()\n",
    "\n",
    "# Contar la frecuencia de las combinaciones de productos\n",
    "top_items_vendidos_en_conjunto = product_combinations.value_counts().head(20)\n",
    "\n",
    "print(top_items_vendidos_en_conjunto)\n"
   ]
  },
  {
   "cell_type": "code",
   "execution_count": null,
   "id": "13689060",
   "metadata": {},
   "outputs": [],
   "source": []
  },
  {
   "cell_type": "code",
   "execution_count": null,
   "id": "a5abfdb6",
   "metadata": {},
   "outputs": [],
   "source": []
  }
 ],
 "metadata": {
  "kernelspec": {
   "display_name": "Python 3",
   "language": "python",
   "name": "python3"
  },
  "language_info": {
   "codemirror_mode": {
    "name": "ipython",
    "version": 3
   },
   "file_extension": ".py",
   "mimetype": "text/x-python",
   "name": "python",
   "nbconvert_exporter": "python",
   "pygments_lexer": "ipython3",
   "version": "3.7.6"
  }
 },
 "nbformat": 4,
 "nbformat_minor": 5
}
