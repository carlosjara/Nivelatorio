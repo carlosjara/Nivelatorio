{
 "cells": [
  {
   "cell_type": "markdown",
   "id": "d2372ac0",
   "metadata": {},
   "source": [
    "#### https://www.kaggle.com/datasets/martinaltamar/historico-peajes-colombia-trafico-y-recaudo\n",
    "# https://geoportal.dane.gov.co/servicios/descarga-y-metadatos/datos-geoestadisticos/?cod=4"
   ]
  }
 ],
 "metadata": {
  "kernelspec": {
   "display_name": "Python 3",
   "language": "python",
   "name": "python3"
  },
  "language_info": {
   "codemirror_mode": {
    "name": "ipython",
    "version": 3
   },
   "file_extension": ".py",
   "mimetype": "text/x-python",
   "name": "python",
   "nbconvert_exporter": "python",
   "pygments_lexer": "ipython3",
   "version": "3.7.6"
  }
 },
 "nbformat": 4,
 "nbformat_minor": 5
}
